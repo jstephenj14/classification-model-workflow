{
 "cells": [
  {
   "cell_type": "code",
   "execution_count": 2,
   "metadata": {},
   "outputs": [],
   "source": [
    "import numpy as np\n",
    "import pandas as pd \n",
    "import matplotlib.pyplot as plt \n",
    "import seaborn as sns \n",
    "\n",
    "from sklearn.preprocessing import StandardScaler \n",
    "from sklearn.decomposition import PCA \n",
    "from sklearn.model_selection import train_test_split \n",
    "from sklearn.linear_model import LogisticRegression \n",
    "from sklearn.ensemble import RandomForestClassifier\n",
    "from sklearn.ensemble import GradientBoostingClassifier \n",
    "from sklearn.neighbors import KNeighborsClassifier \n",
    "from xgboost.sklearn import XGBClassifier\n",
    "\n",
    "from sklearn.model_selection import cross_val_score\n",
    "from sklearn.metrics import precision_score, recall_score, f1_score\n",
    "from sklearn.metrics import confusion_matrix as CM \n",
    "from sklearn import model_selection \n",
    "from sklearn.model_selection import learning_curve \n",
    "from sklearn.metrics import precision_recall_curve \n",
    "\n",
    "from imblearn.over_sampling import SMOTE\n",
    "from xgboost import XGBClassifier\n",
    "%matplotlib inline"
   ]
  },
  {
   "cell_type": "code",
   "execution_count": 7,
   "metadata": {},
   "outputs": [],
   "source": [
    "# data generation\n",
    "data = pd.read_csv(\"C:/Users/jstep/Downloads/german_credit_data/german.data\", sep=\" \",header=None)\n",
    "col_mapping = {0:\"checking_account\", \n",
    "               1:\"duration\",\n",
    "               2:\"credit_history\",\n",
    "               3:\"purpose\",\n",
    "               4:\"credit_amt\",\n",
    "               5:\"savings_acct\",\n",
    "               6:\"employment\",\n",
    "               7:\"installment_rate_percent\",\n",
    "               8:\"gender_status\",\n",
    "               9:\"other_debtors\",\n",
    "              10:\"residence_since\",\n",
    "              11:\"property\",\n",
    "              12:\"age\",\n",
    "              13:\"other_installment_plans\",\n",
    "              14:\"housing\",\n",
    "              15:\"no_existing_credits\",\n",
    "              16:\"job\",\n",
    "              17:\"no_people_liable\",\n",
    "              18:\"has_telephone\",\n",
    "              19:\"is_foreign_worker\",\n",
    "              20:\"good_bad\"}\n",
    "data.columns = [col_mapping[col] for col in data.columns]\n",
    "data[\"good_bad\"] = np.where(data[\"good_bad\"] == 2, 1, 0)\n",
    "data = pd.get_dummies(data, drop_first=True)\n",
    "\n",
    "# \n",
    "bad_data = data[data[\"good_bad\"] == 1]\n",
    "good_data = data[data[\"good_bad\"] == 0]\n",
    "small_sample_bad_data = bad_data.sample(50)\n",
    "final_data = pd.concat([good_data,small_sample_bad_data], axis=0)\n"
   ]
  },
  {
   "cell_type": "code",
   "execution_count": 10,
   "metadata": {},
   "outputs": [],
   "source": [
    "predictors = [c for c in final_data.columns if c != 'good_bad']\n",
    "target = 'good_bad'"
   ]
  },
  {
   "cell_type": "code",
   "execution_count": 12,
   "metadata": {},
   "outputs": [],
   "source": [
    "X = final_data[predictors].values\n",
    "y = final_data[\"good_bad\"].values"
   ]
  },
  {
   "cell_type": "code",
   "execution_count": 32,
   "metadata": {},
   "outputs": [
    {
     "name": "stderr",
     "output_type": "stream",
     "text": [
      "\n",
      "  0%|          | 0/7 [00:00<?, ?it/s]"
     ]
    },
    {
     "name": "stdout",
     "output_type": "stream",
     "text": [
      "k=1\n",
      "\n",
      "mean recall: 0.44000000000000006\n",
      "\n",
      "[0.2 0.6 0.4 0.4 0.6 0.  0.2 0.8 0.4 0.8]\n"
     ]
    },
    {
     "name": "stderr",
     "output_type": "stream",
     "text": [
      "\n",
      " 14%|█▍        | 1/7 [00:07<00:47,  7.94s/it]"
     ]
    },
    {
     "name": "stdout",
     "output_type": "stream",
     "text": [
      "k=2\n",
      "\n",
      "mean recall: 0.4\n",
      "\n",
      "[0.2 0.6 0.4 0.8 0.2 0.4 0.2 0.4 0.6 0.2]\n"
     ]
    },
    {
     "name": "stderr",
     "output_type": "stream",
     "text": [
      "\n",
      " 29%|██▊       | 2/7 [00:15<00:39,  7.83s/it]"
     ]
    },
    {
     "name": "stdout",
     "output_type": "stream",
     "text": [
      "k=3\n",
      "\n",
      "mean recall: 0.48\n",
      "\n",
      "[0.6 0.6 0.6 0.2 0.6 0.4 0.2 0.4 0.4 0.8]\n"
     ]
    },
    {
     "name": "stderr",
     "output_type": "stream",
     "text": [
      "\n",
      " 43%|████▎     | 3/7 [00:23<00:31,  7.98s/it]"
     ]
    },
    {
     "name": "stdout",
     "output_type": "stream",
     "text": [
      "k=4\n",
      "\n",
      "mean recall: 0.4999999999999999\n",
      "\n",
      "[0.4 0.6 0.6 0.4 0.4 0.4 0.4 0.6 0.6 0.6]\n"
     ]
    },
    {
     "name": "stderr",
     "output_type": "stream",
     "text": [
      "\n",
      " 57%|█████▋    | 4/7 [00:32<00:24,  8.24s/it]"
     ]
    },
    {
     "name": "stdout",
     "output_type": "stream",
     "text": [
      "k=5\n",
      "\n",
      "mean recall: 0.5399999999999999\n",
      "\n",
      "[0.6 0.6 0.6 0.6 0.6 0.2 0.4 0.6 0.6 0.6]\n"
     ]
    },
    {
     "name": "stderr",
     "output_type": "stream",
     "text": [
      "\n",
      " 71%|███████▏  | 5/7 [00:41<00:16,  8.45s/it]"
     ]
    },
    {
     "name": "stdout",
     "output_type": "stream",
     "text": [
      "k=6\n",
      "\n",
      "mean recall: 0.52\n",
      "\n",
      "[0.6 0.8 0.4 0.6 0.6 0.2 0.2 0.8 0.6 0.4]\n"
     ]
    },
    {
     "name": "stderr",
     "output_type": "stream",
     "text": [
      "\n",
      " 86%|████████▌ | 6/7 [00:49<00:08,  8.40s/it]"
     ]
    },
    {
     "name": "stdout",
     "output_type": "stream",
     "text": [
      "k=7\n",
      "\n",
      "mean recall: 0.48\n",
      "\n",
      "[0.4 0.8 0.8 0.4 0.2 0.2 0.4 0.6 0.4 0.6]\n"
     ]
    },
    {
     "name": "stderr",
     "output_type": "stream",
     "text": [
      "\n",
      "100%|██████████| 7/7 [00:57<00:00,  8.22s/it]"
     ]
    }
   ],
   "source": [
    "from tqdm import tqdm\n",
    "k_values = [1, 2, 3, 4, 5, 6, 7]\n",
    "for k in tqdm(k_values):\n",
    "    model = XGBClassifier(learning_rate = 0.01, n_estimators=2000, \n",
    "                            max_depth=20, objective = \"binary:logistic\")\n",
    "    over = SMOTE(sampling_strategy=0.1, k_neighbors=k)\n",
    "    under = RandomUnderSampler(sampling_strategy=0.5)\n",
    "    steps = [('over', over), ('under', under), ('model', model)]\n",
    "\n",
    "    pipeline = Pipeline(steps=steps)\n",
    "    cv = RepeatedStratifiedKFold(n_splits=10, n_repeats=1, random_state=1)\n",
    "    scores_over = cross_val_score(pipeline, X, y, scoring='recall', cv=cv, n_jobs=-1)\n",
    "    print(f\"k={k}\\n\")\n",
    "    print(f\"mean recall: {np.mean(scores_over)}\\n\")\n",
    "    print(scores_over)"
   ]
  },
  {
   "cell_type": "code",
   "execution_count": null,
   "metadata": {},
   "outputs": [],
   "source": [
    "# k=5 is best\n",
    "# now build a model and check precision"
   ]
  },
  {
   "cell_type": "code",
   "execution_count": 106,
   "metadata": {},
   "outputs": [
    {
     "name": "stderr",
     "output_type": "stream",
     "text": [
      "C:\\Users\\jstep\\AppData\\Roaming\\Python\\Python37\\site-packages\\sklearn\\utils\\validation.py:72: FutureWarning: Pass labels=[0 1] as keyword args. From version 1.0 (renaming of 0.25) passing these as positional arguments will result in an error\n",
      "  \"will result in an error\", FutureWarning)\n"
     ]
    },
    {
     "name": "stdout",
     "output_type": "stream",
     "text": [
      "confusion_matrix: \n",
      " [[187  24]\n",
      " [  8   6]]\n",
      "precision: 20%\n",
      "recall: 43%\n"
     ]
    }
   ],
   "source": [
    "model = XGBClassifier(learning_rate = 0.01, n_estimators=2000, \n",
    "                        max_depth=20, objective = \"binary:logistic\")\n",
    "over = SMOTE(sampling_strategy=0.1, k_neighbors=5)\n",
    "under = RandomUnderSampler(sampling_strategy=0.5)\n",
    "steps = [('over', over), ('under', under), ('model', model)]\n",
    "\n",
    "pipeline = Pipeline(steps=steps)\n",
    "X_train, X_test, y_train, y_test = train_test_split(X, y, test_size = 0.3)\n",
    "pipeline.fit(X_train, y_train)\n",
    "\n",
    "yhat_test =pipeline.predict(X_test)\n",
    "yhat_test_prob = pipeline.predict_proba(X_test)[:,1]  \n",
    "\n",
    "# yhat_test = np.where(yhat_test_prob>0.5,1,0)\n",
    "\n",
    "confusion_matrix = CM(y_test,  yhat_test, np.unique(y_train))\n",
    "\n",
    "precision = round(precision_score(y_test, yhat_test, average='binary')*100)\n",
    "recall = round(recall_score(y_test, yhat_test, average='binary')*100)\n",
    "\n",
    "print(f\"confusion_matrix: \\n {confusion_matrix}\")\n",
    "print(f\"precision: {precision}%\")\n",
    "print(f\"recall: {recall}%\")"
   ]
  },
  {
   "cell_type": "code",
   "execution_count": 108,
   "metadata": {},
   "outputs": [
    {
     "data": {
      "text/plain": [
       "Text(0, 0.5, 'Proportion')"
      ]
     },
     "execution_count": 108,
     "metadata": {},
     "output_type": "execute_result"
    },
    {
     "data": {
      "image/png": "[encoded data removed]",
      "text/plain": [
       "<Figure size 720x720 with 1 Axes>"
      ]
     },
     "metadata": {
      "needs_background": "light"
     },
     "output_type": "display_data"
    }
   ],
   "source": [
    "precision_ls, recall_ls, thresholds_ls = precision_recall_curve(y_test, yhat_test_prob)\n",
    "thresholds_ls = np.append(thresholds_ls, 1)\n",
    "plt.figure(figsize=(10,10))\n",
    "plt.plot(thresholds_ls, precision_ls)\n",
    "plt.plot(thresholds_ls, recall_ls)\n",
    "Legend = plt.legend(('precision', 'recall'), frameon=True, loc='best') \n",
    "Legend.get_frame().set_edgecolor('k')  \n",
    "plt.xlabel('Threshold')  \n",
    "plt.ylabel('Proportion') "
   ]
  },
  {
   "cell_type": "code",
   "execution_count": 109,
   "metadata": {},
   "outputs": [
    {
     "data": {
      "text/plain": [
       "Text(0, 0.5, 'precision')"
      ]
     },
     "execution_count": 109,
     "metadata": {},
     "output_type": "execute_result"
    },
    {
     "data": {
      "image/png": "[encoded data removed]",
      "text/plain": [
       "<Figure size 432x288 with 1 Axes>"
      ]
     },
     "metadata": {
      "needs_background": "light"
     },
     "output_type": "display_data"
    }
   ],
   "source": [
    "plt.plot(recall_ls, precision_ls)\n",
    "plt.xlabel('recall')  \n",
    "plt.ylabel('precision') "
   ]
  },
  {
   "cell_type": "code",
   "execution_count": 110,
   "metadata": {},
   "outputs": [],
   "source": [
    "pd.set_option('display.max_rows', 500)\n",
    "recall_precision_data = pd.DataFrame({\"Recall\":recall_ls, \n",
    "              \"Precision\":precision_ls,\n",
    "              \"Threshold\":thresholds_ls})"
   ]
  },
  {
   "cell_type": "code",
   "execution_count": 111,
   "metadata": {},
   "outputs": [],
   "source": [
    "# for a given threshold, calculate tp,tn,fp,fn\n",
    "test_vs_hat = pd.DataFrame({\"y_test\":y_test, \"yhat_test_prob\":yhat_test_prob})"
   ]
  },
  {
   "cell_type": "code",
   "execution_count": 133,
   "metadata": {},
   "outputs": [
    {
     "name": "stderr",
     "output_type": "stream",
     "text": [
      "C:\\Users\\jstep\\AppData\\Roaming\\Python\\Python37\\site-packages\\sklearn\\utils\\validation.py:72: FutureWarning: Pass labels=[0 1] as keyword args. From version 1.0 (renaming of 0.25) passing these as positional arguments will result in an error\n",
      "  \"will result in an error\", FutureWarning)\n"
     ]
    },
    {
     "name": "stdout",
     "output_type": "stream",
     "text": [
      "8\n",
      "100\n",
      "0.009160001762211323\n",
      "[[ 40 171]\n",
      " [  0  14]]\n"
     ]
    },
    {
     "name": "stderr",
     "output_type": "stream",
     "text": [
      "C:\\Users\\jstep\\AppData\\Roaming\\Python\\Python37\\site-packages\\sklearn\\utils\\validation.py:72: FutureWarning: Pass labels=[0 1] as keyword args. From version 1.0 (renaming of 0.25) passing these as positional arguments will result in an error\n",
      "  \"will result in an error\", FutureWarning)\n"
     ]
    },
    {
     "name": "stdout",
     "output_type": "stream",
     "text": [
      "7\n",
      "93\n",
      "0.009163160808384418\n",
      "[[ 40 171]\n",
      " [  1  13]]\n"
     ]
    },
    {
     "name": "stderr",
     "output_type": "stream",
     "text": [
      "C:\\Users\\jstep\\AppData\\Roaming\\Python\\Python37\\site-packages\\sklearn\\utils\\validation.py:72: FutureWarning: Pass labels=[0 1] as keyword args. From version 1.0 (renaming of 0.25) passing these as positional arguments will result in an error\n",
      "  \"will result in an error\", FutureWarning)\n"
     ]
    },
    {
     "name": "stdout",
     "output_type": "stream",
     "text": [
      "7\n",
      "93\n",
      "0.009293955750763416\n",
      "[[ 41 170]\n",
      " [  1  13]]\n"
     ]
    },
    {
     "name": "stderr",
     "output_type": "stream",
     "text": [
      "C:\\Users\\jstep\\AppData\\Roaming\\Python\\Python37\\site-packages\\sklearn\\utils\\validation.py:72: FutureWarning: Pass labels=[0 1] as keyword args. From version 1.0 (renaming of 0.25) passing these as positional arguments will result in an error\n",
      "  \"will result in an error\", FutureWarning)\n"
     ]
    },
    {
     "name": "stdout",
     "output_type": "stream",
     "text": [
      "7\n",
      "93\n",
      "0.00954799260944128\n",
      "[[ 42 169]\n",
      " [  1  13]]\n"
     ]
    },
    {
     "name": "stderr",
     "output_type": "stream",
     "text": [
      "C:\\Users\\jstep\\AppData\\Roaming\\Python\\Python37\\site-packages\\sklearn\\utils\\validation.py:72: FutureWarning: Pass labels=[0 1] as keyword args. From version 1.0 (renaming of 0.25) passing these as positional arguments will result in an error\n",
      "  \"will result in an error\", FutureWarning)\n"
     ]
    },
    {
     "name": "stdout",
     "output_type": "stream",
     "text": [
      "7\n",
      "93\n",
      "0.009706486947834492\n",
      "[[ 43 168]\n",
      " [  1  13]]\n"
     ]
    },
    {
     "name": "stderr",
     "output_type": "stream",
     "text": [
      "C:\\Users\\jstep\\AppData\\Roaming\\Python\\Python37\\site-packages\\sklearn\\utils\\validation.py:72: FutureWarning: Pass labels=[0 1] as keyword args. From version 1.0 (renaming of 0.25) passing these as positional arguments will result in an error\n",
      "  \"will result in an error\", FutureWarning)\n"
     ]
    },
    {
     "name": "stdout",
     "output_type": "stream",
     "text": [
      "7\n",
      "93\n",
      "0.010020839050412178\n",
      "[[ 44 167]\n",
      " [  1  13]]\n"
     ]
    },
    {
     "name": "stderr",
     "output_type": "stream",
     "text": [
      "C:\\Users\\jstep\\AppData\\Roaming\\Python\\Python37\\site-packages\\sklearn\\utils\\validation.py:72: FutureWarning: Pass labels=[0 1] as keyword args. From version 1.0 (renaming of 0.25) passing these as positional arguments will result in an error\n",
      "  \"will result in an error\", FutureWarning)\n"
     ]
    },
    {
     "name": "stdout",
     "output_type": "stream",
     "text": [
      "7\n",
      "93\n",
      "0.011148017831146717\n",
      "[[ 45 166]\n",
      " [  1  13]]\n"
     ]
    },
    {
     "name": "stderr",
     "output_type": "stream",
     "text": [
      "C:\\Users\\jstep\\AppData\\Roaming\\Python\\Python37\\site-packages\\sklearn\\utils\\validation.py:72: FutureWarning: Pass labels=[0 1] as keyword args. From version 1.0 (renaming of 0.25) passing these as positional arguments will result in an error\n",
      "  \"will result in an error\", FutureWarning)\n"
     ]
    },
    {
     "name": "stdout",
     "output_type": "stream",
     "text": [
      "7\n",
      "93\n",
      "0.012095523998141289\n",
      "[[ 46 165]\n",
      " [  1  13]]\n"
     ]
    },
    {
     "name": "stderr",
     "output_type": "stream",
     "text": [
      "C:\\Users\\jstep\\AppData\\Roaming\\Python\\Python37\\site-packages\\sklearn\\utils\\validation.py:72: FutureWarning: Pass labels=[0 1] as keyword args. From version 1.0 (renaming of 0.25) passing these as positional arguments will result in an error\n",
      "  \"will result in an error\", FutureWarning)\n"
     ]
    },
    {
     "name": "stdout",
     "output_type": "stream",
     "text": [
      "7\n",
      "93\n",
      "0.01211626548320055\n",
      "[[ 47 164]\n",
      " [  1  13]]\n"
     ]
    },
    {
     "name": "stderr",
     "output_type": "stream",
     "text": [
      "C:\\Users\\jstep\\AppData\\Roaming\\Python\\Python37\\site-packages\\sklearn\\utils\\validation.py:72: FutureWarning: Pass labels=[0 1] as keyword args. From version 1.0 (renaming of 0.25) passing these as positional arguments will result in an error\n",
      "  \"will result in an error\", FutureWarning)\n"
     ]
    },
    {
     "name": "stdout",
     "output_type": "stream",
     "text": [
      "7\n",
      "93\n",
      "0.01219319086521864\n",
      "[[ 48 163]\n",
      " [  1  13]]\n"
     ]
    },
    {
     "name": "stderr",
     "output_type": "stream",
     "text": [
      "C:\\Users\\jstep\\AppData\\Roaming\\Python\\Python37\\site-packages\\sklearn\\utils\\validation.py:72: FutureWarning: Pass labels=[0 1] as keyword args. From version 1.0 (renaming of 0.25) passing these as positional arguments will result in an error\n",
      "  \"will result in an error\", FutureWarning)\n"
     ]
    },
    {
     "name": "stdout",
     "output_type": "stream",
     "text": [
      "7\n",
      "93\n",
      "0.0123807517811656\n",
      "[[ 49 162]\n",
      " [  1  13]]\n"
     ]
    },
    {
     "name": "stderr",
     "output_type": "stream",
     "text": [
      "C:\\Users\\jstep\\AppData\\Roaming\\Python\\Python37\\site-packages\\sklearn\\utils\\validation.py:72: FutureWarning: Pass labels=[0 1] as keyword args. From version 1.0 (renaming of 0.25) passing these as positional arguments will result in an error\n",
      "  \"will result in an error\", FutureWarning)\n"
     ]
    },
    {
     "name": "stdout",
     "output_type": "stream",
     "text": [
      "7\n",
      "93\n",
      "0.012512569315731525\n",
      "[[ 50 161]\n",
      " [  1  13]]\n"
     ]
    },
    {
     "name": "stderr",
     "output_type": "stream",
     "text": [
      "C:\\Users\\jstep\\AppData\\Roaming\\Python\\Python37\\site-packages\\sklearn\\utils\\validation.py:72: FutureWarning: Pass labels=[0 1] as keyword args. From version 1.0 (renaming of 0.25) passing these as positional arguments will result in an error\n",
      "  \"will result in an error\", FutureWarning)\n"
     ]
    },
    {
     "name": "stdout",
     "output_type": "stream",
     "text": [
      "8\n",
      "93\n",
      "0.012592179700732231\n",
      "[[ 51 160]\n",
      " [  1  13]]\n"
     ]
    },
    {
     "name": "stderr",
     "output_type": "stream",
     "text": [
      "C:\\Users\\jstep\\AppData\\Roaming\\Python\\Python37\\site-packages\\sklearn\\utils\\validation.py:72: FutureWarning: Pass labels=[0 1] as keyword args. From version 1.0 (renaming of 0.25) passing these as positional arguments will result in an error\n",
      "  \"will result in an error\", FutureWarning)\n"
     ]
    },
    {
     "name": "stdout",
     "output_type": "stream",
     "text": [
      "8\n",
      "93\n",
      "0.012606821022927761\n",
      "[[ 52 159]\n",
      " [  1  13]]\n"
     ]
    },
    {
     "name": "stderr",
     "output_type": "stream",
     "text": [
      "C:\\Users\\jstep\\AppData\\Roaming\\Python\\Python37\\site-packages\\sklearn\\utils\\validation.py:72: FutureWarning: Pass labels=[0 1] as keyword args. From version 1.0 (renaming of 0.25) passing these as positional arguments will result in an error\n",
      "  \"will result in an error\", FutureWarning)\n"
     ]
    },
    {
     "name": "stdout",
     "output_type": "stream",
     "text": [
      "8\n",
      "93\n",
      "0.012782116420567036\n",
      "[[ 53 158]\n",
      " [  1  13]]\n"
     ]
    },
    {
     "name": "stderr",
     "output_type": "stream",
     "text": [
      "C:\\Users\\jstep\\AppData\\Roaming\\Python\\Python37\\site-packages\\sklearn\\utils\\validation.py:72: FutureWarning: Pass labels=[0 1] as keyword args. From version 1.0 (renaming of 0.25) passing these as positional arguments will result in an error\n",
      "  \"will result in an error\", FutureWarning)\n"
     ]
    },
    {
     "name": "stdout",
     "output_type": "stream",
     "text": [
      "8\n",
      "93\n",
      "0.013713777996599674\n",
      "[[ 54 157]\n",
      " [  1  13]]\n"
     ]
    },
    {
     "name": "stderr",
     "output_type": "stream",
     "text": [
      "C:\\Users\\jstep\\AppData\\Roaming\\Python\\Python37\\site-packages\\sklearn\\utils\\validation.py:72: FutureWarning: Pass labels=[0 1] as keyword args. From version 1.0 (renaming of 0.25) passing these as positional arguments will result in an error\n",
      "  \"will result in an error\", FutureWarning)\n"
     ]
    },
    {
     "name": "stdout",
     "output_type": "stream",
     "text": [
      "8\n",
      "93\n",
      "0.014404754154384136\n",
      "[[ 55 156]\n",
      " [  1  13]]\n"
     ]
    },
    {
     "name": "stderr",
     "output_type": "stream",
     "text": [
      "C:\\Users\\jstep\\AppData\\Roaming\\Python\\Python37\\site-packages\\sklearn\\utils\\validation.py:72: FutureWarning: Pass labels=[0 1] as keyword args. From version 1.0 (renaming of 0.25) passing these as positional arguments will result in an error\n",
      "  \"will result in an error\", FutureWarning)\n"
     ]
    },
    {
     "name": "stdout",
     "output_type": "stream",
     "text": [
      "8\n",
      "93\n",
      "0.014590817503631115\n",
      "[[ 56 155]\n",
      " [  1  13]]\n"
     ]
    },
    {
     "name": "stderr",
     "output_type": "stream",
     "text": [
      "C:\\Users\\jstep\\AppData\\Roaming\\Python\\Python37\\site-packages\\sklearn\\utils\\validation.py:72: FutureWarning: Pass labels=[0 1] as keyword args. From version 1.0 (renaming of 0.25) passing these as positional arguments will result in an error\n",
      "  \"will result in an error\", FutureWarning)\n"
     ]
    },
    {
     "name": "stdout",
     "output_type": "stream",
     "text": [
      "8\n",
      "93\n",
      "0.015190488658845425\n",
      "[[ 57 154]\n",
      " [  1  13]]\n"
     ]
    },
    {
     "name": "stderr",
     "output_type": "stream",
     "text": [
      "C:\\Users\\jstep\\AppData\\Roaming\\Python\\Python37\\site-packages\\sklearn\\utils\\validation.py:72: FutureWarning: Pass labels=[0 1] as keyword args. From version 1.0 (renaming of 0.25) passing these as positional arguments will result in an error\n",
      "  \"will result in an error\", FutureWarning)\n"
     ]
    },
    {
     "name": "stdout",
     "output_type": "stream",
     "text": [
      "8\n",
      "93\n",
      "0.015312478877604008\n",
      "[[ 58 153]\n",
      " [  1  13]]\n"
     ]
    },
    {
     "name": "stderr",
     "output_type": "stream",
     "text": [
      "C:\\Users\\jstep\\AppData\\Roaming\\Python\\Python37\\site-packages\\sklearn\\utils\\validation.py:72: FutureWarning: Pass labels=[0 1] as keyword args. From version 1.0 (renaming of 0.25) passing these as positional arguments will result in an error\n",
      "  \"will result in an error\", FutureWarning)\n"
     ]
    },
    {
     "name": "stdout",
     "output_type": "stream",
     "text": [
      "8\n",
      "93\n",
      "0.015385634265840054\n",
      "[[ 59 152]\n",
      " [  1  13]]\n"
     ]
    },
    {
     "name": "stderr",
     "output_type": "stream",
     "text": [
      "C:\\Users\\jstep\\AppData\\Roaming\\Python\\Python37\\site-packages\\sklearn\\utils\\validation.py:72: FutureWarning: Pass labels=[0 1] as keyword args. From version 1.0 (renaming of 0.25) passing these as positional arguments will result in an error\n",
      "  \"will result in an error\", FutureWarning)\n"
     ]
    },
    {
     "name": "stdout",
     "output_type": "stream",
     "text": [
      "8\n",
      "93\n",
      "0.0155413206666708\n",
      "[[ 60 151]\n",
      " [  1  13]]\n"
     ]
    },
    {
     "name": "stderr",
     "output_type": "stream",
     "text": [
      "C:\\Users\\jstep\\AppData\\Roaming\\Python\\Python37\\site-packages\\sklearn\\utils\\validation.py:72: FutureWarning: Pass labels=[0 1] as keyword args. From version 1.0 (renaming of 0.25) passing these as positional arguments will result in an error\n",
      "  \"will result in an error\", FutureWarning)\n"
     ]
    },
    {
     "name": "stdout",
     "output_type": "stream",
     "text": [
      "8\n",
      "93\n",
      "0.01567908748984337\n",
      "[[ 61 150]\n",
      " [  1  13]]\n"
     ]
    },
    {
     "name": "stderr",
     "output_type": "stream",
     "text": [
      "C:\\Users\\jstep\\AppData\\Roaming\\Python\\Python37\\site-packages\\sklearn\\utils\\validation.py:72: FutureWarning: Pass labels=[0 1] as keyword args. From version 1.0 (renaming of 0.25) passing these as positional arguments will result in an error\n",
      "  \"will result in an error\", FutureWarning)\n"
     ]
    },
    {
     "name": "stdout",
     "output_type": "stream",
     "text": [
      "8\n",
      "93\n",
      "0.016123777255415916\n",
      "[[ 62 149]\n",
      " [  1  13]]\n"
     ]
    },
    {
     "name": "stderr",
     "output_type": "stream",
     "text": [
      "C:\\Users\\jstep\\AppData\\Roaming\\Python\\Python37\\site-packages\\sklearn\\utils\\validation.py:72: FutureWarning: Pass labels=[0 1] as keyword args. From version 1.0 (renaming of 0.25) passing these as positional arguments will result in an error\n",
      "  \"will result in an error\", FutureWarning)\n"
     ]
    },
    {
     "name": "stdout",
     "output_type": "stream",
     "text": [
      "8\n",
      "93\n",
      "0.017240352928638458\n",
      "[[ 63 148]\n",
      " [  1  13]]\n"
     ]
    },
    {
     "name": "stderr",
     "output_type": "stream",
     "text": [
      "C:\\Users\\jstep\\AppData\\Roaming\\Python\\Python37\\site-packages\\sklearn\\utils\\validation.py:72: FutureWarning: Pass labels=[0 1] as keyword args. From version 1.0 (renaming of 0.25) passing these as positional arguments will result in an error\n",
      "  \"will result in an error\", FutureWarning)\n"
     ]
    },
    {
     "name": "stdout",
     "output_type": "stream",
     "text": [
      "8\n",
      "93\n",
      "0.017641637474298477\n",
      "[[ 64 147]\n",
      " [  1  13]]\n"
     ]
    },
    {
     "name": "stderr",
     "output_type": "stream",
     "text": [
      "C:\\Users\\jstep\\AppData\\Roaming\\Python\\Python37\\site-packages\\sklearn\\utils\\validation.py:72: FutureWarning: Pass labels=[0 1] as keyword args. From version 1.0 (renaming of 0.25) passing these as positional arguments will result in an error\n",
      "  \"will result in an error\", FutureWarning)\n"
     ]
    },
    {
     "name": "stdout",
     "output_type": "stream",
     "text": [
      "8\n",
      "93\n",
      "0.018536290153861046\n",
      "[[ 65 146]\n",
      " [  1  13]]\n"
     ]
    },
    {
     "name": "stderr",
     "output_type": "stream",
     "text": [
      "C:\\Users\\jstep\\AppData\\Roaming\\Python\\Python37\\site-packages\\sklearn\\utils\\validation.py:72: FutureWarning: Pass labels=[0 1] as keyword args. From version 1.0 (renaming of 0.25) passing these as positional arguments will result in an error\n",
      "  \"will result in an error\", FutureWarning)\n"
     ]
    },
    {
     "name": "stdout",
     "output_type": "stream",
     "text": [
      "8\n",
      "93\n",
      "0.01985863968729973\n",
      "[[ 66 145]\n",
      " [  1  13]]\n"
     ]
    },
    {
     "name": "stderr",
     "output_type": "stream",
     "text": [
      "C:\\Users\\jstep\\AppData\\Roaming\\Python\\Python37\\site-packages\\sklearn\\utils\\validation.py:72: FutureWarning: Pass labels=[0 1] as keyword args. From version 1.0 (renaming of 0.25) passing these as positional arguments will result in an error\n",
      "  \"will result in an error\", FutureWarning)\n"
     ]
    },
    {
     "name": "stdout",
     "output_type": "stream",
     "text": [
      "8\n",
      "93\n",
      "0.02012850157916546\n",
      "[[ 67 144]\n",
      " [  1  13]]\n"
     ]
    },
    {
     "name": "stderr",
     "output_type": "stream",
     "text": [
      "C:\\Users\\jstep\\AppData\\Roaming\\Python\\Python37\\site-packages\\sklearn\\utils\\validation.py:72: FutureWarning: Pass labels=[0 1] as keyword args. From version 1.0 (renaming of 0.25) passing these as positional arguments will result in an error\n",
      "  \"will result in an error\", FutureWarning)\n"
     ]
    },
    {
     "name": "stdout",
     "output_type": "stream",
     "text": [
      "8\n",
      "93\n",
      "0.021861033514142036\n",
      "[[ 68 143]\n",
      " [  1  13]]\n"
     ]
    },
    {
     "name": "stderr",
     "output_type": "stream",
     "text": [
      "C:\\Users\\jstep\\AppData\\Roaming\\Python\\Python37\\site-packages\\sklearn\\utils\\validation.py:72: FutureWarning: Pass labels=[0 1] as keyword args. From version 1.0 (renaming of 0.25) passing these as positional arguments will result in an error\n",
      "  \"will result in an error\", FutureWarning)\n"
     ]
    },
    {
     "name": "stdout",
     "output_type": "stream",
     "text": [
      "8\n",
      "93\n",
      "0.02219686098396778\n",
      "[[ 69 142]\n",
      " [  1  13]]\n"
     ]
    },
    {
     "name": "stderr",
     "output_type": "stream",
     "text": [
      "C:\\Users\\jstep\\AppData\\Roaming\\Python\\Python37\\site-packages\\sklearn\\utils\\validation.py:72: FutureWarning: Pass labels=[0 1] as keyword args. From version 1.0 (renaming of 0.25) passing these as positional arguments will result in an error\n",
      "  \"will result in an error\", FutureWarning)\n"
     ]
    },
    {
     "name": "stdout",
     "output_type": "stream",
     "text": [
      "8\n",
      "93\n",
      "0.022230859845876694\n",
      "[[ 70 141]\n",
      " [  1  13]]\n"
     ]
    },
    {
     "name": "stderr",
     "output_type": "stream",
     "text": [
      "C:\\Users\\jstep\\AppData\\Roaming\\Python\\Python37\\site-packages\\sklearn\\utils\\validation.py:72: FutureWarning: Pass labels=[0 1] as keyword args. From version 1.0 (renaming of 0.25) passing these as positional arguments will result in an error\n",
      "  \"will result in an error\", FutureWarning)\n"
     ]
    },
    {
     "name": "stdout",
     "output_type": "stream",
     "text": [
      "8\n",
      "93\n",
      "0.022711511701345444\n",
      "[[ 71 140]\n",
      " [  1  13]]\n"
     ]
    },
    {
     "name": "stderr",
     "output_type": "stream",
     "text": [
      "C:\\Users\\jstep\\AppData\\Roaming\\Python\\Python37\\site-packages\\sklearn\\utils\\validation.py:72: FutureWarning: Pass labels=[0 1] as keyword args. From version 1.0 (renaming of 0.25) passing these as positional arguments will result in an error\n",
      "  \"will result in an error\", FutureWarning)\n"
     ]
    },
    {
     "name": "stdout",
     "output_type": "stream",
     "text": [
      "9\n",
      "93\n",
      "0.023052219301462173\n",
      "[[ 72 139]\n",
      " [  1  13]]\n"
     ]
    },
    {
     "name": "stderr",
     "output_type": "stream",
     "text": [
      "C:\\Users\\jstep\\AppData\\Roaming\\Python\\Python37\\site-packages\\sklearn\\utils\\validation.py:72: FutureWarning: Pass labels=[0 1] as keyword args. From version 1.0 (renaming of 0.25) passing these as positional arguments will result in an error\n",
      "  \"will result in an error\", FutureWarning)\n"
     ]
    },
    {
     "name": "stdout",
     "output_type": "stream",
     "text": [
      "9\n",
      "93\n",
      "0.023919731378555298\n",
      "[[ 73 138]\n",
      " [  1  13]]\n"
     ]
    },
    {
     "name": "stderr",
     "output_type": "stream",
     "text": [
      "C:\\Users\\jstep\\AppData\\Roaming\\Python\\Python37\\site-packages\\sklearn\\utils\\validation.py:72: FutureWarning: Pass labels=[0 1] as keyword args. From version 1.0 (renaming of 0.25) passing these as positional arguments will result in an error\n",
      "  \"will result in an error\", FutureWarning)\n"
     ]
    },
    {
     "name": "stdout",
     "output_type": "stream",
     "text": [
      "9\n",
      "93\n",
      "0.024400457739830017\n",
      "[[ 74 137]\n",
      " [  1  13]]\n"
     ]
    },
    {
     "name": "stderr",
     "output_type": "stream",
     "text": [
      "C:\\Users\\jstep\\AppData\\Roaming\\Python\\Python37\\site-packages\\sklearn\\utils\\validation.py:72: FutureWarning: Pass labels=[0 1] as keyword args. From version 1.0 (renaming of 0.25) passing these as positional arguments will result in an error\n",
      "  \"will result in an error\", FutureWarning)\n"
     ]
    },
    {
     "name": "stdout",
     "output_type": "stream",
     "text": [
      "9\n",
      "93\n",
      "0.02483995072543621\n",
      "[[ 75 136]\n",
      " [  1  13]]\n"
     ]
    },
    {
     "name": "stderr",
     "output_type": "stream",
     "text": [
      "C:\\Users\\jstep\\AppData\\Roaming\\Python\\Python37\\site-packages\\sklearn\\utils\\validation.py:72: FutureWarning: Pass labels=[0 1] as keyword args. From version 1.0 (renaming of 0.25) passing these as positional arguments will result in an error\n",
      "  \"will result in an error\", FutureWarning)\n"
     ]
    },
    {
     "name": "stdout",
     "output_type": "stream",
     "text": [
      "9\n",
      "93\n",
      "0.02621695026755333\n",
      "[[ 76 135]\n",
      " [  1  13]]\n"
     ]
    },
    {
     "name": "stderr",
     "output_type": "stream",
     "text": [
      "C:\\Users\\jstep\\AppData\\Roaming\\Python\\Python37\\site-packages\\sklearn\\utils\\validation.py:72: FutureWarning: Pass labels=[0 1] as keyword args. From version 1.0 (renaming of 0.25) passing these as positional arguments will result in an error\n",
      "  \"will result in an error\", FutureWarning)\n"
     ]
    },
    {
     "name": "stdout",
     "output_type": "stream",
     "text": [
      "9\n",
      "93\n",
      "0.026869095861911774\n",
      "[[ 77 134]\n",
      " [  1  13]]\n"
     ]
    },
    {
     "name": "stderr",
     "output_type": "stream",
     "text": [
      "C:\\Users\\jstep\\AppData\\Roaming\\Python\\Python37\\site-packages\\sklearn\\utils\\validation.py:72: FutureWarning: Pass labels=[0 1] as keyword args. From version 1.0 (renaming of 0.25) passing these as positional arguments will result in an error\n",
      "  \"will result in an error\", FutureWarning)\n"
     ]
    },
    {
     "name": "stdout",
     "output_type": "stream",
     "text": [
      "9\n",
      "93\n",
      "0.027421152219176292\n",
      "[[ 78 133]\n",
      " [  1  13]]\n"
     ]
    },
    {
     "name": "stderr",
     "output_type": "stream",
     "text": [
      "C:\\Users\\jstep\\AppData\\Roaming\\Python\\Python37\\site-packages\\sklearn\\utils\\validation.py:72: FutureWarning: Pass labels=[0 1] as keyword args. From version 1.0 (renaming of 0.25) passing these as positional arguments will result in an error\n",
      "  \"will result in an error\", FutureWarning)\n"
     ]
    },
    {
     "name": "stdout",
     "output_type": "stream",
     "text": [
      "9\n",
      "93\n",
      "0.028247447684407234\n",
      "[[ 79 132]\n",
      " [  1  13]]\n"
     ]
    },
    {
     "name": "stderr",
     "output_type": "stream",
     "text": [
      "C:\\Users\\jstep\\AppData\\Roaming\\Python\\Python37\\site-packages\\sklearn\\utils\\validation.py:72: FutureWarning: Pass labels=[0 1] as keyword args. From version 1.0 (renaming of 0.25) passing these as positional arguments will result in an error\n",
      "  \"will result in an error\", FutureWarning)\n"
     ]
    },
    {
     "name": "stdout",
     "output_type": "stream",
     "text": [
      "9\n",
      "93\n",
      "0.028930943459272385\n",
      "[[ 80 131]\n",
      " [  1  13]]\n"
     ]
    },
    {
     "name": "stderr",
     "output_type": "stream",
     "text": [
      "C:\\Users\\jstep\\AppData\\Roaming\\Python\\Python37\\site-packages\\sklearn\\utils\\validation.py:72: FutureWarning: Pass labels=[0 1] as keyword args. From version 1.0 (renaming of 0.25) passing these as positional arguments will result in an error\n",
      "  \"will result in an error\", FutureWarning)\n"
     ]
    },
    {
     "name": "stdout",
     "output_type": "stream",
     "text": [
      "9\n",
      "93\n",
      "0.02906954661011696\n",
      "[[ 81 130]\n",
      " [  1  13]]\n"
     ]
    },
    {
     "name": "stderr",
     "output_type": "stream",
     "text": [
      "C:\\Users\\jstep\\AppData\\Roaming\\Python\\Python37\\site-packages\\sklearn\\utils\\validation.py:72: FutureWarning: Pass labels=[0 1] as keyword args. From version 1.0 (renaming of 0.25) passing these as positional arguments will result in an error\n",
      "  \"will result in an error\", FutureWarning)\n"
     ]
    },
    {
     "name": "stdout",
     "output_type": "stream",
     "text": [
      "9\n",
      "93\n",
      "0.029165558516979218\n",
      "[[ 82 129]\n",
      " [  1  13]]\n"
     ]
    },
    {
     "name": "stderr",
     "output_type": "stream",
     "text": [
      "C:\\Users\\jstep\\AppData\\Roaming\\Python\\Python37\\site-packages\\sklearn\\utils\\validation.py:72: FutureWarning: Pass labels=[0 1] as keyword args. From version 1.0 (renaming of 0.25) passing these as positional arguments will result in an error\n",
      "  \"will result in an error\", FutureWarning)\n"
     ]
    },
    {
     "name": "stdout",
     "output_type": "stream",
     "text": [
      "9\n",
      "93\n",
      "0.03066580556333065\n",
      "[[ 83 128]\n",
      " [  1  13]]\n"
     ]
    },
    {
     "name": "stderr",
     "output_type": "stream",
     "text": [
      "C:\\Users\\jstep\\AppData\\Roaming\\Python\\Python37\\site-packages\\sklearn\\utils\\validation.py:72: FutureWarning: Pass labels=[0 1] as keyword args. From version 1.0 (renaming of 0.25) passing these as positional arguments will result in an error\n",
      "  \"will result in an error\", FutureWarning)\n"
     ]
    },
    {
     "name": "stdout",
     "output_type": "stream",
     "text": [
      "9\n",
      "93\n",
      "0.03078310564160347\n",
      "[[ 84 127]\n",
      " [  1  13]]\n"
     ]
    },
    {
     "name": "stderr",
     "output_type": "stream",
     "text": [
      "C:\\Users\\jstep\\AppData\\Roaming\\Python\\Python37\\site-packages\\sklearn\\utils\\validation.py:72: FutureWarning: Pass labels=[0 1] as keyword args. From version 1.0 (renaming of 0.25) passing these as positional arguments will result in an error\n",
      "  \"will result in an error\", FutureWarning)\n"
     ]
    },
    {
     "name": "stdout",
     "output_type": "stream",
     "text": [
      "9\n",
      "93\n",
      "0.03136744722723961\n",
      "[[ 85 126]\n",
      " [  1  13]]\n"
     ]
    },
    {
     "name": "stderr",
     "output_type": "stream",
     "text": [
      "C:\\Users\\jstep\\AppData\\Roaming\\Python\\Python37\\site-packages\\sklearn\\utils\\validation.py:72: FutureWarning: Pass labels=[0 1] as keyword args. From version 1.0 (renaming of 0.25) passing these as positional arguments will result in an error\n",
      "  \"will result in an error\", FutureWarning)\n"
     ]
    },
    {
     "name": "stdout",
     "output_type": "stream",
     "text": [
      "9\n",
      "93\n",
      "0.0327826552093029\n",
      "[[ 86 125]\n",
      " [  1  13]]\n"
     ]
    },
    {
     "name": "stderr",
     "output_type": "stream",
     "text": [
      "C:\\Users\\jstep\\AppData\\Roaming\\Python\\Python37\\site-packages\\sklearn\\utils\\validation.py:72: FutureWarning: Pass labels=[0 1] as keyword args. From version 1.0 (renaming of 0.25) passing these as positional arguments will result in an error\n",
      "  \"will result in an error\", FutureWarning)\n"
     ]
    },
    {
     "name": "stdout",
     "output_type": "stream",
     "text": [
      "9\n",
      "93\n",
      "0.03296806290745735\n",
      "[[ 87 124]\n",
      " [  1  13]]\n"
     ]
    },
    {
     "name": "stderr",
     "output_type": "stream",
     "text": [
      "C:\\Users\\jstep\\AppData\\Roaming\\Python\\Python37\\site-packages\\sklearn\\utils\\validation.py:72: FutureWarning: Pass labels=[0 1] as keyword args. From version 1.0 (renaming of 0.25) passing these as positional arguments will result in an error\n",
      "  \"will result in an error\", FutureWarning)\n"
     ]
    },
    {
     "name": "stdout",
     "output_type": "stream",
     "text": [
      "10\n",
      "93\n",
      "0.03299720585346222\n",
      "[[ 88 123]\n",
      " [  1  13]]\n"
     ]
    },
    {
     "name": "stderr",
     "output_type": "stream",
     "text": [
      "C:\\Users\\jstep\\AppData\\Roaming\\Python\\Python37\\site-packages\\sklearn\\utils\\validation.py:72: FutureWarning: Pass labels=[0 1] as keyword args. From version 1.0 (renaming of 0.25) passing these as positional arguments will result in an error\n",
      "  \"will result in an error\", FutureWarning)\n"
     ]
    },
    {
     "name": "stdout",
     "output_type": "stream",
     "text": [
      "10\n",
      "93\n",
      "0.034032829105854034\n",
      "[[ 89 122]\n",
      " [  1  13]]\n"
     ]
    },
    {
     "name": "stderr",
     "output_type": "stream",
     "text": [
      "C:\\Users\\jstep\\AppData\\Roaming\\Python\\Python37\\site-packages\\sklearn\\utils\\validation.py:72: FutureWarning: Pass labels=[0 1] as keyword args. From version 1.0 (renaming of 0.25) passing these as positional arguments will result in an error\n",
      "  \"will result in an error\", FutureWarning)\n"
     ]
    },
    {
     "name": "stdout",
     "output_type": "stream",
     "text": [
      "10\n",
      "93\n",
      "0.03426055610179901\n",
      "[[ 90 121]\n",
      " [  1  13]]\n"
     ]
    },
    {
     "name": "stderr",
     "output_type": "stream",
     "text": [
      "C:\\Users\\jstep\\AppData\\Roaming\\Python\\Python37\\site-packages\\sklearn\\utils\\validation.py:72: FutureWarning: Pass labels=[0 1] as keyword args. From version 1.0 (renaming of 0.25) passing these as positional arguments will result in an error\n",
      "  \"will result in an error\", FutureWarning)\n"
     ]
    },
    {
     "name": "stdout",
     "output_type": "stream",
     "text": [
      "10\n",
      "93\n",
      "0.03677418828010559\n",
      "[[ 91 120]\n",
      " [  1  13]]\n"
     ]
    },
    {
     "name": "stderr",
     "output_type": "stream",
     "text": [
      "C:\\Users\\jstep\\AppData\\Roaming\\Python\\Python37\\site-packages\\sklearn\\utils\\validation.py:72: FutureWarning: Pass labels=[0 1] as keyword args. From version 1.0 (renaming of 0.25) passing these as positional arguments will result in an error\n",
      "  \"will result in an error\", FutureWarning)\n"
     ]
    },
    {
     "name": "stdout",
     "output_type": "stream",
     "text": [
      "10\n",
      "93\n",
      "0.03681942820549011\n",
      "[[ 92 119]\n",
      " [  1  13]]\n"
     ]
    },
    {
     "name": "stderr",
     "output_type": "stream",
     "text": [
      "C:\\Users\\jstep\\AppData\\Roaming\\Python\\Python37\\site-packages\\sklearn\\utils\\validation.py:72: FutureWarning: Pass labels=[0 1] as keyword args. From version 1.0 (renaming of 0.25) passing these as positional arguments will result in an error\n",
      "  \"will result in an error\", FutureWarning)\n"
     ]
    },
    {
     "name": "stdout",
     "output_type": "stream",
     "text": [
      "10\n",
      "93\n",
      "0.03710425645112991\n",
      "[[ 93 118]\n",
      " [  1  13]]\n"
     ]
    },
    {
     "name": "stderr",
     "output_type": "stream",
     "text": [
      "C:\\Users\\jstep\\AppData\\Roaming\\Python\\Python37\\site-packages\\sklearn\\utils\\validation.py:72: FutureWarning: Pass labels=[0 1] as keyword args. From version 1.0 (renaming of 0.25) passing these as positional arguments will result in an error\n",
      "  \"will result in an error\", FutureWarning)\n"
     ]
    },
    {
     "name": "stdout",
     "output_type": "stream",
     "text": [
      "10\n",
      "93\n",
      "0.037457432597875595\n",
      "[[ 94 117]\n",
      " [  1  13]]\n"
     ]
    },
    {
     "name": "stderr",
     "output_type": "stream",
     "text": [
      "C:\\Users\\jstep\\AppData\\Roaming\\Python\\Python37\\site-packages\\sklearn\\utils\\validation.py:72: FutureWarning: Pass labels=[0 1] as keyword args. From version 1.0 (renaming of 0.25) passing these as positional arguments will result in an error\n",
      "  \"will result in an error\", FutureWarning)\n"
     ]
    },
    {
     "name": "stdout",
     "output_type": "stream",
     "text": [
      "10\n",
      "93\n",
      "0.038365840911865234\n",
      "[[ 95 116]\n",
      " [  1  13]]\n"
     ]
    },
    {
     "name": "stderr",
     "output_type": "stream",
     "text": [
      "C:\\Users\\jstep\\AppData\\Roaming\\Python\\Python37\\site-packages\\sklearn\\utils\\validation.py:72: FutureWarning: Pass labels=[0 1] as keyword args. From version 1.0 (renaming of 0.25) passing these as positional arguments will result in an error\n",
      "  \"will result in an error\", FutureWarning)\n"
     ]
    },
    {
     "name": "stdout",
     "output_type": "stream",
     "text": [
      "10\n",
      "93\n",
      "0.039245594292879105\n",
      "[[ 96 115]\n",
      " [  1  13]]\n"
     ]
    },
    {
     "name": "stderr",
     "output_type": "stream",
     "text": [
      "C:\\Users\\jstep\\AppData\\Roaming\\Python\\Python37\\site-packages\\sklearn\\utils\\validation.py:72: FutureWarning: Pass labels=[0 1] as keyword args. From version 1.0 (renaming of 0.25) passing these as positional arguments will result in an error\n",
      "  \"will result in an error\", FutureWarning)\n"
     ]
    },
    {
     "name": "stdout",
     "output_type": "stream",
     "text": [
      "10\n",
      "93\n",
      "0.039520736783742905\n",
      "[[ 97 114]\n",
      " [  1  13]]\n"
     ]
    },
    {
     "name": "stderr",
     "output_type": "stream",
     "text": [
      "C:\\Users\\jstep\\AppData\\Roaming\\Python\\Python37\\site-packages\\sklearn\\utils\\validation.py:72: FutureWarning: Pass labels=[0 1] as keyword args. From version 1.0 (renaming of 0.25) passing these as positional arguments will result in an error\n",
      "  \"will result in an error\", FutureWarning)\n"
     ]
    },
    {
     "name": "stdout",
     "output_type": "stream",
     "text": [
      "10\n",
      "93\n",
      "0.0414731428027153\n",
      "[[ 98 113]\n",
      " [  1  13]]\n"
     ]
    },
    {
     "name": "stderr",
     "output_type": "stream",
     "text": [
      "C:\\Users\\jstep\\AppData\\Roaming\\Python\\Python37\\site-packages\\sklearn\\utils\\validation.py:72: FutureWarning: Pass labels=[0 1] as keyword args. From version 1.0 (renaming of 0.25) passing these as positional arguments will result in an error\n",
      "  \"will result in an error\", FutureWarning)\n"
     ]
    },
    {
     "name": "stdout",
     "output_type": "stream",
     "text": [
      "10\n",
      "93\n",
      "0.04175170511007309\n",
      "[[ 99 112]\n",
      " [  1  13]]\n"
     ]
    },
    {
     "name": "stderr",
     "output_type": "stream",
     "text": [
      "C:\\Users\\jstep\\AppData\\Roaming\\Python\\Python37\\site-packages\\sklearn\\utils\\validation.py:72: FutureWarning: Pass labels=[0 1] as keyword args. From version 1.0 (renaming of 0.25) passing these as positional arguments will result in an error\n",
      "  \"will result in an error\", FutureWarning)\n"
     ]
    },
    {
     "name": "stdout",
     "output_type": "stream",
     "text": [
      "10\n",
      "93\n",
      "0.04243095591664314\n",
      "[[100 111]\n",
      " [  1  13]]\n"
     ]
    },
    {
     "name": "stderr",
     "output_type": "stream",
     "text": [
      "C:\\Users\\jstep\\AppData\\Roaming\\Python\\Python37\\site-packages\\sklearn\\utils\\validation.py:72: FutureWarning: Pass labels=[0 1] as keyword args. From version 1.0 (renaming of 0.25) passing these as positional arguments will result in an error\n",
      "  \"will result in an error\", FutureWarning)\n"
     ]
    },
    {
     "name": "stdout",
     "output_type": "stream",
     "text": [
      "11\n",
      "93\n",
      "0.0427900031208992\n",
      "[[101 110]\n",
      " [  1  13]]\n"
     ]
    },
    {
     "name": "stderr",
     "output_type": "stream",
     "text": [
      "C:\\Users\\jstep\\AppData\\Roaming\\Python\\Python37\\site-packages\\sklearn\\utils\\validation.py:72: FutureWarning: Pass labels=[0 1] as keyword args. From version 1.0 (renaming of 0.25) passing these as positional arguments will result in an error\n",
      "  \"will result in an error\", FutureWarning)\n"
     ]
    },
    {
     "name": "stdout",
     "output_type": "stream",
     "text": [
      "11\n",
      "93\n",
      "0.04468819499015808\n",
      "[[102 109]\n",
      " [  1  13]]\n"
     ]
    },
    {
     "name": "stderr",
     "output_type": "stream",
     "text": [
      "C:\\Users\\jstep\\AppData\\Roaming\\Python\\Python37\\site-packages\\sklearn\\utils\\validation.py:72: FutureWarning: Pass labels=[0 1] as keyword args. From version 1.0 (renaming of 0.25) passing these as positional arguments will result in an error\n",
      "  \"will result in an error\", FutureWarning)\n"
     ]
    },
    {
     "name": "stdout",
     "output_type": "stream",
     "text": [
      "11\n",
      "93\n",
      "0.04552533105015755\n",
      "[[103 108]\n",
      " [  1  13]]\n"
     ]
    },
    {
     "name": "stderr",
     "output_type": "stream",
     "text": [
      "C:\\Users\\jstep\\AppData\\Roaming\\Python\\Python37\\site-packages\\sklearn\\utils\\validation.py:72: FutureWarning: Pass labels=[0 1] as keyword args. From version 1.0 (renaming of 0.25) passing these as positional arguments will result in an error\n",
      "  \"will result in an error\", FutureWarning)\n"
     ]
    },
    {
     "name": "stdout",
     "output_type": "stream",
     "text": [
      "11\n",
      "93\n",
      "0.04553034529089928\n",
      "[[104 107]\n",
      " [  1  13]]\n"
     ]
    },
    {
     "name": "stderr",
     "output_type": "stream",
     "text": [
      "C:\\Users\\jstep\\AppData\\Roaming\\Python\\Python37\\site-packages\\sklearn\\utils\\validation.py:72: FutureWarning: Pass labels=[0 1] as keyword args. From version 1.0 (renaming of 0.25) passing these as positional arguments will result in an error\n",
      "  \"will result in an error\", FutureWarning)\n"
     ]
    },
    {
     "name": "stdout",
     "output_type": "stream",
     "text": [
      "11\n",
      "93\n",
      "0.046343207359313965\n",
      "[[105 106]\n",
      " [  1  13]]\n"
     ]
    },
    {
     "name": "stderr",
     "output_type": "stream",
     "text": [
      "C:\\Users\\jstep\\AppData\\Roaming\\Python\\Python37\\site-packages\\sklearn\\utils\\validation.py:72: FutureWarning: Pass labels=[0 1] as keyword args. From version 1.0 (renaming of 0.25) passing these as positional arguments will result in an error\n",
      "  \"will result in an error\", FutureWarning)\n"
     ]
    },
    {
     "name": "stdout",
     "output_type": "stream",
     "text": [
      "11\n",
      "93\n",
      "0.046751830726861954\n",
      "[[106 105]\n",
      " [  1  13]]\n"
     ]
    },
    {
     "name": "stderr",
     "output_type": "stream",
     "text": [
      "C:\\Users\\jstep\\AppData\\Roaming\\Python\\Python37\\site-packages\\sklearn\\utils\\validation.py:72: FutureWarning: Pass labels=[0 1] as keyword args. From version 1.0 (renaming of 0.25) passing these as positional arguments will result in an error\n",
      "  \"will result in an error\", FutureWarning)\n"
     ]
    },
    {
     "name": "stdout",
     "output_type": "stream",
     "text": [
      "11\n",
      "93\n",
      "0.04786540940403938\n",
      "[[107 104]\n",
      " [  1  13]]\n"
     ]
    },
    {
     "name": "stderr",
     "output_type": "stream",
     "text": [
      "C:\\Users\\jstep\\AppData\\Roaming\\Python\\Python37\\site-packages\\sklearn\\utils\\validation.py:72: FutureWarning: Pass labels=[0 1] as keyword args. From version 1.0 (renaming of 0.25) passing these as positional arguments will result in an error\n",
      "  \"will result in an error\", FutureWarning)\n"
     ]
    },
    {
     "name": "stdout",
     "output_type": "stream",
     "text": [
      "11\n",
      "93\n",
      "0.052319176495075226\n",
      "[[108 103]\n",
      " [  1  13]]\n"
     ]
    },
    {
     "name": "stderr",
     "output_type": "stream",
     "text": [
      "C:\\Users\\jstep\\AppData\\Roaming\\Python\\Python37\\site-packages\\sklearn\\utils\\validation.py:72: FutureWarning: Pass labels=[0 1] as keyword args. From version 1.0 (renaming of 0.25) passing these as positional arguments will result in an error\n",
      "  \"will result in an error\", FutureWarning)\n"
     ]
    },
    {
     "name": "stdout",
     "output_type": "stream",
     "text": [
      "11\n",
      "93\n",
      "0.05489056929945946\n",
      "[[109 102]\n",
      " [  1  13]]\n"
     ]
    },
    {
     "name": "stderr",
     "output_type": "stream",
     "text": [
      "C:\\Users\\jstep\\AppData\\Roaming\\Python\\Python37\\site-packages\\sklearn\\utils\\validation.py:72: FutureWarning: Pass labels=[0 1] as keyword args. From version 1.0 (renaming of 0.25) passing these as positional arguments will result in an error\n",
      "  \"will result in an error\", FutureWarning)\n"
     ]
    },
    {
     "name": "stdout",
     "output_type": "stream",
     "text": [
      "11\n",
      "93\n",
      "0.05746942013502121\n",
      "[[110 101]\n",
      " [  1  13]]\n"
     ]
    },
    {
     "name": "stderr",
     "output_type": "stream",
     "text": [
      "C:\\Users\\jstep\\AppData\\Roaming\\Python\\Python37\\site-packages\\sklearn\\utils\\validation.py:72: FutureWarning: Pass labels=[0 1] as keyword args. From version 1.0 (renaming of 0.25) passing these as positional arguments will result in an error\n",
      "  \"will result in an error\", FutureWarning)\n"
     ]
    },
    {
     "name": "stdout",
     "output_type": "stream",
     "text": [
      "12\n",
      "93\n",
      "0.058287251740694046\n",
      "[[111 100]\n",
      " [  1  13]]\n"
     ]
    },
    {
     "name": "stderr",
     "output_type": "stream",
     "text": [
      "C:\\Users\\jstep\\AppData\\Roaming\\Python\\Python37\\site-packages\\sklearn\\utils\\validation.py:72: FutureWarning: Pass labels=[0 1] as keyword args. From version 1.0 (renaming of 0.25) passing these as positional arguments will result in an error\n",
      "  \"will result in an error\", FutureWarning)\n"
     ]
    },
    {
     "name": "stdout",
     "output_type": "stream",
     "text": [
      "12\n",
      "93\n",
      "0.06197240948677063\n",
      "[[112  99]\n",
      " [  1  13]]\n"
     ]
    },
    {
     "name": "stderr",
     "output_type": "stream",
     "text": [
      "C:\\Users\\jstep\\AppData\\Roaming\\Python\\Python37\\site-packages\\sklearn\\utils\\validation.py:72: FutureWarning: Pass labels=[0 1] as keyword args. From version 1.0 (renaming of 0.25) passing these as positional arguments will result in an error\n",
      "  \"will result in an error\", FutureWarning)\n"
     ]
    },
    {
     "name": "stdout",
     "output_type": "stream",
     "text": [
      "12\n",
      "93\n",
      "0.0673372745513916\n",
      "[[113  98]\n",
      " [  1  13]]\n"
     ]
    },
    {
     "name": "stderr",
     "output_type": "stream",
     "text": [
      "C:\\Users\\jstep\\AppData\\Roaming\\Python\\Python37\\site-packages\\sklearn\\utils\\validation.py:72: FutureWarning: Pass labels=[0 1] as keyword args. From version 1.0 (renaming of 0.25) passing these as positional arguments will result in an error\n",
      "  \"will result in an error\", FutureWarning)\n"
     ]
    },
    {
     "name": "stdout",
     "output_type": "stream",
     "text": [
      "12\n",
      "93\n",
      "0.06974206864833832\n",
      "[[114  97]\n",
      " [  1  13]]\n"
     ]
    },
    {
     "name": "stderr",
     "output_type": "stream",
     "text": [
      "C:\\Users\\jstep\\AppData\\Roaming\\Python\\Python37\\site-packages\\sklearn\\utils\\validation.py:72: FutureWarning: Pass labels=[0 1] as keyword args. From version 1.0 (renaming of 0.25) passing these as positional arguments will result in an error\n",
      "  \"will result in an error\", FutureWarning)\n"
     ]
    },
    {
     "name": "stdout",
     "output_type": "stream",
     "text": [
      "12\n",
      "93\n",
      "0.0705161914229393\n",
      "[[115  96]\n",
      " [  1  13]]\n"
     ]
    },
    {
     "name": "stderr",
     "output_type": "stream",
     "text": [
      "C:\\Users\\jstep\\AppData\\Roaming\\Python\\Python37\\site-packages\\sklearn\\utils\\validation.py:72: FutureWarning: Pass labels=[0 1] as keyword args. From version 1.0 (renaming of 0.25) passing these as positional arguments will result in an error\n",
      "  \"will result in an error\", FutureWarning)\n"
     ]
    },
    {
     "name": "stdout",
     "output_type": "stream",
     "text": [
      "12\n",
      "93\n",
      "0.07092005014419556\n",
      "[[116  95]\n",
      " [  1  13]]\n"
     ]
    },
    {
     "name": "stderr",
     "output_type": "stream",
     "text": [
      "C:\\Users\\jstep\\AppData\\Roaming\\Python\\Python37\\site-packages\\sklearn\\utils\\validation.py:72: FutureWarning: Pass labels=[0 1] as keyword args. From version 1.0 (renaming of 0.25) passing these as positional arguments will result in an error\n",
      "  \"will result in an error\", FutureWarning)\n"
     ]
    },
    {
     "name": "stdout",
     "output_type": "stream",
     "text": [
      "12\n",
      "93\n",
      "0.07286369055509567\n",
      "[[117  94]\n",
      " [  1  13]]\n"
     ]
    },
    {
     "name": "stderr",
     "output_type": "stream",
     "text": [
      "C:\\Users\\jstep\\AppData\\Roaming\\Python\\Python37\\site-packages\\sklearn\\utils\\validation.py:72: FutureWarning: Pass labels=[0 1] as keyword args. From version 1.0 (renaming of 0.25) passing these as positional arguments will result in an error\n",
      "  \"will result in an error\", FutureWarning)\n"
     ]
    },
    {
     "name": "stdout",
     "output_type": "stream",
     "text": [
      "12\n",
      "93\n",
      "0.078341044485569\n",
      "[[118  93]\n",
      " [  1  13]]\n"
     ]
    },
    {
     "name": "stderr",
     "output_type": "stream",
     "text": [
      "C:\\Users\\jstep\\AppData\\Roaming\\Python\\Python37\\site-packages\\sklearn\\utils\\validation.py:72: FutureWarning: Pass labels=[0 1] as keyword args. From version 1.0 (renaming of 0.25) passing these as positional arguments will result in an error\n",
      "  \"will result in an error\", FutureWarning)\n"
     ]
    },
    {
     "name": "stdout",
     "output_type": "stream",
     "text": [
      "12\n",
      "93\n",
      "0.07846269756555557\n",
      "[[119  92]\n",
      " [  1  13]]\n"
     ]
    },
    {
     "name": "stderr",
     "output_type": "stream",
     "text": [
      "C:\\Users\\jstep\\AppData\\Roaming\\Python\\Python37\\site-packages\\sklearn\\utils\\validation.py:72: FutureWarning: Pass labels=[0 1] as keyword args. From version 1.0 (renaming of 0.25) passing these as positional arguments will result in an error\n",
      "  \"will result in an error\", FutureWarning)\n"
     ]
    },
    {
     "name": "stdout",
     "output_type": "stream",
     "text": [
      "12\n",
      "86\n",
      "0.08131961524486542\n",
      "[[119  92]\n",
      " [  2  12]]\n"
     ]
    },
    {
     "name": "stderr",
     "output_type": "stream",
     "text": [
      "C:\\Users\\jstep\\AppData\\Roaming\\Python\\Python37\\site-packages\\sklearn\\utils\\validation.py:72: FutureWarning: Pass labels=[0 1] as keyword args. From version 1.0 (renaming of 0.25) passing these as positional arguments will result in an error\n",
      "  \"will result in an error\", FutureWarning)\n"
     ]
    },
    {
     "name": "stdout",
     "output_type": "stream",
     "text": [
      "12\n",
      "86\n",
      "0.08242936432361603\n",
      "[[120  91]\n",
      " [  2  12]]\n"
     ]
    },
    {
     "name": "stderr",
     "output_type": "stream",
     "text": [
      "C:\\Users\\jstep\\AppData\\Roaming\\Python\\Python37\\site-packages\\sklearn\\utils\\validation.py:72: FutureWarning: Pass labels=[0 1] as keyword args. From version 1.0 (renaming of 0.25) passing these as positional arguments will result in an error\n",
      "  \"will result in an error\", FutureWarning)\n"
     ]
    },
    {
     "name": "stdout",
     "output_type": "stream",
     "text": [
      "12\n",
      "86\n",
      "0.08433058112859726\n",
      "[[121  90]\n",
      " [  2  12]]\n"
     ]
    },
    {
     "name": "stderr",
     "output_type": "stream",
     "text": [
      "C:\\Users\\jstep\\AppData\\Roaming\\Python\\Python37\\site-packages\\sklearn\\utils\\validation.py:72: FutureWarning: Pass labels=[0 1] as keyword args. From version 1.0 (renaming of 0.25) passing these as positional arguments will result in an error\n",
      "  \"will result in an error\", FutureWarning)\n"
     ]
    },
    {
     "name": "stdout",
     "output_type": "stream",
     "text": [
      "12\n",
      "86\n",
      "0.09084855020046234\n",
      "[[122  89]\n",
      " [  2  12]]\n"
     ]
    },
    {
     "name": "stderr",
     "output_type": "stream",
     "text": [
      "C:\\Users\\jstep\\AppData\\Roaming\\Python\\Python37\\site-packages\\sklearn\\utils\\validation.py:72: FutureWarning: Pass labels=[0 1] as keyword args. From version 1.0 (renaming of 0.25) passing these as positional arguments will result in an error\n",
      "  \"will result in an error\", FutureWarning)\n"
     ]
    },
    {
     "name": "stdout",
     "output_type": "stream",
     "text": [
      "12\n",
      "86\n",
      "0.09173744916915894\n",
      "[[123  88]\n",
      " [  2  12]]\n"
     ]
    },
    {
     "name": "stderr",
     "output_type": "stream",
     "text": [
      "C:\\Users\\jstep\\AppData\\Roaming\\Python\\Python37\\site-packages\\sklearn\\utils\\validation.py:72: FutureWarning: Pass labels=[0 1] as keyword args. From version 1.0 (renaming of 0.25) passing these as positional arguments will result in an error\n",
      "  \"will result in an error\", FutureWarning)\n"
     ]
    },
    {
     "name": "stdout",
     "output_type": "stream",
     "text": [
      "12\n",
      "86\n",
      "0.09979969263076782\n",
      "[[124  87]\n",
      " [  2  12]]\n"
     ]
    },
    {
     "name": "stderr",
     "output_type": "stream",
     "text": [
      "C:\\Users\\jstep\\AppData\\Roaming\\Python\\Python37\\site-packages\\sklearn\\utils\\validation.py:72: FutureWarning: Pass labels=[0 1] as keyword args. From version 1.0 (renaming of 0.25) passing these as positional arguments will result in an error\n",
      "  \"will result in an error\", FutureWarning)\n"
     ]
    },
    {
     "name": "stdout",
     "output_type": "stream",
     "text": [
      "12\n",
      "86\n",
      "0.1044808030128479\n",
      "[[125  86]\n",
      " [  2  12]]\n"
     ]
    },
    {
     "name": "stderr",
     "output_type": "stream",
     "text": [
      "C:\\Users\\jstep\\AppData\\Roaming\\Python\\Python37\\site-packages\\sklearn\\utils\\validation.py:72: FutureWarning: Pass labels=[0 1] as keyword args. From version 1.0 (renaming of 0.25) passing these as positional arguments will result in an error\n",
      "  \"will result in an error\", FutureWarning)\n"
     ]
    },
    {
     "name": "stdout",
     "output_type": "stream",
     "text": [
      "12\n",
      "86\n",
      "0.1073993667960167\n",
      "[[126  85]\n",
      " [  2  12]]\n"
     ]
    },
    {
     "name": "stderr",
     "output_type": "stream",
     "text": [
      "C:\\Users\\jstep\\AppData\\Roaming\\Python\\Python37\\site-packages\\sklearn\\utils\\validation.py:72: FutureWarning: Pass labels=[0 1] as keyword args. From version 1.0 (renaming of 0.25) passing these as positional arguments will result in an error\n",
      "  \"will result in an error\", FutureWarning)\n"
     ]
    },
    {
     "name": "stdout",
     "output_type": "stream",
     "text": [
      "12\n",
      "86\n",
      "0.1118035539984703\n",
      "[[127  84]\n",
      " [  2  12]]\n"
     ]
    },
    {
     "name": "stderr",
     "output_type": "stream",
     "text": [
      "C:\\Users\\jstep\\AppData\\Roaming\\Python\\Python37\\site-packages\\sklearn\\utils\\validation.py:72: FutureWarning: Pass labels=[0 1] as keyword args. From version 1.0 (renaming of 0.25) passing these as positional arguments will result in an error\n",
      "  \"will result in an error\", FutureWarning)\n"
     ]
    },
    {
     "name": "stdout",
     "output_type": "stream",
     "text": [
      "13\n",
      "86\n",
      "0.11485959589481354\n",
      "[[128  83]\n",
      " [  2  12]]\n"
     ]
    },
    {
     "name": "stderr",
     "output_type": "stream",
     "text": [
      "C:\\Users\\jstep\\AppData\\Roaming\\Python\\Python37\\site-packages\\sklearn\\utils\\validation.py:72: FutureWarning: Pass labels=[0 1] as keyword args. From version 1.0 (renaming of 0.25) passing these as positional arguments will result in an error\n",
      "  \"will result in an error\", FutureWarning)\n"
     ]
    },
    {
     "name": "stdout",
     "output_type": "stream",
     "text": [
      "13\n",
      "86\n",
      "0.11660260707139969\n",
      "[[129  82]\n",
      " [  2  12]]\n"
     ]
    },
    {
     "name": "stderr",
     "output_type": "stream",
     "text": [
      "C:\\Users\\jstep\\AppData\\Roaming\\Python\\Python37\\site-packages\\sklearn\\utils\\validation.py:72: FutureWarning: Pass labels=[0 1] as keyword args. From version 1.0 (renaming of 0.25) passing these as positional arguments will result in an error\n",
      "  \"will result in an error\", FutureWarning)\n"
     ]
    },
    {
     "name": "stdout",
     "output_type": "stream",
     "text": [
      "13\n",
      "86\n",
      "0.11787455528974533\n",
      "[[130  81]\n",
      " [  2  12]]\n"
     ]
    },
    {
     "name": "stderr",
     "output_type": "stream",
     "text": [
      "C:\\Users\\jstep\\AppData\\Roaming\\Python\\Python37\\site-packages\\sklearn\\utils\\validation.py:72: FutureWarning: Pass labels=[0 1] as keyword args. From version 1.0 (renaming of 0.25) passing these as positional arguments will result in an error\n",
      "  \"will result in an error\", FutureWarning)\n"
     ]
    },
    {
     "name": "stdout",
     "output_type": "stream",
     "text": [
      "13\n",
      "86\n",
      "0.12283479422330856\n",
      "[[131  80]\n",
      " [  2  12]]\n"
     ]
    },
    {
     "name": "stderr",
     "output_type": "stream",
     "text": [
      "C:\\Users\\jstep\\AppData\\Roaming\\Python\\Python37\\site-packages\\sklearn\\utils\\validation.py:72: FutureWarning: Pass labels=[0 1] as keyword args. From version 1.0 (renaming of 0.25) passing these as positional arguments will result in an error\n",
      "  \"will result in an error\", FutureWarning)\n"
     ]
    },
    {
     "name": "stdout",
     "output_type": "stream",
     "text": [
      "13\n",
      "86\n",
      "0.12439844012260437\n",
      "[[132  79]\n",
      " [  2  12]]\n"
     ]
    },
    {
     "name": "stderr",
     "output_type": "stream",
     "text": [
      "C:\\Users\\jstep\\AppData\\Roaming\\Python\\Python37\\site-packages\\sklearn\\utils\\validation.py:72: FutureWarning: Pass labels=[0 1] as keyword args. From version 1.0 (renaming of 0.25) passing these as positional arguments will result in an error\n",
      "  \"will result in an error\", FutureWarning)\n"
     ]
    },
    {
     "name": "stdout",
     "output_type": "stream",
     "text": [
      "13\n",
      "86\n",
      "0.12667058408260345\n",
      "[[133  78]\n",
      " [  2  12]]\n"
     ]
    },
    {
     "name": "stderr",
     "output_type": "stream",
     "text": [
      "C:\\Users\\jstep\\AppData\\Roaming\\Python\\Python37\\site-packages\\sklearn\\utils\\validation.py:72: FutureWarning: Pass labels=[0 1] as keyword args. From version 1.0 (renaming of 0.25) passing these as positional arguments will result in an error\n",
      "  \"will result in an error\", FutureWarning)\n"
     ]
    },
    {
     "name": "stdout",
     "output_type": "stream",
     "text": [
      "13\n",
      "86\n",
      "0.12686757743358612\n",
      "[[134  77]\n",
      " [  2  12]]\n"
     ]
    },
    {
     "name": "stderr",
     "output_type": "stream",
     "text": [
      "C:\\Users\\jstep\\AppData\\Roaming\\Python\\Python37\\site-packages\\sklearn\\utils\\validation.py:72: FutureWarning: Pass labels=[0 1] as keyword args. From version 1.0 (renaming of 0.25) passing these as positional arguments will result in an error\n",
      "  \"will result in an error\", FutureWarning)\n"
     ]
    },
    {
     "name": "stdout",
     "output_type": "stream",
     "text": [
      "14\n",
      "86\n",
      "0.12953715026378632\n",
      "[[135  76]\n",
      " [  2  12]]\n"
     ]
    },
    {
     "name": "stderr",
     "output_type": "stream",
     "text": [
      "C:\\Users\\jstep\\AppData\\Roaming\\Python\\Python37\\site-packages\\sklearn\\utils\\validation.py:72: FutureWarning: Pass labels=[0 1] as keyword args. From version 1.0 (renaming of 0.25) passing these as positional arguments will result in an error\n",
      "  \"will result in an error\", FutureWarning)\n"
     ]
    },
    {
     "name": "stdout",
     "output_type": "stream",
     "text": [
      "14\n",
      "86\n",
      "0.1335936039686203\n",
      "[[136  75]\n",
      " [  2  12]]\n"
     ]
    },
    {
     "name": "stderr",
     "output_type": "stream",
     "text": [
      "C:\\Users\\jstep\\AppData\\Roaming\\Python\\Python37\\site-packages\\sklearn\\utils\\validation.py:72: FutureWarning: Pass labels=[0 1] as keyword args. From version 1.0 (renaming of 0.25) passing these as positional arguments will result in an error\n",
      "  \"will result in an error\", FutureWarning)\n"
     ]
    },
    {
     "name": "stdout",
     "output_type": "stream",
     "text": [
      "13\n",
      "79\n",
      "0.13544335961341858\n",
      "[[136  75]\n",
      " [  3  11]]\n"
     ]
    },
    {
     "name": "stderr",
     "output_type": "stream",
     "text": [
      "C:\\Users\\jstep\\AppData\\Roaming\\Python\\Python37\\site-packages\\sklearn\\utils\\validation.py:72: FutureWarning: Pass labels=[0 1] as keyword args. From version 1.0 (renaming of 0.25) passing these as positional arguments will result in an error\n",
      "  \"will result in an error\", FutureWarning)\n"
     ]
    },
    {
     "name": "stdout",
     "output_type": "stream",
     "text": [
      "13\n",
      "79\n",
      "0.1399892419576645\n",
      "[[137  74]\n",
      " [  3  11]]\n"
     ]
    },
    {
     "name": "stderr",
     "output_type": "stream",
     "text": [
      "C:\\Users\\jstep\\AppData\\Roaming\\Python\\Python37\\site-packages\\sklearn\\utils\\validation.py:72: FutureWarning: Pass labels=[0 1] as keyword args. From version 1.0 (renaming of 0.25) passing these as positional arguments will result in an error\n",
      "  \"will result in an error\", FutureWarning)\n"
     ]
    },
    {
     "name": "stdout",
     "output_type": "stream",
     "text": [
      "13\n",
      "79\n",
      "0.14048372209072113\n",
      "[[138  73]\n",
      " [  3  11]]\n"
     ]
    },
    {
     "name": "stderr",
     "output_type": "stream",
     "text": [
      "C:\\Users\\jstep\\AppData\\Roaming\\Python\\Python37\\site-packages\\sklearn\\utils\\validation.py:72: FutureWarning: Pass labels=[0 1] as keyword args. From version 1.0 (renaming of 0.25) passing these as positional arguments will result in an error\n",
      "  \"will result in an error\", FutureWarning)\n"
     ]
    },
    {
     "name": "stdout",
     "output_type": "stream",
     "text": [
      "12\n",
      "71\n",
      "0.1522984504699707\n",
      "[[138  73]\n",
      " [  4  10]]\n"
     ]
    },
    {
     "name": "stderr",
     "output_type": "stream",
     "text": [
      "C:\\Users\\jstep\\AppData\\Roaming\\Python\\Python37\\site-packages\\sklearn\\utils\\validation.py:72: FutureWarning: Pass labels=[0 1] as keyword args. From version 1.0 (renaming of 0.25) passing these as positional arguments will result in an error\n",
      "  \"will result in an error\", FutureWarning)\n"
     ]
    },
    {
     "name": "stdout",
     "output_type": "stream",
     "text": [
      "12\n",
      "71\n",
      "0.15357248485088348\n",
      "[[139  72]\n",
      " [  4  10]]\n"
     ]
    },
    {
     "name": "stderr",
     "output_type": "stream",
     "text": [
      "C:\\Users\\jstep\\AppData\\Roaming\\Python\\Python37\\site-packages\\sklearn\\utils\\validation.py:72: FutureWarning: Pass labels=[0 1] as keyword args. From version 1.0 (renaming of 0.25) passing these as positional arguments will result in an error\n",
      "  \"will result in an error\", FutureWarning)\n"
     ]
    },
    {
     "name": "stdout",
     "output_type": "stream",
     "text": [
      "12\n",
      "71\n",
      "0.1607399582862854\n",
      "[[140  71]\n",
      " [  4  10]]\n"
     ]
    },
    {
     "name": "stderr",
     "output_type": "stream",
     "text": [
      "C:\\Users\\jstep\\AppData\\Roaming\\Python\\Python37\\site-packages\\sklearn\\utils\\validation.py:72: FutureWarning: Pass labels=[0 1] as keyword args. From version 1.0 (renaming of 0.25) passing these as positional arguments will result in an error\n",
      "  \"will result in an error\", FutureWarning)\n"
     ]
    },
    {
     "name": "stdout",
     "output_type": "stream",
     "text": [
      "12\n",
      "71\n",
      "0.1667192429304123\n",
      "[[141  70]\n",
      " [  4  10]]\n"
     ]
    },
    {
     "name": "stderr",
     "output_type": "stream",
     "text": [
      "C:\\Users\\jstep\\AppData\\Roaming\\Python\\Python37\\site-packages\\sklearn\\utils\\validation.py:72: FutureWarning: Pass labels=[0 1] as keyword args. From version 1.0 (renaming of 0.25) passing these as positional arguments will result in an error\n",
      "  \"will result in an error\", FutureWarning)\n"
     ]
    },
    {
     "name": "stdout",
     "output_type": "stream",
     "text": [
      "13\n",
      "71\n",
      "0.16978363692760468\n",
      "[[142  69]\n",
      " [  4  10]]\n"
     ]
    },
    {
     "name": "stderr",
     "output_type": "stream",
     "text": [
      "C:\\Users\\jstep\\AppData\\Roaming\\Python\\Python37\\site-packages\\sklearn\\utils\\validation.py:72: FutureWarning: Pass labels=[0 1] as keyword args. From version 1.0 (renaming of 0.25) passing these as positional arguments will result in an error\n",
      "  \"will result in an error\", FutureWarning)\n"
     ]
    },
    {
     "name": "stdout",
     "output_type": "stream",
     "text": [
      "12\n",
      "64\n",
      "0.18051302433013916\n",
      "[[142  69]\n",
      " [  5   9]]\n"
     ]
    },
    {
     "name": "stderr",
     "output_type": "stream",
     "text": [
      "C:\\Users\\jstep\\AppData\\Roaming\\Python\\Python37\\site-packages\\sklearn\\utils\\validation.py:72: FutureWarning: Pass labels=[0 1] as keyword args. From version 1.0 (renaming of 0.25) passing these as positional arguments will result in an error\n",
      "  \"will result in an error\", FutureWarning)\n"
     ]
    },
    {
     "name": "stdout",
     "output_type": "stream",
     "text": [
      "12\n",
      "64\n",
      "0.18666335940361023\n",
      "[[143  68]\n",
      " [  5   9]]\n"
     ]
    },
    {
     "name": "stderr",
     "output_type": "stream",
     "text": [
      "C:\\Users\\jstep\\AppData\\Roaming\\Python\\Python37\\site-packages\\sklearn\\utils\\validation.py:72: FutureWarning: Pass labels=[0 1] as keyword args. From version 1.0 (renaming of 0.25) passing these as positional arguments will result in an error\n",
      "  \"will result in an error\", FutureWarning)\n"
     ]
    },
    {
     "name": "stdout",
     "output_type": "stream",
     "text": [
      "12\n",
      "64\n",
      "0.19401134550571442\n",
      "[[144  67]\n",
      " [  5   9]]\n"
     ]
    },
    {
     "name": "stderr",
     "output_type": "stream",
     "text": [
      "C:\\Users\\jstep\\AppData\\Roaming\\Python\\Python37\\site-packages\\sklearn\\utils\\validation.py:72: FutureWarning: Pass labels=[0 1] as keyword args. From version 1.0 (renaming of 0.25) passing these as positional arguments will result in an error\n",
      "  \"will result in an error\", FutureWarning)\n"
     ]
    },
    {
     "name": "stdout",
     "output_type": "stream",
     "text": [
      "12\n",
      "64\n",
      "0.2053019255399704\n",
      "[[145  66]\n",
      " [  5   9]]\n"
     ]
    },
    {
     "name": "stderr",
     "output_type": "stream",
     "text": [
      "C:\\Users\\jstep\\AppData\\Roaming\\Python\\Python37\\site-packages\\sklearn\\utils\\validation.py:72: FutureWarning: Pass labels=[0 1] as keyword args. From version 1.0 (renaming of 0.25) passing these as positional arguments will result in an error\n",
      "  \"will result in an error\", FutureWarning)\n"
     ]
    },
    {
     "name": "stdout",
     "output_type": "stream",
     "text": [
      "12\n",
      "64\n",
      "0.21219368278980255\n",
      "[[146  65]\n",
      " [  5   9]]\n"
     ]
    },
    {
     "name": "stderr",
     "output_type": "stream",
     "text": [
      "C:\\Users\\jstep\\AppData\\Roaming\\Python\\Python37\\site-packages\\sklearn\\utils\\validation.py:72: FutureWarning: Pass labels=[0 1] as keyword args. From version 1.0 (renaming of 0.25) passing these as positional arguments will result in an error\n",
      "  \"will result in an error\", FutureWarning)\n"
     ]
    },
    {
     "name": "stdout",
     "output_type": "stream",
     "text": [
      "12\n",
      "64\n",
      "0.21496649086475372\n",
      "[[147  64]\n",
      " [  5   9]]\n"
     ]
    },
    {
     "name": "stderr",
     "output_type": "stream",
     "text": [
      "C:\\Users\\jstep\\AppData\\Roaming\\Python\\Python37\\site-packages\\sklearn\\utils\\validation.py:72: FutureWarning: Pass labels=[0 1] as keyword args. From version 1.0 (renaming of 0.25) passing these as positional arguments will result in an error\n",
      "  \"will result in an error\", FutureWarning)\n"
     ]
    },
    {
     "name": "stdout",
     "output_type": "stream",
     "text": [
      "12\n",
      "64\n",
      "0.21600592136383057\n",
      "[[148  63]\n",
      " [  5   9]]\n"
     ]
    },
    {
     "name": "stderr",
     "output_type": "stream",
     "text": [
      "C:\\Users\\jstep\\AppData\\Roaming\\Python\\Python37\\site-packages\\sklearn\\utils\\validation.py:72: FutureWarning: Pass labels=[0 1] as keyword args. From version 1.0 (renaming of 0.25) passing these as positional arguments will result in an error\n",
      "  \"will result in an error\", FutureWarning)\n"
     ]
    },
    {
     "name": "stdout",
     "output_type": "stream",
     "text": [
      "13\n",
      "64\n",
      "0.21919400990009308\n",
      "[[149  62]\n",
      " [  5   9]]\n"
     ]
    },
    {
     "name": "stderr",
     "output_type": "stream",
     "text": [
      "C:\\Users\\jstep\\AppData\\Roaming\\Python\\Python37\\site-packages\\sklearn\\utils\\validation.py:72: FutureWarning: Pass labels=[0 1] as keyword args. From version 1.0 (renaming of 0.25) passing these as positional arguments will result in an error\n",
      "  \"will result in an error\", FutureWarning)\n"
     ]
    },
    {
     "name": "stdout",
     "output_type": "stream",
     "text": [
      "13\n",
      "64\n",
      "0.22176404297351837\n",
      "[[150  61]\n",
      " [  5   9]]\n"
     ]
    },
    {
     "name": "stderr",
     "output_type": "stream",
     "text": [
      "C:\\Users\\jstep\\AppData\\Roaming\\Python\\Python37\\site-packages\\sklearn\\utils\\validation.py:72: FutureWarning: Pass labels=[0 1] as keyword args. From version 1.0 (renaming of 0.25) passing these as positional arguments will result in an error\n",
      "  \"will result in an error\", FutureWarning)\n"
     ]
    },
    {
     "name": "stdout",
     "output_type": "stream",
     "text": [
      "13\n",
      "64\n",
      "0.22592207789421082\n",
      "[[151  60]\n",
      " [  5   9]]\n"
     ]
    },
    {
     "name": "stderr",
     "output_type": "stream",
     "text": [
      "C:\\Users\\jstep\\AppData\\Roaming\\Python\\Python37\\site-packages\\sklearn\\utils\\validation.py:72: FutureWarning: Pass labels=[0 1] as keyword args. From version 1.0 (renaming of 0.25) passing these as positional arguments will result in an error\n",
      "  \"will result in an error\", FutureWarning)\n"
     ]
    },
    {
     "name": "stdout",
     "output_type": "stream",
     "text": [
      "13\n",
      "64\n",
      "0.2324827015399933\n",
      "[[152  59]\n",
      " [  5   9]]\n"
     ]
    },
    {
     "name": "stderr",
     "output_type": "stream",
     "text": [
      "C:\\Users\\jstep\\AppData\\Roaming\\Python\\Python37\\site-packages\\sklearn\\utils\\validation.py:72: FutureWarning: Pass labels=[0 1] as keyword args. From version 1.0 (renaming of 0.25) passing these as positional arguments will result in an error\n",
      "  \"will result in an error\", FutureWarning)\n"
     ]
    },
    {
     "name": "stdout",
     "output_type": "stream",
     "text": [
      "13\n",
      "64\n",
      "0.23873044550418854\n",
      "[[153  58]\n",
      " [  5   9]]\n"
     ]
    },
    {
     "name": "stderr",
     "output_type": "stream",
     "text": [
      "C:\\Users\\jstep\\AppData\\Roaming\\Python\\Python37\\site-packages\\sklearn\\utils\\validation.py:72: FutureWarning: Pass labels=[0 1] as keyword args. From version 1.0 (renaming of 0.25) passing these as positional arguments will result in an error\n",
      "  \"will result in an error\", FutureWarning)\n"
     ]
    },
    {
     "name": "stdout",
     "output_type": "stream",
     "text": [
      "14\n",
      "64\n",
      "0.23979520797729492\n",
      "[[154  57]\n",
      " [  5   9]]\n"
     ]
    },
    {
     "name": "stderr",
     "output_type": "stream",
     "text": [
      "C:\\Users\\jstep\\AppData\\Roaming\\Python\\Python37\\site-packages\\sklearn\\utils\\validation.py:72: FutureWarning: Pass labels=[0 1] as keyword args. From version 1.0 (renaming of 0.25) passing these as positional arguments will result in an error\n",
      "  \"will result in an error\", FutureWarning)\n"
     ]
    },
    {
     "name": "stdout",
     "output_type": "stream",
     "text": [
      "14\n",
      "64\n",
      "0.24066302180290222\n",
      "[[155  56]\n",
      " [  5   9]]\n"
     ]
    },
    {
     "name": "stderr",
     "output_type": "stream",
     "text": [
      "C:\\Users\\jstep\\AppData\\Roaming\\Python\\Python37\\site-packages\\sklearn\\utils\\validation.py:72: FutureWarning: Pass labels=[0 1] as keyword args. From version 1.0 (renaming of 0.25) passing these as positional arguments will result in an error\n",
      "  \"will result in an error\", FutureWarning)\n"
     ]
    },
    {
     "name": "stdout",
     "output_type": "stream",
     "text": [
      "14\n",
      "64\n",
      "0.2419055700302124\n",
      "[[156  55]\n",
      " [  5   9]]\n"
     ]
    },
    {
     "name": "stderr",
     "output_type": "stream",
     "text": [
      "C:\\Users\\jstep\\AppData\\Roaming\\Python\\Python37\\site-packages\\sklearn\\utils\\validation.py:72: FutureWarning: Pass labels=[0 1] as keyword args. From version 1.0 (renaming of 0.25) passing these as positional arguments will result in an error\n",
      "  \"will result in an error\", FutureWarning)\n"
     ]
    },
    {
     "name": "stdout",
     "output_type": "stream",
     "text": [
      "14\n",
      "64\n",
      "0.2567615211009979\n",
      "[[157  54]\n",
      " [  5   9]]\n"
     ]
    },
    {
     "name": "stderr",
     "output_type": "stream",
     "text": [
      "C:\\Users\\jstep\\AppData\\Roaming\\Python\\Python37\\site-packages\\sklearn\\utils\\validation.py:72: FutureWarning: Pass labels=[0 1] as keyword args. From version 1.0 (renaming of 0.25) passing these as positional arguments will result in an error\n",
      "  \"will result in an error\", FutureWarning)\n"
     ]
    },
    {
     "name": "stdout",
     "output_type": "stream",
     "text": [
      "15\n",
      "64\n",
      "0.26109743118286133\n",
      "[[158  53]\n",
      " [  5   9]]\n"
     ]
    },
    {
     "name": "stderr",
     "output_type": "stream",
     "text": [
      "C:\\Users\\jstep\\AppData\\Roaming\\Python\\Python37\\site-packages\\sklearn\\utils\\validation.py:72: FutureWarning: Pass labels=[0 1] as keyword args. From version 1.0 (renaming of 0.25) passing these as positional arguments will result in an error\n",
      "  \"will result in an error\", FutureWarning)\n"
     ]
    },
    {
     "name": "stdout",
     "output_type": "stream",
     "text": [
      "15\n",
      "64\n",
      "0.26229575276374817\n",
      "[[159  52]\n",
      " [  5   9]]\n"
     ]
    },
    {
     "name": "stderr",
     "output_type": "stream",
     "text": [
      "C:\\Users\\jstep\\AppData\\Roaming\\Python\\Python37\\site-packages\\sklearn\\utils\\validation.py:72: FutureWarning: Pass labels=[0 1] as keyword args. From version 1.0 (renaming of 0.25) passing these as positional arguments will result in an error\n",
      "  \"will result in an error\", FutureWarning)\n"
     ]
    },
    {
     "name": "stdout",
     "output_type": "stream",
     "text": [
      "15\n",
      "64\n",
      "0.2690032124519348\n",
      "[[160  51]\n",
      " [  5   9]]\n"
     ]
    },
    {
     "name": "stderr",
     "output_type": "stream",
     "text": [
      "C:\\Users\\jstep\\AppData\\Roaming\\Python\\Python37\\site-packages\\sklearn\\utils\\validation.py:72: FutureWarning: Pass labels=[0 1] as keyword args. From version 1.0 (renaming of 0.25) passing these as positional arguments will result in an error\n",
      "  \"will result in an error\", FutureWarning)\n"
     ]
    },
    {
     "name": "stdout",
     "output_type": "stream",
     "text": [
      "15\n",
      "64\n",
      "0.2911076545715332\n",
      "[[161  50]\n",
      " [  5   9]]\n"
     ]
    },
    {
     "name": "stderr",
     "output_type": "stream",
     "text": [
      "C:\\Users\\jstep\\AppData\\Roaming\\Python\\Python37\\site-packages\\sklearn\\utils\\validation.py:72: FutureWarning: Pass labels=[0 1] as keyword args. From version 1.0 (renaming of 0.25) passing these as positional arguments will result in an error\n",
      "  \"will result in an error\", FutureWarning)\n"
     ]
    },
    {
     "name": "stdout",
     "output_type": "stream",
     "text": [
      "14\n",
      "57\n",
      "0.2930290699005127\n",
      "[[161  50]\n",
      " [  6   8]]\n"
     ]
    },
    {
     "name": "stderr",
     "output_type": "stream",
     "text": [
      "C:\\Users\\jstep\\AppData\\Roaming\\Python\\Python37\\site-packages\\sklearn\\utils\\validation.py:72: FutureWarning: Pass labels=[0 1] as keyword args. From version 1.0 (renaming of 0.25) passing these as positional arguments will result in an error\n",
      "  \"will result in an error\", FutureWarning)\n"
     ]
    },
    {
     "name": "stdout",
     "output_type": "stream",
     "text": [
      "14\n",
      "57\n",
      "0.30001360177993774\n",
      "[[162  49]\n",
      " [  6   8]]\n"
     ]
    },
    {
     "name": "stderr",
     "output_type": "stream",
     "text": [
      "C:\\Users\\jstep\\AppData\\Roaming\\Python\\Python37\\site-packages\\sklearn\\utils\\validation.py:72: FutureWarning: Pass labels=[0 1] as keyword args. From version 1.0 (renaming of 0.25) passing these as positional arguments will result in an error\n",
      "  \"will result in an error\", FutureWarning)\n"
     ]
    },
    {
     "name": "stdout",
     "output_type": "stream",
     "text": [
      "14\n",
      "57\n",
      "0.30866917967796326\n",
      "[[163  48]\n",
      " [  6   8]]\n"
     ]
    },
    {
     "name": "stderr",
     "output_type": "stream",
     "text": [
      "C:\\Users\\jstep\\AppData\\Roaming\\Python\\Python37\\site-packages\\sklearn\\utils\\validation.py:72: FutureWarning: Pass labels=[0 1] as keyword args. From version 1.0 (renaming of 0.25) passing these as positional arguments will result in an error\n",
      "  \"will result in an error\", FutureWarning)\n"
     ]
    },
    {
     "name": "stdout",
     "output_type": "stream",
     "text": [
      "15\n",
      "57\n",
      "0.31289637088775635\n",
      "[[164  47]\n",
      " [  6   8]]\n"
     ]
    },
    {
     "name": "stderr",
     "output_type": "stream",
     "text": [
      "C:\\Users\\jstep\\AppData\\Roaming\\Python\\Python37\\site-packages\\sklearn\\utils\\validation.py:72: FutureWarning: Pass labels=[0 1] as keyword args. From version 1.0 (renaming of 0.25) passing these as positional arguments will result in an error\n",
      "  \"will result in an error\", FutureWarning)\n"
     ]
    },
    {
     "name": "stdout",
     "output_type": "stream",
     "text": [
      "15\n",
      "57\n",
      "0.3192349970340729\n",
      "[[165  46]\n",
      " [  6   8]]\n"
     ]
    },
    {
     "name": "stderr",
     "output_type": "stream",
     "text": [
      "C:\\Users\\jstep\\AppData\\Roaming\\Python\\Python37\\site-packages\\sklearn\\utils\\validation.py:72: FutureWarning: Pass labels=[0 1] as keyword args. From version 1.0 (renaming of 0.25) passing these as positional arguments will result in an error\n",
      "  \"will result in an error\", FutureWarning)\n"
     ]
    },
    {
     "name": "stdout",
     "output_type": "stream",
     "text": [
      "15\n",
      "57\n",
      "0.32230573892593384\n",
      "[[166  45]\n",
      " [  6   8]]\n"
     ]
    },
    {
     "name": "stderr",
     "output_type": "stream",
     "text": [
      "C:\\Users\\jstep\\AppData\\Roaming\\Python\\Python37\\site-packages\\sklearn\\utils\\validation.py:72: FutureWarning: Pass labels=[0 1] as keyword args. From version 1.0 (renaming of 0.25) passing these as positional arguments will result in an error\n",
      "  \"will result in an error\", FutureWarning)\n"
     ]
    },
    {
     "name": "stdout",
     "output_type": "stream",
     "text": [
      "15\n",
      "57\n",
      "0.3237055540084839\n",
      "[[167  44]\n",
      " [  6   8]]\n"
     ]
    },
    {
     "name": "stderr",
     "output_type": "stream",
     "text": [
      "C:\\Users\\jstep\\AppData\\Roaming\\Python\\Python37\\site-packages\\sklearn\\utils\\validation.py:72: FutureWarning: Pass labels=[0 1] as keyword args. From version 1.0 (renaming of 0.25) passing these as positional arguments will result in an error\n",
      "  \"will result in an error\", FutureWarning)\n"
     ]
    },
    {
     "name": "stdout",
     "output_type": "stream",
     "text": [
      "16\n",
      "57\n",
      "0.3323211371898651\n",
      "[[168  43]\n",
      " [  6   8]]\n"
     ]
    },
    {
     "name": "stderr",
     "output_type": "stream",
     "text": [
      "C:\\Users\\jstep\\AppData\\Roaming\\Python\\Python37\\site-packages\\sklearn\\utils\\validation.py:72: FutureWarning: Pass labels=[0 1] as keyword args. From version 1.0 (renaming of 0.25) passing these as positional arguments will result in an error\n",
      "  \"will result in an error\", FutureWarning)\n"
     ]
    },
    {
     "name": "stdout",
     "output_type": "stream",
     "text": [
      "16\n",
      "57\n",
      "0.3358980715274811\n",
      "[[169  42]\n",
      " [  6   8]]\n"
     ]
    },
    {
     "name": "stderr",
     "output_type": "stream",
     "text": [
      "C:\\Users\\jstep\\AppData\\Roaming\\Python\\Python37\\site-packages\\sklearn\\utils\\validation.py:72: FutureWarning: Pass labels=[0 1] as keyword args. From version 1.0 (renaming of 0.25) passing these as positional arguments will result in an error\n",
      "  \"will result in an error\", FutureWarning)\n"
     ]
    },
    {
     "name": "stdout",
     "output_type": "stream",
     "text": [
      "14\n",
      "50\n",
      "0.3455911874771118\n",
      "[[169  42]\n",
      " [  7   7]]\n"
     ]
    },
    {
     "name": "stderr",
     "output_type": "stream",
     "text": [
      "C:\\Users\\jstep\\AppData\\Roaming\\Python\\Python37\\site-packages\\sklearn\\utils\\validation.py:72: FutureWarning: Pass labels=[0 1] as keyword args. From version 1.0 (renaming of 0.25) passing these as positional arguments will result in an error\n",
      "  \"will result in an error\", FutureWarning)\n"
     ]
    },
    {
     "name": "stdout",
     "output_type": "stream",
     "text": [
      "15\n",
      "50\n",
      "0.36970436573028564\n",
      "[[170  41]\n",
      " [  7   7]]\n"
     ]
    },
    {
     "name": "stderr",
     "output_type": "stream",
     "text": [
      "C:\\Users\\jstep\\AppData\\Roaming\\Python\\Python37\\site-packages\\sklearn\\utils\\validation.py:72: FutureWarning: Pass labels=[0 1] as keyword args. From version 1.0 (renaming of 0.25) passing these as positional arguments will result in an error\n",
      "  \"will result in an error\", FutureWarning)\n"
     ]
    },
    {
     "name": "stdout",
     "output_type": "stream",
     "text": [
      "15\n",
      "50\n",
      "0.37444067001342773\n",
      "[[171  40]\n",
      " [  7   7]]\n"
     ]
    },
    {
     "name": "stderr",
     "output_type": "stream",
     "text": [
      "C:\\Users\\jstep\\AppData\\Roaming\\Python\\Python37\\site-packages\\sklearn\\utils\\validation.py:72: FutureWarning: Pass labels=[0 1] as keyword args. From version 1.0 (renaming of 0.25) passing these as positional arguments will result in an error\n",
      "  \"will result in an error\", FutureWarning)\n"
     ]
    },
    {
     "name": "stdout",
     "output_type": "stream",
     "text": [
      "15\n",
      "50\n",
      "0.37506067752838135\n",
      "[[172  39]\n",
      " [  7   7]]\n"
     ]
    },
    {
     "name": "stderr",
     "output_type": "stream",
     "text": [
      "C:\\Users\\jstep\\AppData\\Roaming\\Python\\Python37\\site-packages\\sklearn\\utils\\validation.py:72: FutureWarning: Pass labels=[0 1] as keyword args. From version 1.0 (renaming of 0.25) passing these as positional arguments will result in an error\n",
      "  \"will result in an error\", FutureWarning)\n"
     ]
    },
    {
     "name": "stdout",
     "output_type": "stream",
     "text": [
      "16\n",
      "50\n",
      "0.37669867277145386\n",
      "[[173  38]\n",
      " [  7   7]]\n"
     ]
    },
    {
     "name": "stderr",
     "output_type": "stream",
     "text": [
      "C:\\Users\\jstep\\AppData\\Roaming\\Python\\Python37\\site-packages\\sklearn\\utils\\validation.py:72: FutureWarning: Pass labels=[0 1] as keyword args. From version 1.0 (renaming of 0.25) passing these as positional arguments will result in an error\n",
      "  \"will result in an error\", FutureWarning)\n"
     ]
    },
    {
     "name": "stdout",
     "output_type": "stream",
     "text": [
      "16\n",
      "50\n",
      "0.37938639521598816\n",
      "[[174  37]\n",
      " [  7   7]]\n"
     ]
    },
    {
     "name": "stderr",
     "output_type": "stream",
     "text": [
      "C:\\Users\\jstep\\AppData\\Roaming\\Python\\Python37\\site-packages\\sklearn\\utils\\validation.py:72: FutureWarning: Pass labels=[0 1] as keyword args. From version 1.0 (renaming of 0.25) passing these as positional arguments will result in an error\n",
      "  \"will result in an error\", FutureWarning)\n"
     ]
    },
    {
     "name": "stdout",
     "output_type": "stream",
     "text": [
      "16\n",
      "50\n",
      "0.3893998861312866\n",
      "[[175  36]\n",
      " [  7   7]]\n"
     ]
    },
    {
     "name": "stderr",
     "output_type": "stream",
     "text": [
      "C:\\Users\\jstep\\AppData\\Roaming\\Python\\Python37\\site-packages\\sklearn\\utils\\validation.py:72: FutureWarning: Pass labels=[0 1] as keyword args. From version 1.0 (renaming of 0.25) passing these as positional arguments will result in an error\n",
      "  \"will result in an error\", FutureWarning)\n"
     ]
    },
    {
     "name": "stdout",
     "output_type": "stream",
     "text": [
      "17\n",
      "50\n",
      "0.39158281683921814\n",
      "[[176  35]\n",
      " [  7   7]]\n"
     ]
    },
    {
     "name": "stderr",
     "output_type": "stream",
     "text": [
      "C:\\Users\\jstep\\AppData\\Roaming\\Python\\Python37\\site-packages\\sklearn\\utils\\validation.py:72: FutureWarning: Pass labels=[0 1] as keyword args. From version 1.0 (renaming of 0.25) passing these as positional arguments will result in an error\n",
      "  \"will result in an error\", FutureWarning)\n"
     ]
    },
    {
     "name": "stdout",
     "output_type": "stream",
     "text": [
      "17\n",
      "50\n",
      "0.3963783085346222\n",
      "[[177  34]\n",
      " [  7   7]]\n"
     ]
    },
    {
     "name": "stderr",
     "output_type": "stream",
     "text": [
      "C:\\Users\\jstep\\AppData\\Roaming\\Python\\Python37\\site-packages\\sklearn\\utils\\validation.py:72: FutureWarning: Pass labels=[0 1] as keyword args. From version 1.0 (renaming of 0.25) passing these as positional arguments will result in an error\n",
      "  \"will result in an error\", FutureWarning)\n"
     ]
    },
    {
     "name": "stdout",
     "output_type": "stream",
     "text": [
      "18\n",
      "50\n",
      "0.3971234858036041\n",
      "[[178  33]\n",
      " [  7   7]]\n"
     ]
    },
    {
     "name": "stderr",
     "output_type": "stream",
     "text": [
      "C:\\Users\\jstep\\AppData\\Roaming\\Python\\Python37\\site-packages\\sklearn\\utils\\validation.py:72: FutureWarning: Pass labels=[0 1] as keyword args. From version 1.0 (renaming of 0.25) passing these as positional arguments will result in an error\n",
      "  \"will result in an error\", FutureWarning)\n"
     ]
    },
    {
     "name": "stdout",
     "output_type": "stream",
     "text": [
      "18\n",
      "50\n",
      "0.4092366695404053\n",
      "[[179  32]\n",
      " [  7   7]]\n"
     ]
    },
    {
     "name": "stderr",
     "output_type": "stream",
     "text": [
      "C:\\Users\\jstep\\AppData\\Roaming\\Python\\Python37\\site-packages\\sklearn\\utils\\validation.py:72: FutureWarning: Pass labels=[0 1] as keyword args. From version 1.0 (renaming of 0.25) passing these as positional arguments will result in an error\n",
      "  \"will result in an error\", FutureWarning)\n"
     ]
    },
    {
     "name": "stdout",
     "output_type": "stream",
     "text": [
      "18\n",
      "50\n",
      "0.4276813864707947\n",
      "[[180  31]\n",
      " [  7   7]]\n"
     ]
    },
    {
     "name": "stderr",
     "output_type": "stream",
     "text": [
      "C:\\Users\\jstep\\AppData\\Roaming\\Python\\Python37\\site-packages\\sklearn\\utils\\validation.py:72: FutureWarning: Pass labels=[0 1] as keyword args. From version 1.0 (renaming of 0.25) passing these as positional arguments will result in an error\n",
      "  \"will result in an error\", FutureWarning)\n"
     ]
    },
    {
     "name": "stdout",
     "output_type": "stream",
     "text": [
      "19\n",
      "50\n",
      "0.45875367522239685\n",
      "[[181  30]\n",
      " [  7   7]]\n"
     ]
    },
    {
     "name": "stderr",
     "output_type": "stream",
     "text": [
      "C:\\Users\\jstep\\AppData\\Roaming\\Python\\Python37\\site-packages\\sklearn\\utils\\validation.py:72: FutureWarning: Pass labels=[0 1] as keyword args. From version 1.0 (renaming of 0.25) passing these as positional arguments will result in an error\n",
      "  \"will result in an error\", FutureWarning)\n"
     ]
    },
    {
     "name": "stdout",
     "output_type": "stream",
     "text": [
      "19\n",
      "50\n",
      "0.4777497947216034\n",
      "[[182  29]\n",
      " [  7   7]]\n"
     ]
    },
    {
     "name": "stderr",
     "output_type": "stream",
     "text": [
      "C:\\Users\\jstep\\AppData\\Roaming\\Python\\Python37\\site-packages\\sklearn\\utils\\validation.py:72: FutureWarning: Pass labels=[0 1] as keyword args. From version 1.0 (renaming of 0.25) passing these as positional arguments will result in an error\n",
      "  \"will result in an error\", FutureWarning)\n"
     ]
    },
    {
     "name": "stdout",
     "output_type": "stream",
     "text": [
      "20\n",
      "50\n",
      "0.4798296391963959\n",
      "[[183  28]\n",
      " [  7   7]]\n"
     ]
    },
    {
     "name": "stderr",
     "output_type": "stream",
     "text": [
      "C:\\Users\\jstep\\AppData\\Roaming\\Python\\Python37\\site-packages\\sklearn\\utils\\validation.py:72: FutureWarning: Pass labels=[0 1] as keyword args. From version 1.0 (renaming of 0.25) passing these as positional arguments will result in an error\n",
      "  \"will result in an error\", FutureWarning)\n"
     ]
    },
    {
     "name": "stdout",
     "output_type": "stream",
     "text": [
      "21\n",
      "50\n",
      "0.48325473070144653\n",
      "[[184  27]\n",
      " [  7   7]]\n"
     ]
    },
    {
     "name": "stderr",
     "output_type": "stream",
     "text": [
      "C:\\Users\\jstep\\AppData\\Roaming\\Python\\Python37\\site-packages\\sklearn\\utils\\validation.py:72: FutureWarning: Pass labels=[0 1] as keyword args. From version 1.0 (renaming of 0.25) passing these as positional arguments will result in an error\n",
      "  \"will result in an error\", FutureWarning)\n"
     ]
    },
    {
     "name": "stdout",
     "output_type": "stream",
     "text": [
      "21\n",
      "50\n",
      "0.48622822761535645\n",
      "[[185  26]\n",
      " [  7   7]]\n"
     ]
    },
    {
     "name": "stderr",
     "output_type": "stream",
     "text": [
      "C:\\Users\\jstep\\AppData\\Roaming\\Python\\Python37\\site-packages\\sklearn\\utils\\validation.py:72: FutureWarning: Pass labels=[0 1] as keyword args. From version 1.0 (renaming of 0.25) passing these as positional arguments will result in an error\n",
      "  \"will result in an error\", FutureWarning)\n"
     ]
    },
    {
     "name": "stdout",
     "output_type": "stream",
     "text": [
      "19\n",
      "43\n",
      "0.4924563467502594\n",
      "[[185  26]\n",
      " [  8   6]]\n"
     ]
    },
    {
     "name": "stderr",
     "output_type": "stream",
     "text": [
      "C:\\Users\\jstep\\AppData\\Roaming\\Python\\Python37\\site-packages\\sklearn\\utils\\validation.py:72: FutureWarning: Pass labels=[0 1] as keyword args. From version 1.0 (renaming of 0.25) passing these as positional arguments will result in an error\n",
      "  \"will result in an error\", FutureWarning)\n"
     ]
    },
    {
     "name": "stdout",
     "output_type": "stream",
     "text": [
      "19\n",
      "43\n",
      "0.49918651580810547\n",
      "[[186  25]\n",
      " [  8   6]]\n"
     ]
    },
    {
     "name": "stderr",
     "output_type": "stream",
     "text": [
      "C:\\Users\\jstep\\AppData\\Roaming\\Python\\Python37\\site-packages\\sklearn\\utils\\validation.py:72: FutureWarning: Pass labels=[0 1] as keyword args. From version 1.0 (renaming of 0.25) passing these as positional arguments will result in an error\n",
      "  \"will result in an error\", FutureWarning)\n"
     ]
    },
    {
     "name": "stdout",
     "output_type": "stream",
     "text": [
      "20\n",
      "43\n",
      "0.5059789419174194\n",
      "[[187  24]\n",
      " [  8   6]]\n"
     ]
    },
    {
     "name": "stderr",
     "output_type": "stream",
     "text": [
      "C:\\Users\\jstep\\AppData\\Roaming\\Python\\Python37\\site-packages\\sklearn\\utils\\validation.py:72: FutureWarning: Pass labels=[0 1] as keyword args. From version 1.0 (renaming of 0.25) passing these as positional arguments will result in an error\n",
      "  \"will result in an error\", FutureWarning)\n"
     ]
    },
    {
     "name": "stdout",
     "output_type": "stream",
     "text": [
      "21\n",
      "43\n",
      "0.5066436529159546\n",
      "[[188  23]\n",
      " [  8   6]]\n"
     ]
    },
    {
     "name": "stderr",
     "output_type": "stream",
     "text": [
      "C:\\Users\\jstep\\AppData\\Roaming\\Python\\Python37\\site-packages\\sklearn\\utils\\validation.py:72: FutureWarning: Pass labels=[0 1] as keyword args. From version 1.0 (renaming of 0.25) passing these as positional arguments will result in an error\n",
      "  \"will result in an error\", FutureWarning)\n"
     ]
    },
    {
     "name": "stdout",
     "output_type": "stream",
     "text": [
      "21\n",
      "43\n",
      "0.5320979952812195\n",
      "[[189  22]\n",
      " [  8   6]]\n"
     ]
    },
    {
     "name": "stderr",
     "output_type": "stream",
     "text": [
      "C:\\Users\\jstep\\AppData\\Roaming\\Python\\Python37\\site-packages\\sklearn\\utils\\validation.py:72: FutureWarning: Pass labels=[0 1] as keyword args. From version 1.0 (renaming of 0.25) passing these as positional arguments will result in an error\n",
      "  \"will result in an error\", FutureWarning)\n"
     ]
    },
    {
     "name": "stdout",
     "output_type": "stream",
     "text": [
      "22\n",
      "43\n",
      "0.5452701449394226\n",
      "[[190  21]\n",
      " [  8   6]]\n"
     ]
    },
    {
     "name": "stderr",
     "output_type": "stream",
     "text": [
      "C:\\Users\\jstep\\AppData\\Roaming\\Python\\Python37\\site-packages\\sklearn\\utils\\validation.py:72: FutureWarning: Pass labels=[0 1] as keyword args. From version 1.0 (renaming of 0.25) passing these as positional arguments will result in an error\n",
      "  \"will result in an error\", FutureWarning)\n"
     ]
    },
    {
     "name": "stdout",
     "output_type": "stream",
     "text": [
      "23\n",
      "43\n",
      "0.5766775608062744\n",
      "[[191  20]\n",
      " [  8   6]]\n"
     ]
    },
    {
     "name": "stderr",
     "output_type": "stream",
     "text": [
      "C:\\Users\\jstep\\AppData\\Roaming\\Python\\Python37\\site-packages\\sklearn\\utils\\validation.py:72: FutureWarning: Pass labels=[0 1] as keyword args. From version 1.0 (renaming of 0.25) passing these as positional arguments will result in an error\n",
      "  \"will result in an error\", FutureWarning)\n"
     ]
    },
    {
     "name": "stdout",
     "output_type": "stream",
     "text": [
      "20\n",
      "36\n",
      "0.5785744190216064\n",
      "[[191  20]\n",
      " [  9   5]]\n"
     ]
    },
    {
     "name": "stderr",
     "output_type": "stream",
     "text": [
      "C:\\Users\\jstep\\AppData\\Roaming\\Python\\Python37\\site-packages\\sklearn\\utils\\validation.py:72: FutureWarning: Pass labels=[0 1] as keyword args. From version 1.0 (renaming of 0.25) passing these as positional arguments will result in an error\n",
      "  \"will result in an error\", FutureWarning)\n"
     ]
    },
    {
     "name": "stdout",
     "output_type": "stream",
     "text": [
      "21\n",
      "36\n",
      "0.5797618627548218\n",
      "[[192  19]\n",
      " [  9   5]]\n"
     ]
    },
    {
     "name": "stderr",
     "output_type": "stream",
     "text": [
      "C:\\Users\\jstep\\AppData\\Roaming\\Python\\Python37\\site-packages\\sklearn\\utils\\validation.py:72: FutureWarning: Pass labels=[0 1] as keyword args. From version 1.0 (renaming of 0.25) passing these as positional arguments will result in an error\n",
      "  \"will result in an error\", FutureWarning)\n"
     ]
    },
    {
     "name": "stdout",
     "output_type": "stream",
     "text": [
      "22\n",
      "36\n",
      "0.5807949304580688\n",
      "[[193  18]\n",
      " [  9   5]]\n"
     ]
    },
    {
     "name": "stderr",
     "output_type": "stream",
     "text": [
      "C:\\Users\\jstep\\AppData\\Roaming\\Python\\Python37\\site-packages\\sklearn\\utils\\validation.py:72: FutureWarning: Pass labels=[0 1] as keyword args. From version 1.0 (renaming of 0.25) passing these as positional arguments will result in an error\n",
      "  \"will result in an error\", FutureWarning)\n"
     ]
    },
    {
     "name": "stdout",
     "output_type": "stream",
     "text": [
      "23\n",
      "36\n",
      "0.5896217226982117\n",
      "[[194  17]\n",
      " [  9   5]]\n"
     ]
    },
    {
     "name": "stderr",
     "output_type": "stream",
     "text": [
      "C:\\Users\\jstep\\AppData\\Roaming\\Python\\Python37\\site-packages\\sklearn\\utils\\validation.py:72: FutureWarning: Pass labels=[0 1] as keyword args. From version 1.0 (renaming of 0.25) passing these as positional arguments will result in an error\n",
      "  \"will result in an error\", FutureWarning)\n"
     ]
    },
    {
     "name": "stdout",
     "output_type": "stream",
     "text": [
      "24\n",
      "36\n",
      "0.5904155373573303\n",
      "[[195  16]\n",
      " [  9   5]]\n"
     ]
    },
    {
     "name": "stderr",
     "output_type": "stream",
     "text": [
      "C:\\Users\\jstep\\AppData\\Roaming\\Python\\Python37\\site-packages\\sklearn\\utils\\validation.py:72: FutureWarning: Pass labels=[0 1] as keyword args. From version 1.0 (renaming of 0.25) passing these as positional arguments will result in an error\n",
      "  \"will result in an error\", FutureWarning)\n"
     ]
    },
    {
     "name": "stdout",
     "output_type": "stream",
     "text": [
      "25\n",
      "36\n",
      "0.600766122341156\n",
      "[[196  15]\n",
      " [  9   5]]\n"
     ]
    },
    {
     "name": "stderr",
     "output_type": "stream",
     "text": [
      "C:\\Users\\jstep\\AppData\\Roaming\\Python\\Python37\\site-packages\\sklearn\\utils\\validation.py:72: FutureWarning: Pass labels=[0 1] as keyword args. From version 1.0 (renaming of 0.25) passing these as positional arguments will result in an error\n",
      "  \"will result in an error\", FutureWarning)\n"
     ]
    },
    {
     "name": "stdout",
     "output_type": "stream",
     "text": [
      "26\n",
      "36\n",
      "0.6453726887702942\n",
      "[[197  14]\n",
      " [  9   5]]\n"
     ]
    },
    {
     "name": "stderr",
     "output_type": "stream",
     "text": [
      "C:\\Users\\jstep\\AppData\\Roaming\\Python\\Python37\\site-packages\\sklearn\\utils\\validation.py:72: FutureWarning: Pass labels=[0 1] as keyword args. From version 1.0 (renaming of 0.25) passing these as positional arguments will result in an error\n",
      "  \"will result in an error\", FutureWarning)\n"
     ]
    },
    {
     "name": "stdout",
     "output_type": "stream",
     "text": [
      "28\n",
      "36\n",
      "0.6734043955802917\n",
      "[[198  13]\n",
      " [  9   5]]\n"
     ]
    },
    {
     "name": "stderr",
     "output_type": "stream",
     "text": [
      "C:\\Users\\jstep\\AppData\\Roaming\\Python\\Python37\\site-packages\\sklearn\\utils\\validation.py:72: FutureWarning: Pass labels=[0 1] as keyword args. From version 1.0 (renaming of 0.25) passing these as positional arguments will result in an error\n",
      "  \"will result in an error\", FutureWarning)\n"
     ]
    },
    {
     "name": "stdout",
     "output_type": "stream",
     "text": [
      "29\n",
      "36\n",
      "0.7120093703269958\n",
      "[[199  12]\n",
      " [  9   5]]\n"
     ]
    },
    {
     "name": "stderr",
     "output_type": "stream",
     "text": [
      "C:\\Users\\jstep\\AppData\\Roaming\\Python\\Python37\\site-packages\\sklearn\\utils\\validation.py:72: FutureWarning: Pass labels=[0 1] as keyword args. From version 1.0 (renaming of 0.25) passing these as positional arguments will result in an error\n",
      "  \"will result in an error\", FutureWarning)\n"
     ]
    },
    {
     "name": "stdout",
     "output_type": "stream",
     "text": [
      "31\n",
      "36\n",
      "0.7169631123542786\n",
      "[[200  11]\n",
      " [  9   5]]\n"
     ]
    },
    {
     "name": "stderr",
     "output_type": "stream",
     "text": [
      "C:\\Users\\jstep\\AppData\\Roaming\\Python\\Python37\\site-packages\\sklearn\\utils\\validation.py:72: FutureWarning: Pass labels=[0 1] as keyword args. From version 1.0 (renaming of 0.25) passing these as positional arguments will result in an error\n",
      "  \"will result in an error\", FutureWarning)\n"
     ]
    },
    {
     "name": "stdout",
     "output_type": "stream",
     "text": [
      "33\n",
      "36\n",
      "0.7566524147987366\n",
      "[[201  10]\n",
      " [  9   5]]\n"
     ]
    },
    {
     "name": "stderr",
     "output_type": "stream",
     "text": [
      "C:\\Users\\jstep\\AppData\\Roaming\\Python\\Python37\\site-packages\\sklearn\\utils\\validation.py:72: FutureWarning: Pass labels=[0 1] as keyword args. From version 1.0 (renaming of 0.25) passing these as positional arguments will result in an error\n",
      "  \"will result in an error\", FutureWarning)\n"
     ]
    },
    {
     "name": "stdout",
     "output_type": "stream",
     "text": [
      "29\n",
      "29\n",
      "0.7803604602813721\n",
      "[[201  10]\n",
      " [ 10   4]]\n"
     ]
    },
    {
     "name": "stderr",
     "output_type": "stream",
     "text": [
      "C:\\Users\\jstep\\AppData\\Roaming\\Python\\Python37\\site-packages\\sklearn\\utils\\validation.py:72: FutureWarning: Pass labels=[0 1] as keyword args. From version 1.0 (renaming of 0.25) passing these as positional arguments will result in an error\n",
      "  \"will result in an error\", FutureWarning)\n"
     ]
    },
    {
     "name": "stdout",
     "output_type": "stream",
     "text": [
      "31\n",
      "29\n",
      "0.791402280330658\n",
      "[[202   9]\n",
      " [ 10   4]]\n"
     ]
    },
    {
     "name": "stderr",
     "output_type": "stream",
     "text": [
      "C:\\Users\\jstep\\AppData\\Roaming\\Python\\Python37\\site-packages\\sklearn\\utils\\validation.py:72: FutureWarning: Pass labels=[0 1] as keyword args. From version 1.0 (renaming of 0.25) passing these as positional arguments will result in an error\n",
      "  \"will result in an error\", FutureWarning)\n"
     ]
    },
    {
     "name": "stdout",
     "output_type": "stream",
     "text": [
      "33\n",
      "29\n",
      "0.8213755488395691\n",
      "[[203   8]\n",
      " [ 10   4]]\n"
     ]
    },
    {
     "name": "stderr",
     "output_type": "stream",
     "text": [
      "C:\\Users\\jstep\\AppData\\Roaming\\Python\\Python37\\site-packages\\sklearn\\utils\\validation.py:72: FutureWarning: Pass labels=[0 1] as keyword args. From version 1.0 (renaming of 0.25) passing these as positional arguments will result in an error\n",
      "  \"will result in an error\", FutureWarning)\n"
     ]
    },
    {
     "name": "stdout",
     "output_type": "stream",
     "text": [
      "36\n",
      "29\n",
      "0.8371022343635559\n",
      "[[204   7]\n",
      " [ 10   4]]\n"
     ]
    },
    {
     "name": "stderr",
     "output_type": "stream",
     "text": [
      "C:\\Users\\jstep\\AppData\\Roaming\\Python\\Python37\\site-packages\\sklearn\\utils\\validation.py:72: FutureWarning: Pass labels=[0 1] as keyword args. From version 1.0 (renaming of 0.25) passing these as positional arguments will result in an error\n",
      "  \"will result in an error\", FutureWarning)\n"
     ]
    },
    {
     "name": "stdout",
     "output_type": "stream",
     "text": [
      "40\n",
      "29\n",
      "0.8434188961982727\n",
      "[[205   6]\n",
      " [ 10   4]]\n"
     ]
    },
    {
     "name": "stderr",
     "output_type": "stream",
     "text": [
      "C:\\Users\\jstep\\AppData\\Roaming\\Python\\Python37\\site-packages\\sklearn\\utils\\validation.py:72: FutureWarning: Pass labels=[0 1] as keyword args. From version 1.0 (renaming of 0.25) passing these as positional arguments will result in an error\n",
      "  \"will result in an error\", FutureWarning)\n"
     ]
    },
    {
     "name": "stdout",
     "output_type": "stream",
     "text": [
      "33\n",
      "21\n",
      "0.8481594324111938\n",
      "[[205   6]\n",
      " [ 11   3]]\n"
     ]
    },
    {
     "name": "stderr",
     "output_type": "stream",
     "text": [
      "C:\\Users\\jstep\\AppData\\Roaming\\Python\\Python37\\site-packages\\sklearn\\utils\\validation.py:72: FutureWarning: Pass labels=[0 1] as keyword args. From version 1.0 (renaming of 0.25) passing these as positional arguments will result in an error\n",
      "  \"will result in an error\", FutureWarning)\n"
     ]
    },
    {
     "name": "stdout",
     "output_type": "stream",
     "text": [
      "38\n",
      "21\n",
      "0.8758631348609924\n",
      "[[206   5]\n",
      " [ 11   3]]\n"
     ]
    },
    {
     "name": "stderr",
     "output_type": "stream",
     "text": [
      "C:\\Users\\jstep\\AppData\\Roaming\\Python\\Python37\\site-packages\\sklearn\\utils\\validation.py:72: FutureWarning: Pass labels=[0 1] as keyword args. From version 1.0 (renaming of 0.25) passing these as positional arguments will result in an error\n",
      "  \"will result in an error\", FutureWarning)\n"
     ]
    },
    {
     "name": "stdout",
     "output_type": "stream",
     "text": [
      "29\n",
      "14\n",
      "0.8857912421226501\n",
      "[[206   5]\n",
      " [ 12   2]]\n"
     ]
    },
    {
     "name": "stderr",
     "output_type": "stream",
     "text": [
      "C:\\Users\\jstep\\AppData\\Roaming\\Python\\Python37\\site-packages\\sklearn\\utils\\validation.py:72: FutureWarning: Pass labels=[0 1] as keyword args. From version 1.0 (renaming of 0.25) passing these as positional arguments will result in an error\n",
      "  \"will result in an error\", FutureWarning)\n"
     ]
    },
    {
     "name": "stdout",
     "output_type": "stream",
     "text": [
      "17\n",
      "7\n",
      "0.8901304602622986\n",
      "[[206   5]\n",
      " [ 13   1]]\n"
     ]
    },
    {
     "name": "stderr",
     "output_type": "stream",
     "text": [
      "C:\\Users\\jstep\\AppData\\Roaming\\Python\\Python37\\site-packages\\sklearn\\utils\\validation.py:72: FutureWarning: Pass labels=[0 1] as keyword args. From version 1.0 (renaming of 0.25) passing these as positional arguments will result in an error\n",
      "  \"will result in an error\", FutureWarning)\n"
     ]
    },
    {
     "name": "stdout",
     "output_type": "stream",
     "text": [
      "20\n",
      "7\n",
      "0.8954293727874756\n",
      "[[207   4]\n",
      " [ 13   1]]\n"
     ]
    },
    {
     "name": "stderr",
     "output_type": "stream",
     "text": [
      "C:\\Users\\jstep\\AppData\\Roaming\\Python\\Python37\\site-packages\\sklearn\\utils\\validation.py:72: FutureWarning: Pass labels=[0 1] as keyword args. From version 1.0 (renaming of 0.25) passing these as positional arguments will result in an error\n",
      "  \"will result in an error\", FutureWarning)\n"
     ]
    },
    {
     "name": "stdout",
     "output_type": "stream",
     "text": [
      "25\n",
      "7\n",
      "0.942450761795044\n",
      "[[208   3]\n",
      " [ 13   1]]\n"
     ]
    },
    {
     "name": "stderr",
     "output_type": "stream",
     "text": [
      "C:\\Users\\jstep\\AppData\\Roaming\\Python\\Python37\\site-packages\\sklearn\\utils\\validation.py:72: FutureWarning: Pass labels=[0 1] as keyword args. From version 1.0 (renaming of 0.25) passing these as positional arguments will result in an error\n",
      "  \"will result in an error\", FutureWarning)\n"
     ]
    },
    {
     "name": "stdout",
     "output_type": "stream",
     "text": [
      "33\n",
      "7\n",
      "0.9444198608398438\n",
      "[[209   2]\n",
      " [ 13   1]]\n"
     ]
    },
    {
     "name": "stderr",
     "output_type": "stream",
     "text": [
      "C:\\Users\\jstep\\AppData\\Roaming\\Python\\Python37\\site-packages\\sklearn\\utils\\validation.py:72: FutureWarning: Pass labels=[0 1] as keyword args. From version 1.0 (renaming of 0.25) passing these as positional arguments will result in an error\n",
      "  \"will result in an error\", FutureWarning)\n"
     ]
    },
    {
     "name": "stdout",
     "output_type": "stream",
     "text": [
      "50\n",
      "7\n",
      "0.9493215680122375\n",
      "[[210   1]\n",
      " [ 13   1]]\n"
     ]
    },
    {
     "name": "stderr",
     "output_type": "stream",
     "text": [
      "C:\\Users\\jstep\\AppData\\Roaming\\Python\\Python37\\site-packages\\sklearn\\utils\\validation.py:72: FutureWarning: Pass labels=[0 1] as keyword args. From version 1.0 (renaming of 0.25) passing these as positional arguments will result in an error\n",
      "  \"will result in an error\", FutureWarning)\n"
     ]
    },
    {
     "name": "stdout",
     "output_type": "stream",
     "text": [
      "0\n",
      "0\n",
      "0.959694504737854\n",
      "[[210   1]\n",
      " [ 14   0]]\n"
     ]
    },
    {
     "name": "stderr",
     "output_type": "stream",
     "text": [
      "C:\\Users\\jstep\\AppData\\Roaming\\Python\\Python37\\site-packages\\sklearn\\utils\\validation.py:72: FutureWarning: Pass labels=[0 1] as keyword args. From version 1.0 (renaming of 0.25) passing these as positional arguments will result in an error\n",
      "  \"will result in an error\", FutureWarning)\n",
      "C:\\Users\\jstep\\AppData\\Roaming\\Python\\Python37\\site-packages\\sklearn\\metrics\\_classification.py:1245: UndefinedMetricWarning: Precision is ill-defined and being set to 0.0 due to no predicted samples. Use `zero_division` parameter to control this behavior.\n",
      "  _warn_prf(average, modifier, msg_start, len(result))\n"
     ]
    },
    {
     "name": "stdout",
     "output_type": "stream",
     "text": [
      "0\n",
      "0\n",
      "1.0\n",
      "[[211   0]\n",
      " [ 14   0]]\n"
     ]
    }
   ],
   "source": [
    "threshold_data = pd.DataFrame()\n",
    "for i, row in recall_precision_data.iterrows():\n",
    "    test_vs_hat[\"y_hat\"] = np.where(test_vs_hat[\"yhat_test_prob\"] >= row[\"Threshold\"],1,0)\n",
    "    c_matrix = CM(test_vs_hat[\"y_test\"],test_vs_hat[\"y_hat\"],np.unique(test_vs_hat[\"y_test\"]))\n",
    "    \n",
    "    precision = round(precision_score(test_vs_hat[\"y_test\"], test_vs_hat[\"y_hat\"], average='binary')*100)\n",
    "    recall = round(recall_score(test_vs_hat[\"y_test\"], test_vs_hat[\"y_hat\"], average='binary')*100)\n",
    "\n",
    "    print(precision)\n",
    "    print(recall)\n",
    "    print(row[\"Threshold\"])\n",
    "    print(c_matrix)\n",
    "    threshold_data_row = pd.DataFrame({\"Threshold\":[row[\"Threshold\"]],\n",
    "                                       \"tn\":[c_matrix[0][0]],\n",
    "                                       \"tp\":[c_matrix[1][1]], \n",
    "                                       \"fp\":[c_matrix[0][1]],\n",
    "                                       \"fn\":[c_matrix[1][0]]})\n",
    "    threshold_data = threshold_data.append(threshold_data_row)"
   ]
  },
  {
   "cell_type": "code",
   "execution_count": 137,
   "metadata": {},
   "outputs": [],
   "source": [
    "final_recall_precision_data = pd.merge(recall_precision_data,threshold_data)"
   ]
  },
  {
   "cell_type": "code",
   "execution_count": 155,
   "metadata": {},
   "outputs": [
    {
     "data": {
      "text/html": [
       "<div>\n",
       "<style scoped>\n",
       "    .dataframe tbody tr th:only-of-type {\n",
       "        vertical-align: middle;\n",
       "    }\n",
       "\n",
       "    .dataframe tbody tr th {\n",
       "        vertical-align: top;\n",
       "    }\n",
       "\n",
       "    .dataframe thead th {\n",
       "        text-align: right;\n",
       "    }\n",
       "</style>\n",
       "<table border=\"1\" class=\"dataframe\">\n",
       "  <thead>\n",
       "    <tr style=\"text-align: right;\">\n",
       "      <th></th>\n",
       "      <th>Recall</th>\n",
       "      <th>Precision</th>\n",
       "      <th>Threshold</th>\n",
       "      <th>tn</th>\n",
       "      <th>tp</th>\n",
       "      <th>fp</th>\n",
       "      <th>fn</th>\n",
       "      <th>p_check</th>\n",
       "      <th>r_check</th>\n",
       "    </tr>\n",
       "  </thead>\n",
       "  <tbody>\n",
       "    <tr>\n",
       "      <th>0</th>\n",
       "      <td>1.000000</td>\n",
       "      <td>0.075676</td>\n",
       "      <td>0.009160</td>\n",
       "      <td>40</td>\n",
       "      <td>14</td>\n",
       "      <td>171</td>\n",
       "      <td>0</td>\n",
       "      <td>0.075676</td>\n",
       "      <td>1.000000</td>\n",
       "    </tr>\n",
       "    <tr>\n",
       "      <th>1</th>\n",
       "      <td>0.928571</td>\n",
       "      <td>0.070652</td>\n",
       "      <td>0.009163</td>\n",
       "      <td>40</td>\n",
       "      <td>13</td>\n",
       "      <td>171</td>\n",
       "      <td>1</td>\n",
       "      <td>0.070652</td>\n",
       "      <td>0.928571</td>\n",
       "    </tr>\n",
       "    <tr>\n",
       "      <th>2</th>\n",
       "      <td>0.928571</td>\n",
       "      <td>0.071038</td>\n",
       "      <td>0.009294</td>\n",
       "      <td>41</td>\n",
       "      <td>13</td>\n",
       "      <td>170</td>\n",
       "      <td>1</td>\n",
       "      <td>0.071038</td>\n",
       "      <td>0.928571</td>\n",
       "    </tr>\n",
       "    <tr>\n",
       "      <th>3</th>\n",
       "      <td>0.928571</td>\n",
       "      <td>0.071429</td>\n",
       "      <td>0.009548</td>\n",
       "      <td>42</td>\n",
       "      <td>13</td>\n",
       "      <td>169</td>\n",
       "      <td>1</td>\n",
       "      <td>0.071429</td>\n",
       "      <td>0.928571</td>\n",
       "    </tr>\n",
       "    <tr>\n",
       "      <th>4</th>\n",
       "      <td>0.928571</td>\n",
       "      <td>0.071823</td>\n",
       "      <td>0.009706</td>\n",
       "      <td>43</td>\n",
       "      <td>13</td>\n",
       "      <td>168</td>\n",
       "      <td>1</td>\n",
       "      <td>0.071823</td>\n",
       "      <td>0.928571</td>\n",
       "    </tr>\n",
       "    <tr>\n",
       "      <th>5</th>\n",
       "      <td>0.928571</td>\n",
       "      <td>0.072222</td>\n",
       "      <td>0.010021</td>\n",
       "      <td>44</td>\n",
       "      <td>13</td>\n",
       "      <td>167</td>\n",
       "      <td>1</td>\n",
       "      <td>0.072222</td>\n",
       "      <td>0.928571</td>\n",
       "    </tr>\n",
       "    <tr>\n",
       "      <th>6</th>\n",
       "      <td>0.928571</td>\n",
       "      <td>0.072626</td>\n",
       "      <td>0.011148</td>\n",
       "      <td>45</td>\n",
       "      <td>13</td>\n",
       "      <td>166</td>\n",
       "      <td>1</td>\n",
       "      <td>0.072626</td>\n",
       "      <td>0.928571</td>\n",
       "    </tr>\n",
       "    <tr>\n",
       "      <th>7</th>\n",
       "      <td>0.928571</td>\n",
       "      <td>0.073034</td>\n",
       "      <td>0.012096</td>\n",
       "      <td>46</td>\n",
       "      <td>13</td>\n",
       "      <td>165</td>\n",
       "      <td>1</td>\n",
       "      <td>0.073034</td>\n",
       "      <td>0.928571</td>\n",
       "    </tr>\n",
       "    <tr>\n",
       "      <th>8</th>\n",
       "      <td>0.928571</td>\n",
       "      <td>0.073446</td>\n",
       "      <td>0.012116</td>\n",
       "      <td>47</td>\n",
       "      <td>13</td>\n",
       "      <td>164</td>\n",
       "      <td>1</td>\n",
       "      <td>0.073446</td>\n",
       "      <td>0.928571</td>\n",
       "    </tr>\n",
       "    <tr>\n",
       "      <th>9</th>\n",
       "      <td>0.928571</td>\n",
       "      <td>0.073864</td>\n",
       "      <td>0.012193</td>\n",
       "      <td>48</td>\n",
       "      <td>13</td>\n",
       "      <td>163</td>\n",
       "      <td>1</td>\n",
       "      <td>0.073864</td>\n",
       "      <td>0.928571</td>\n",
       "    </tr>\n",
       "    <tr>\n",
       "      <th>10</th>\n",
       "      <td>0.928571</td>\n",
       "      <td>0.074286</td>\n",
       "      <td>0.012381</td>\n",
       "      <td>49</td>\n",
       "      <td>13</td>\n",
       "      <td>162</td>\n",
       "      <td>1</td>\n",
       "      <td>0.074286</td>\n",
       "      <td>0.928571</td>\n",
       "    </tr>\n",
       "    <tr>\n",
       "      <th>11</th>\n",
       "      <td>0.928571</td>\n",
       "      <td>0.074713</td>\n",
       "      <td>0.012513</td>\n",
       "      <td>50</td>\n",
       "      <td>13</td>\n",
       "      <td>161</td>\n",
       "      <td>1</td>\n",
       "      <td>0.074713</td>\n",
       "      <td>0.928571</td>\n",
       "    </tr>\n",
       "    <tr>\n",
       "      <th>12</th>\n",
       "      <td>0.928571</td>\n",
       "      <td>0.075145</td>\n",
       "      <td>0.012592</td>\n",
       "      <td>51</td>\n",
       "      <td>13</td>\n",
       "      <td>160</td>\n",
       "      <td>1</td>\n",
       "      <td>0.075145</td>\n",
       "      <td>0.928571</td>\n",
       "    </tr>\n",
       "    <tr>\n",
       "      <th>13</th>\n",
       "      <td>0.928571</td>\n",
       "      <td>0.075581</td>\n",
       "      <td>0.012607</td>\n",
       "      <td>52</td>\n",
       "      <td>13</td>\n",
       "      <td>159</td>\n",
       "      <td>1</td>\n",
       "      <td>0.075581</td>\n",
       "      <td>0.928571</td>\n",
       "    </tr>\n",
       "    <tr>\n",
       "      <th>14</th>\n",
       "      <td>0.928571</td>\n",
       "      <td>0.076023</td>\n",
       "      <td>0.012782</td>\n",
       "      <td>53</td>\n",
       "      <td>13</td>\n",
       "      <td>158</td>\n",
       "      <td>1</td>\n",
       "      <td>0.076023</td>\n",
       "      <td>0.928571</td>\n",
       "    </tr>\n",
       "    <tr>\n",
       "      <th>15</th>\n",
       "      <td>0.928571</td>\n",
       "      <td>0.076471</td>\n",
       "      <td>0.013714</td>\n",
       "      <td>54</td>\n",
       "      <td>13</td>\n",
       "      <td>157</td>\n",
       "      <td>1</td>\n",
       "      <td>0.076471</td>\n",
       "      <td>0.928571</td>\n",
       "    </tr>\n",
       "    <tr>\n",
       "      <th>16</th>\n",
       "      <td>0.928571</td>\n",
       "      <td>0.076923</td>\n",
       "      <td>0.014405</td>\n",
       "      <td>55</td>\n",
       "      <td>13</td>\n",
       "      <td>156</td>\n",
       "      <td>1</td>\n",
       "      <td>0.076923</td>\n",
       "      <td>0.928571</td>\n",
       "    </tr>\n",
       "    <tr>\n",
       "      <th>17</th>\n",
       "      <td>0.928571</td>\n",
       "      <td>0.077381</td>\n",
       "      <td>0.014591</td>\n",
       "      <td>56</td>\n",
       "      <td>13</td>\n",
       "      <td>155</td>\n",
       "      <td>1</td>\n",
       "      <td>0.077381</td>\n",
       "      <td>0.928571</td>\n",
       "    </tr>\n",
       "    <tr>\n",
       "      <th>18</th>\n",
       "      <td>0.928571</td>\n",
       "      <td>0.077844</td>\n",
       "      <td>0.015190</td>\n",
       "      <td>57</td>\n",
       "      <td>13</td>\n",
       "      <td>154</td>\n",
       "      <td>1</td>\n",
       "      <td>0.077844</td>\n",
       "      <td>0.928571</td>\n",
       "    </tr>\n",
       "    <tr>\n",
       "      <th>19</th>\n",
       "      <td>0.928571</td>\n",
       "      <td>0.078313</td>\n",
       "      <td>0.015312</td>\n",
       "      <td>58</td>\n",
       "      <td>13</td>\n",
       "      <td>153</td>\n",
       "      <td>1</td>\n",
       "      <td>0.078313</td>\n",
       "      <td>0.928571</td>\n",
       "    </tr>\n",
       "    <tr>\n",
       "      <th>20</th>\n",
       "      <td>0.928571</td>\n",
       "      <td>0.078788</td>\n",
       "      <td>0.015386</td>\n",
       "      <td>59</td>\n",
       "      <td>13</td>\n",
       "      <td>152</td>\n",
       "      <td>1</td>\n",
       "      <td>0.078788</td>\n",
       "      <td>0.928571</td>\n",
       "    </tr>\n",
       "    <tr>\n",
       "      <th>21</th>\n",
       "      <td>0.928571</td>\n",
       "      <td>0.079268</td>\n",
       "      <td>0.015541</td>\n",
       "      <td>60</td>\n",
       "      <td>13</td>\n",
       "      <td>151</td>\n",
       "      <td>1</td>\n",
       "      <td>0.079268</td>\n",
       "      <td>0.928571</td>\n",
       "    </tr>\n",
       "    <tr>\n",
       "      <th>22</th>\n",
       "      <td>0.928571</td>\n",
       "      <td>0.079755</td>\n",
       "      <td>0.015679</td>\n",
       "      <td>61</td>\n",
       "      <td>13</td>\n",
       "      <td>150</td>\n",
       "      <td>1</td>\n",
       "      <td>0.079755</td>\n",
       "      <td>0.928571</td>\n",
       "    </tr>\n",
       "    <tr>\n",
       "      <th>23</th>\n",
       "      <td>0.928571</td>\n",
       "      <td>0.080247</td>\n",
       "      <td>0.016124</td>\n",
       "      <td>62</td>\n",
       "      <td>13</td>\n",
       "      <td>149</td>\n",
       "      <td>1</td>\n",
       "      <td>0.080247</td>\n",
       "      <td>0.928571</td>\n",
       "    </tr>\n",
       "    <tr>\n",
       "      <th>24</th>\n",
       "      <td>0.928571</td>\n",
       "      <td>0.080745</td>\n",
       "      <td>0.017240</td>\n",
       "      <td>63</td>\n",
       "      <td>13</td>\n",
       "      <td>148</td>\n",
       "      <td>1</td>\n",
       "      <td>0.080745</td>\n",
       "      <td>0.928571</td>\n",
       "    </tr>\n",
       "    <tr>\n",
       "      <th>25</th>\n",
       "      <td>0.928571</td>\n",
       "      <td>0.081250</td>\n",
       "      <td>0.017642</td>\n",
       "      <td>64</td>\n",
       "      <td>13</td>\n",
       "      <td>147</td>\n",
       "      <td>1</td>\n",
       "      <td>0.081250</td>\n",
       "      <td>0.928571</td>\n",
       "    </tr>\n",
       "    <tr>\n",
       "      <th>26</th>\n",
       "      <td>0.928571</td>\n",
       "      <td>0.081761</td>\n",
       "      <td>0.018536</td>\n",
       "      <td>65</td>\n",
       "      <td>13</td>\n",
       "      <td>146</td>\n",
       "      <td>1</td>\n",
       "      <td>0.081761</td>\n",
       "      <td>0.928571</td>\n",
       "    </tr>\n",
       "    <tr>\n",
       "      <th>27</th>\n",
       "      <td>0.928571</td>\n",
       "      <td>0.082278</td>\n",
       "      <td>0.019859</td>\n",
       "      <td>66</td>\n",
       "      <td>13</td>\n",
       "      <td>145</td>\n",
       "      <td>1</td>\n",
       "      <td>0.082278</td>\n",
       "      <td>0.928571</td>\n",
       "    </tr>\n",
       "    <tr>\n",
       "      <th>28</th>\n",
       "      <td>0.928571</td>\n",
       "      <td>0.082803</td>\n",
       "      <td>0.020129</td>\n",
       "      <td>67</td>\n",
       "      <td>13</td>\n",
       "      <td>144</td>\n",
       "      <td>1</td>\n",
       "      <td>0.082803</td>\n",
       "      <td>0.928571</td>\n",
       "    </tr>\n",
       "    <tr>\n",
       "      <th>29</th>\n",
       "      <td>0.928571</td>\n",
       "      <td>0.083333</td>\n",
       "      <td>0.021861</td>\n",
       "      <td>68</td>\n",
       "      <td>13</td>\n",
       "      <td>143</td>\n",
       "      <td>1</td>\n",
       "      <td>0.083333</td>\n",
       "      <td>0.928571</td>\n",
       "    </tr>\n",
       "    <tr>\n",
       "      <th>30</th>\n",
       "      <td>0.928571</td>\n",
       "      <td>0.083871</td>\n",
       "      <td>0.022197</td>\n",
       "      <td>69</td>\n",
       "      <td>13</td>\n",
       "      <td>142</td>\n",
       "      <td>1</td>\n",
       "      <td>0.083871</td>\n",
       "      <td>0.928571</td>\n",
       "    </tr>\n",
       "    <tr>\n",
       "      <th>31</th>\n",
       "      <td>0.928571</td>\n",
       "      <td>0.084416</td>\n",
       "      <td>0.022231</td>\n",
       "      <td>70</td>\n",
       "      <td>13</td>\n",
       "      <td>141</td>\n",
       "      <td>1</td>\n",
       "      <td>0.084416</td>\n",
       "      <td>0.928571</td>\n",
       "    </tr>\n",
       "    <tr>\n",
       "      <th>32</th>\n",
       "      <td>0.928571</td>\n",
       "      <td>0.084967</td>\n",
       "      <td>0.022712</td>\n",
       "      <td>71</td>\n",
       "      <td>13</td>\n",
       "      <td>140</td>\n",
       "      <td>1</td>\n",
       "      <td>0.084967</td>\n",
       "      <td>0.928571</td>\n",
       "    </tr>\n",
       "    <tr>\n",
       "      <th>33</th>\n",
       "      <td>0.928571</td>\n",
       "      <td>0.085526</td>\n",
       "      <td>0.023052</td>\n",
       "      <td>72</td>\n",
       "      <td>13</td>\n",
       "      <td>139</td>\n",
       "      <td>1</td>\n",
       "      <td>0.085526</td>\n",
       "      <td>0.928571</td>\n",
       "    </tr>\n",
       "    <tr>\n",
       "      <th>34</th>\n",
       "      <td>0.928571</td>\n",
       "      <td>0.086093</td>\n",
       "      <td>0.023920</td>\n",
       "      <td>73</td>\n",
       "      <td>13</td>\n",
       "      <td>138</td>\n",
       "      <td>1</td>\n",
       "      <td>0.086093</td>\n",
       "      <td>0.928571</td>\n",
       "    </tr>\n",
       "    <tr>\n",
       "      <th>35</th>\n",
       "      <td>0.928571</td>\n",
       "      <td>0.086667</td>\n",
       "      <td>0.024400</td>\n",
       "      <td>74</td>\n",
       "      <td>13</td>\n",
       "      <td>137</td>\n",
       "      <td>1</td>\n",
       "      <td>0.086667</td>\n",
       "      <td>0.928571</td>\n",
       "    </tr>\n",
       "    <tr>\n",
       "      <th>36</th>\n",
       "      <td>0.928571</td>\n",
       "      <td>0.087248</td>\n",
       "      <td>0.024840</td>\n",
       "      <td>75</td>\n",
       "      <td>13</td>\n",
       "      <td>136</td>\n",
       "      <td>1</td>\n",
       "      <td>0.087248</td>\n",
       "      <td>0.928571</td>\n",
       "    </tr>\n",
       "    <tr>\n",
       "      <th>37</th>\n",
       "      <td>0.928571</td>\n",
       "      <td>0.087838</td>\n",
       "      <td>0.026217</td>\n",
       "      <td>76</td>\n",
       "      <td>13</td>\n",
       "      <td>135</td>\n",
       "      <td>1</td>\n",
       "      <td>0.087838</td>\n",
       "      <td>0.928571</td>\n",
       "    </tr>\n",
       "    <tr>\n",
       "      <th>38</th>\n",
       "      <td>0.928571</td>\n",
       "      <td>0.088435</td>\n",
       "      <td>0.026869</td>\n",
       "      <td>77</td>\n",
       "      <td>13</td>\n",
       "      <td>134</td>\n",
       "      <td>1</td>\n",
       "      <td>0.088435</td>\n",
       "      <td>0.928571</td>\n",
       "    </tr>\n",
       "    <tr>\n",
       "      <th>39</th>\n",
       "      <td>0.928571</td>\n",
       "      <td>0.089041</td>\n",
       "      <td>0.027421</td>\n",
       "      <td>78</td>\n",
       "      <td>13</td>\n",
       "      <td>133</td>\n",
       "      <td>1</td>\n",
       "      <td>0.089041</td>\n",
       "      <td>0.928571</td>\n",
       "    </tr>\n",
       "    <tr>\n",
       "      <th>40</th>\n",
       "      <td>0.928571</td>\n",
       "      <td>0.089655</td>\n",
       "      <td>0.028247</td>\n",
       "      <td>79</td>\n",
       "      <td>13</td>\n",
       "      <td>132</td>\n",
       "      <td>1</td>\n",
       "      <td>0.089655</td>\n",
       "      <td>0.928571</td>\n",
       "    </tr>\n",
       "    <tr>\n",
       "      <th>41</th>\n",
       "      <td>0.928571</td>\n",
       "      <td>0.090278</td>\n",
       "      <td>0.028931</td>\n",
       "      <td>80</td>\n",
       "      <td>13</td>\n",
       "      <td>131</td>\n",
       "      <td>1</td>\n",
       "      <td>0.090278</td>\n",
       "      <td>0.928571</td>\n",
       "    </tr>\n",
       "    <tr>\n",
       "      <th>42</th>\n",
       "      <td>0.928571</td>\n",
       "      <td>0.090909</td>\n",
       "      <td>0.029070</td>\n",
       "      <td>81</td>\n",
       "      <td>13</td>\n",
       "      <td>130</td>\n",
       "      <td>1</td>\n",
       "      <td>0.090909</td>\n",
       "      <td>0.928571</td>\n",
       "    </tr>\n",
       "    <tr>\n",
       "      <th>43</th>\n",
       "      <td>0.928571</td>\n",
       "      <td>0.091549</td>\n",
       "      <td>0.029166</td>\n",
       "      <td>82</td>\n",
       "      <td>13</td>\n",
       "      <td>129</td>\n",
       "      <td>1</td>\n",
       "      <td>0.091549</td>\n",
       "      <td>0.928571</td>\n",
       "    </tr>\n",
       "    <tr>\n",
       "      <th>44</th>\n",
       "      <td>0.928571</td>\n",
       "      <td>0.092199</td>\n",
       "      <td>0.030666</td>\n",
       "      <td>83</td>\n",
       "      <td>13</td>\n",
       "      <td>128</td>\n",
       "      <td>1</td>\n",
       "      <td>0.092199</td>\n",
       "      <td>0.928571</td>\n",
       "    </tr>\n",
       "    <tr>\n",
       "      <th>45</th>\n",
       "      <td>0.928571</td>\n",
       "      <td>0.092857</td>\n",
       "      <td>0.030783</td>\n",
       "      <td>84</td>\n",
       "      <td>13</td>\n",
       "      <td>127</td>\n",
       "      <td>1</td>\n",
       "      <td>0.092857</td>\n",
       "      <td>0.928571</td>\n",
       "    </tr>\n",
       "    <tr>\n",
       "      <th>46</th>\n",
       "      <td>0.928571</td>\n",
       "      <td>0.093525</td>\n",
       "      <td>0.031367</td>\n",
       "      <td>85</td>\n",
       "      <td>13</td>\n",
       "      <td>126</td>\n",
       "      <td>1</td>\n",
       "      <td>0.093525</td>\n",
       "      <td>0.928571</td>\n",
       "    </tr>\n",
       "    <tr>\n",
       "      <th>47</th>\n",
       "      <td>0.928571</td>\n",
       "      <td>0.094203</td>\n",
       "      <td>0.032783</td>\n",
       "      <td>86</td>\n",
       "      <td>13</td>\n",
       "      <td>125</td>\n",
       "      <td>1</td>\n",
       "      <td>0.094203</td>\n",
       "      <td>0.928571</td>\n",
       "    </tr>\n",
       "    <tr>\n",
       "      <th>48</th>\n",
       "      <td>0.928571</td>\n",
       "      <td>0.094891</td>\n",
       "      <td>0.032968</td>\n",
       "      <td>87</td>\n",
       "      <td>13</td>\n",
       "      <td>124</td>\n",
       "      <td>1</td>\n",
       "      <td>0.094891</td>\n",
       "      <td>0.928571</td>\n",
       "    </tr>\n",
       "    <tr>\n",
       "      <th>49</th>\n",
       "      <td>0.928571</td>\n",
       "      <td>0.095588</td>\n",
       "      <td>0.032997</td>\n",
       "      <td>88</td>\n",
       "      <td>13</td>\n",
       "      <td>123</td>\n",
       "      <td>1</td>\n",
       "      <td>0.095588</td>\n",
       "      <td>0.928571</td>\n",
       "    </tr>\n",
       "    <tr>\n",
       "      <th>50</th>\n",
       "      <td>0.928571</td>\n",
       "      <td>0.096296</td>\n",
       "      <td>0.034033</td>\n",
       "      <td>89</td>\n",
       "      <td>13</td>\n",
       "      <td>122</td>\n",
       "      <td>1</td>\n",
       "      <td>0.096296</td>\n",
       "      <td>0.928571</td>\n",
       "    </tr>\n",
       "    <tr>\n",
       "      <th>51</th>\n",
       "      <td>0.928571</td>\n",
       "      <td>0.097015</td>\n",
       "      <td>0.034261</td>\n",
       "      <td>90</td>\n",
       "      <td>13</td>\n",
       "      <td>121</td>\n",
       "      <td>1</td>\n",
       "      <td>0.097015</td>\n",
       "      <td>0.928571</td>\n",
       "    </tr>\n",
       "    <tr>\n",
       "      <th>52</th>\n",
       "      <td>0.928571</td>\n",
       "      <td>0.097744</td>\n",
       "      <td>0.036774</td>\n",
       "      <td>91</td>\n",
       "      <td>13</td>\n",
       "      <td>120</td>\n",
       "      <td>1</td>\n",
       "      <td>0.097744</td>\n",
       "      <td>0.928571</td>\n",
       "    </tr>\n",
       "    <tr>\n",
       "      <th>53</th>\n",
       "      <td>0.928571</td>\n",
       "      <td>0.098485</td>\n",
       "      <td>0.036819</td>\n",
       "      <td>92</td>\n",
       "      <td>13</td>\n",
       "      <td>119</td>\n",
       "      <td>1</td>\n",
       "      <td>0.098485</td>\n",
       "      <td>0.928571</td>\n",
       "    </tr>\n",
       "    <tr>\n",
       "      <th>54</th>\n",
       "      <td>0.928571</td>\n",
       "      <td>0.099237</td>\n",
       "      <td>0.037104</td>\n",
       "      <td>93</td>\n",
       "      <td>13</td>\n",
       "      <td>118</td>\n",
       "      <td>1</td>\n",
       "      <td>0.099237</td>\n",
       "      <td>0.928571</td>\n",
       "    </tr>\n",
       "    <tr>\n",
       "      <th>55</th>\n",
       "      <td>0.928571</td>\n",
       "      <td>0.100000</td>\n",
       "      <td>0.037457</td>\n",
       "      <td>94</td>\n",
       "      <td>13</td>\n",
       "      <td>117</td>\n",
       "      <td>1</td>\n",
       "      <td>0.100000</td>\n",
       "      <td>0.928571</td>\n",
       "    </tr>\n",
       "    <tr>\n",
       "      <th>56</th>\n",
       "      <td>0.928571</td>\n",
       "      <td>0.100775</td>\n",
       "      <td>0.038366</td>\n",
       "      <td>95</td>\n",
       "      <td>13</td>\n",
       "      <td>116</td>\n",
       "      <td>1</td>\n",
       "      <td>0.100775</td>\n",
       "      <td>0.928571</td>\n",
       "    </tr>\n",
       "    <tr>\n",
       "      <th>57</th>\n",
       "      <td>0.928571</td>\n",
       "      <td>0.101562</td>\n",
       "      <td>0.039246</td>\n",
       "      <td>96</td>\n",
       "      <td>13</td>\n",
       "      <td>115</td>\n",
       "      <td>1</td>\n",
       "      <td>0.101562</td>\n",
       "      <td>0.928571</td>\n",
       "    </tr>\n",
       "    <tr>\n",
       "      <th>58</th>\n",
       "      <td>0.928571</td>\n",
       "      <td>0.102362</td>\n",
       "      <td>0.039521</td>\n",
       "      <td>97</td>\n",
       "      <td>13</td>\n",
       "      <td>114</td>\n",
       "      <td>1</td>\n",
       "      <td>0.102362</td>\n",
       "      <td>0.928571</td>\n",
       "    </tr>\n",
       "    <tr>\n",
       "      <th>59</th>\n",
       "      <td>0.928571</td>\n",
       "      <td>0.103175</td>\n",
       "      <td>0.041473</td>\n",
       "      <td>98</td>\n",
       "      <td>13</td>\n",
       "      <td>113</td>\n",
       "      <td>1</td>\n",
       "      <td>0.103175</td>\n",
       "      <td>0.928571</td>\n",
       "    </tr>\n",
       "    <tr>\n",
       "      <th>60</th>\n",
       "      <td>0.928571</td>\n",
       "      <td>0.104000</td>\n",
       "      <td>0.041752</td>\n",
       "      <td>99</td>\n",
       "      <td>13</td>\n",
       "      <td>112</td>\n",
       "      <td>1</td>\n",
       "      <td>0.104000</td>\n",
       "      <td>0.928571</td>\n",
       "    </tr>\n",
       "    <tr>\n",
       "      <th>61</th>\n",
       "      <td>0.928571</td>\n",
       "      <td>0.104839</td>\n",
       "      <td>0.042431</td>\n",
       "      <td>100</td>\n",
       "      <td>13</td>\n",
       "      <td>111</td>\n",
       "      <td>1</td>\n",
       "      <td>0.104839</td>\n",
       "      <td>0.928571</td>\n",
       "    </tr>\n",
       "    <tr>\n",
       "      <th>62</th>\n",
       "      <td>0.928571</td>\n",
       "      <td>0.105691</td>\n",
       "      <td>0.042790</td>\n",
       "      <td>101</td>\n",
       "      <td>13</td>\n",
       "      <td>110</td>\n",
       "      <td>1</td>\n",
       "      <td>0.105691</td>\n",
       "      <td>0.928571</td>\n",
       "    </tr>\n",
       "    <tr>\n",
       "      <th>63</th>\n",
       "      <td>0.928571</td>\n",
       "      <td>0.106557</td>\n",
       "      <td>0.044688</td>\n",
       "      <td>102</td>\n",
       "      <td>13</td>\n",
       "      <td>109</td>\n",
       "      <td>1</td>\n",
       "      <td>0.106557</td>\n",
       "      <td>0.928571</td>\n",
       "    </tr>\n",
       "    <tr>\n",
       "      <th>64</th>\n",
       "      <td>0.928571</td>\n",
       "      <td>0.107438</td>\n",
       "      <td>0.045525</td>\n",
       "      <td>103</td>\n",
       "      <td>13</td>\n",
       "      <td>108</td>\n",
       "      <td>1</td>\n",
       "      <td>0.107438</td>\n",
       "      <td>0.928571</td>\n",
       "    </tr>\n",
       "    <tr>\n",
       "      <th>65</th>\n",
       "      <td>0.928571</td>\n",
       "      <td>0.108333</td>\n",
       "      <td>0.045530</td>\n",
       "      <td>104</td>\n",
       "      <td>13</td>\n",
       "      <td>107</td>\n",
       "      <td>1</td>\n",
       "      <td>0.108333</td>\n",
       "      <td>0.928571</td>\n",
       "    </tr>\n",
       "    <tr>\n",
       "      <th>66</th>\n",
       "      <td>0.928571</td>\n",
       "      <td>0.109244</td>\n",
       "      <td>0.046343</td>\n",
       "      <td>105</td>\n",
       "      <td>13</td>\n",
       "      <td>106</td>\n",
       "      <td>1</td>\n",
       "      <td>0.109244</td>\n",
       "      <td>0.928571</td>\n",
       "    </tr>\n",
       "    <tr>\n",
       "      <th>67</th>\n",
       "      <td>0.928571</td>\n",
       "      <td>0.110169</td>\n",
       "      <td>0.046752</td>\n",
       "      <td>106</td>\n",
       "      <td>13</td>\n",
       "      <td>105</td>\n",
       "      <td>1</td>\n",
       "      <td>0.110169</td>\n",
       "      <td>0.928571</td>\n",
       "    </tr>\n",
       "    <tr>\n",
       "      <th>68</th>\n",
       "      <td>0.928571</td>\n",
       "      <td>0.111111</td>\n",
       "      <td>0.047865</td>\n",
       "      <td>107</td>\n",
       "      <td>13</td>\n",
       "      <td>104</td>\n",
       "      <td>1</td>\n",
       "      <td>0.111111</td>\n",
       "      <td>0.928571</td>\n",
       "    </tr>\n",
       "    <tr>\n",
       "      <th>69</th>\n",
       "      <td>0.928571</td>\n",
       "      <td>0.112069</td>\n",
       "      <td>0.052319</td>\n",
       "      <td>108</td>\n",
       "      <td>13</td>\n",
       "      <td>103</td>\n",
       "      <td>1</td>\n",
       "      <td>0.112069</td>\n",
       "      <td>0.928571</td>\n",
       "    </tr>\n",
       "    <tr>\n",
       "      <th>70</th>\n",
       "      <td>0.928571</td>\n",
       "      <td>0.113043</td>\n",
       "      <td>0.054891</td>\n",
       "      <td>109</td>\n",
       "      <td>13</td>\n",
       "      <td>102</td>\n",
       "      <td>1</td>\n",
       "      <td>0.113043</td>\n",
       "      <td>0.928571</td>\n",
       "    </tr>\n",
       "    <tr>\n",
       "      <th>71</th>\n",
       "      <td>0.928571</td>\n",
       "      <td>0.114035</td>\n",
       "      <td>0.057469</td>\n",
       "      <td>110</td>\n",
       "      <td>13</td>\n",
       "      <td>101</td>\n",
       "      <td>1</td>\n",
       "      <td>0.114035</td>\n",
       "      <td>0.928571</td>\n",
       "    </tr>\n",
       "    <tr>\n",
       "      <th>72</th>\n",
       "      <td>0.928571</td>\n",
       "      <td>0.115044</td>\n",
       "      <td>0.058287</td>\n",
       "      <td>111</td>\n",
       "      <td>13</td>\n",
       "      <td>100</td>\n",
       "      <td>1</td>\n",
       "      <td>0.115044</td>\n",
       "      <td>0.928571</td>\n",
       "    </tr>\n",
       "    <tr>\n",
       "      <th>73</th>\n",
       "      <td>0.928571</td>\n",
       "      <td>0.116071</td>\n",
       "      <td>0.061972</td>\n",
       "      <td>112</td>\n",
       "      <td>13</td>\n",
       "      <td>99</td>\n",
       "      <td>1</td>\n",
       "      <td>0.116071</td>\n",
       "      <td>0.928571</td>\n",
       "    </tr>\n",
       "    <tr>\n",
       "      <th>74</th>\n",
       "      <td>0.928571</td>\n",
       "      <td>0.117117</td>\n",
       "      <td>0.067337</td>\n",
       "      <td>113</td>\n",
       "      <td>13</td>\n",
       "      <td>98</td>\n",
       "      <td>1</td>\n",
       "      <td>0.117117</td>\n",
       "      <td>0.928571</td>\n",
       "    </tr>\n",
       "    <tr>\n",
       "      <th>75</th>\n",
       "      <td>0.928571</td>\n",
       "      <td>0.118182</td>\n",
       "      <td>0.069742</td>\n",
       "      <td>114</td>\n",
       "      <td>13</td>\n",
       "      <td>97</td>\n",
       "      <td>1</td>\n",
       "      <td>0.118182</td>\n",
       "      <td>0.928571</td>\n",
       "    </tr>\n",
       "    <tr>\n",
       "      <th>76</th>\n",
       "      <td>0.928571</td>\n",
       "      <td>0.119266</td>\n",
       "      <td>0.070516</td>\n",
       "      <td>115</td>\n",
       "      <td>13</td>\n",
       "      <td>96</td>\n",
       "      <td>1</td>\n",
       "      <td>0.119266</td>\n",
       "      <td>0.928571</td>\n",
       "    </tr>\n",
       "    <tr>\n",
       "      <th>77</th>\n",
       "      <td>0.928571</td>\n",
       "      <td>0.120370</td>\n",
       "      <td>0.070920</td>\n",
       "      <td>116</td>\n",
       "      <td>13</td>\n",
       "      <td>95</td>\n",
       "      <td>1</td>\n",
       "      <td>0.120370</td>\n",
       "      <td>0.928571</td>\n",
       "    </tr>\n",
       "    <tr>\n",
       "      <th>78</th>\n",
       "      <td>0.928571</td>\n",
       "      <td>0.121495</td>\n",
       "      <td>0.072864</td>\n",
       "      <td>117</td>\n",
       "      <td>13</td>\n",
       "      <td>94</td>\n",
       "      <td>1</td>\n",
       "      <td>0.121495</td>\n",
       "      <td>0.928571</td>\n",
       "    </tr>\n",
       "    <tr>\n",
       "      <th>79</th>\n",
       "      <td>0.928571</td>\n",
       "      <td>0.122642</td>\n",
       "      <td>0.078341</td>\n",
       "      <td>118</td>\n",
       "      <td>13</td>\n",
       "      <td>93</td>\n",
       "      <td>1</td>\n",
       "      <td>0.122642</td>\n",
       "      <td>0.928571</td>\n",
       "    </tr>\n",
       "    <tr>\n",
       "      <th>80</th>\n",
       "      <td>0.928571</td>\n",
       "      <td>0.123810</td>\n",
       "      <td>0.078463</td>\n",
       "      <td>119</td>\n",
       "      <td>13</td>\n",
       "      <td>92</td>\n",
       "      <td>1</td>\n",
       "      <td>0.123810</td>\n",
       "      <td>0.928571</td>\n",
       "    </tr>\n",
       "    <tr>\n",
       "      <th>81</th>\n",
       "      <td>0.857143</td>\n",
       "      <td>0.115385</td>\n",
       "      <td>0.081320</td>\n",
       "      <td>119</td>\n",
       "      <td>12</td>\n",
       "      <td>92</td>\n",
       "      <td>2</td>\n",
       "      <td>0.115385</td>\n",
       "      <td>0.857143</td>\n",
       "    </tr>\n",
       "    <tr>\n",
       "      <th>82</th>\n",
       "      <td>0.857143</td>\n",
       "      <td>0.116505</td>\n",
       "      <td>0.082429</td>\n",
       "      <td>120</td>\n",
       "      <td>12</td>\n",
       "      <td>91</td>\n",
       "      <td>2</td>\n",
       "      <td>0.116505</td>\n",
       "      <td>0.857143</td>\n",
       "    </tr>\n",
       "    <tr>\n",
       "      <th>83</th>\n",
       "      <td>0.857143</td>\n",
       "      <td>0.117647</td>\n",
       "      <td>0.084331</td>\n",
       "      <td>121</td>\n",
       "      <td>12</td>\n",
       "      <td>90</td>\n",
       "      <td>2</td>\n",
       "      <td>0.117647</td>\n",
       "      <td>0.857143</td>\n",
       "    </tr>\n",
       "    <tr>\n",
       "      <th>84</th>\n",
       "      <td>0.857143</td>\n",
       "      <td>0.118812</td>\n",
       "      <td>0.090849</td>\n",
       "      <td>122</td>\n",
       "      <td>12</td>\n",
       "      <td>89</td>\n",
       "      <td>2</td>\n",
       "      <td>0.118812</td>\n",
       "      <td>0.857143</td>\n",
       "    </tr>\n",
       "    <tr>\n",
       "      <th>85</th>\n",
       "      <td>0.857143</td>\n",
       "      <td>0.120000</td>\n",
       "      <td>0.091737</td>\n",
       "      <td>123</td>\n",
       "      <td>12</td>\n",
       "      <td>88</td>\n",
       "      <td>2</td>\n",
       "      <td>0.120000</td>\n",
       "      <td>0.857143</td>\n",
       "    </tr>\n",
       "    <tr>\n",
       "      <th>86</th>\n",
       "      <td>0.857143</td>\n",
       "      <td>0.121212</td>\n",
       "      <td>0.099800</td>\n",
       "      <td>124</td>\n",
       "      <td>12</td>\n",
       "      <td>87</td>\n",
       "      <td>2</td>\n",
       "      <td>0.121212</td>\n",
       "      <td>0.857143</td>\n",
       "    </tr>\n",
       "    <tr>\n",
       "      <th>87</th>\n",
       "      <td>0.857143</td>\n",
       "      <td>0.122449</td>\n",
       "      <td>0.104481</td>\n",
       "      <td>125</td>\n",
       "      <td>12</td>\n",
       "      <td>86</td>\n",
       "      <td>2</td>\n",
       "      <td>0.122449</td>\n",
       "      <td>0.857143</td>\n",
       "    </tr>\n",
       "    <tr>\n",
       "      <th>88</th>\n",
       "      <td>0.857143</td>\n",
       "      <td>0.123711</td>\n",
       "      <td>0.107399</td>\n",
       "      <td>126</td>\n",
       "      <td>12</td>\n",
       "      <td>85</td>\n",
       "      <td>2</td>\n",
       "      <td>0.123711</td>\n",
       "      <td>0.857143</td>\n",
       "    </tr>\n",
       "    <tr>\n",
       "      <th>89</th>\n",
       "      <td>0.857143</td>\n",
       "      <td>0.125000</td>\n",
       "      <td>0.111804</td>\n",
       "      <td>127</td>\n",
       "      <td>12</td>\n",
       "      <td>84</td>\n",
       "      <td>2</td>\n",
       "      <td>0.125000</td>\n",
       "      <td>0.857143</td>\n",
       "    </tr>\n",
       "    <tr>\n",
       "      <th>90</th>\n",
       "      <td>0.857143</td>\n",
       "      <td>0.126316</td>\n",
       "      <td>0.114860</td>\n",
       "      <td>128</td>\n",
       "      <td>12</td>\n",
       "      <td>83</td>\n",
       "      <td>2</td>\n",
       "      <td>0.126316</td>\n",
       "      <td>0.857143</td>\n",
       "    </tr>\n",
       "    <tr>\n",
       "      <th>91</th>\n",
       "      <td>0.857143</td>\n",
       "      <td>0.127660</td>\n",
       "      <td>0.116603</td>\n",
       "      <td>129</td>\n",
       "      <td>12</td>\n",
       "      <td>82</td>\n",
       "      <td>2</td>\n",
       "      <td>0.127660</td>\n",
       "      <td>0.857143</td>\n",
       "    </tr>\n",
       "    <tr>\n",
       "      <th>92</th>\n",
       "      <td>0.857143</td>\n",
       "      <td>0.129032</td>\n",
       "      <td>0.117875</td>\n",
       "      <td>130</td>\n",
       "      <td>12</td>\n",
       "      <td>81</td>\n",
       "      <td>2</td>\n",
       "      <td>0.129032</td>\n",
       "      <td>0.857143</td>\n",
       "    </tr>\n",
       "    <tr>\n",
       "      <th>93</th>\n",
       "      <td>0.857143</td>\n",
       "      <td>0.130435</td>\n",
       "      <td>0.122835</td>\n",
       "      <td>131</td>\n",
       "      <td>12</td>\n",
       "      <td>80</td>\n",
       "      <td>2</td>\n",
       "      <td>0.130435</td>\n",
       "      <td>0.857143</td>\n",
       "    </tr>\n",
       "    <tr>\n",
       "      <th>94</th>\n",
       "      <td>0.857143</td>\n",
       "      <td>0.131868</td>\n",
       "      <td>0.124398</td>\n",
       "      <td>132</td>\n",
       "      <td>12</td>\n",
       "      <td>79</td>\n",
       "      <td>2</td>\n",
       "      <td>0.131868</td>\n",
       "      <td>0.857143</td>\n",
       "    </tr>\n",
       "    <tr>\n",
       "      <th>95</th>\n",
       "      <td>0.857143</td>\n",
       "      <td>0.133333</td>\n",
       "      <td>0.126671</td>\n",
       "      <td>133</td>\n",
       "      <td>12</td>\n",
       "      <td>78</td>\n",
       "      <td>2</td>\n",
       "      <td>0.133333</td>\n",
       "      <td>0.857143</td>\n",
       "    </tr>\n",
       "    <tr>\n",
       "      <th>96</th>\n",
       "      <td>0.857143</td>\n",
       "      <td>0.134831</td>\n",
       "      <td>0.126868</td>\n",
       "      <td>134</td>\n",
       "      <td>12</td>\n",
       "      <td>77</td>\n",
       "      <td>2</td>\n",
       "      <td>0.134831</td>\n",
       "      <td>0.857143</td>\n",
       "    </tr>\n",
       "    <tr>\n",
       "      <th>97</th>\n",
       "      <td>0.857143</td>\n",
       "      <td>0.136364</td>\n",
       "      <td>0.129537</td>\n",
       "      <td>135</td>\n",
       "      <td>12</td>\n",
       "      <td>76</td>\n",
       "      <td>2</td>\n",
       "      <td>0.136364</td>\n",
       "      <td>0.857143</td>\n",
       "    </tr>\n",
       "    <tr>\n",
       "      <th>98</th>\n",
       "      <td>0.857143</td>\n",
       "      <td>0.137931</td>\n",
       "      <td>0.133594</td>\n",
       "      <td>136</td>\n",
       "      <td>12</td>\n",
       "      <td>75</td>\n",
       "      <td>2</td>\n",
       "      <td>0.137931</td>\n",
       "      <td>0.857143</td>\n",
       "    </tr>\n",
       "    <tr>\n",
       "      <th>99</th>\n",
       "      <td>0.785714</td>\n",
       "      <td>0.127907</td>\n",
       "      <td>0.135443</td>\n",
       "      <td>136</td>\n",
       "      <td>11</td>\n",
       "      <td>75</td>\n",
       "      <td>3</td>\n",
       "      <td>0.127907</td>\n",
       "      <td>0.785714</td>\n",
       "    </tr>\n",
       "    <tr>\n",
       "      <th>100</th>\n",
       "      <td>0.785714</td>\n",
       "      <td>0.129412</td>\n",
       "      <td>0.139989</td>\n",
       "      <td>137</td>\n",
       "      <td>11</td>\n",
       "      <td>74</td>\n",
       "      <td>3</td>\n",
       "      <td>0.129412</td>\n",
       "      <td>0.785714</td>\n",
       "    </tr>\n",
       "    <tr>\n",
       "      <th>101</th>\n",
       "      <td>0.785714</td>\n",
       "      <td>0.130952</td>\n",
       "      <td>0.140484</td>\n",
       "      <td>138</td>\n",
       "      <td>11</td>\n",
       "      <td>73</td>\n",
       "      <td>3</td>\n",
       "      <td>0.130952</td>\n",
       "      <td>0.785714</td>\n",
       "    </tr>\n",
       "    <tr>\n",
       "      <th>102</th>\n",
       "      <td>0.714286</td>\n",
       "      <td>0.120482</td>\n",
       "      <td>0.152298</td>\n",
       "      <td>138</td>\n",
       "      <td>10</td>\n",
       "      <td>73</td>\n",
       "      <td>4</td>\n",
       "      <td>0.120482</td>\n",
       "      <td>0.714286</td>\n",
       "    </tr>\n",
       "    <tr>\n",
       "      <th>103</th>\n",
       "      <td>0.714286</td>\n",
       "      <td>0.121951</td>\n",
       "      <td>0.153572</td>\n",
       "      <td>139</td>\n",
       "      <td>10</td>\n",
       "      <td>72</td>\n",
       "      <td>4</td>\n",
       "      <td>0.121951</td>\n",
       "      <td>0.714286</td>\n",
       "    </tr>\n",
       "    <tr>\n",
       "      <th>104</th>\n",
       "      <td>0.714286</td>\n",
       "      <td>0.123457</td>\n",
       "      <td>0.160740</td>\n",
       "      <td>140</td>\n",
       "      <td>10</td>\n",
       "      <td>71</td>\n",
       "      <td>4</td>\n",
       "      <td>0.123457</td>\n",
       "      <td>0.714286</td>\n",
       "    </tr>\n",
       "    <tr>\n",
       "      <th>105</th>\n",
       "      <td>0.714286</td>\n",
       "      <td>0.125000</td>\n",
       "      <td>0.166719</td>\n",
       "      <td>141</td>\n",
       "      <td>10</td>\n",
       "      <td>70</td>\n",
       "      <td>4</td>\n",
       "      <td>0.125000</td>\n",
       "      <td>0.714286</td>\n",
       "    </tr>\n",
       "    <tr>\n",
       "      <th>106</th>\n",
       "      <td>0.714286</td>\n",
       "      <td>0.126582</td>\n",
       "      <td>0.169784</td>\n",
       "      <td>142</td>\n",
       "      <td>10</td>\n",
       "      <td>69</td>\n",
       "      <td>4</td>\n",
       "      <td>0.126582</td>\n",
       "      <td>0.714286</td>\n",
       "    </tr>\n",
       "    <tr>\n",
       "      <th>107</th>\n",
       "      <td>0.642857</td>\n",
       "      <td>0.115385</td>\n",
       "      <td>0.180513</td>\n",
       "      <td>142</td>\n",
       "      <td>9</td>\n",
       "      <td>69</td>\n",
       "      <td>5</td>\n",
       "      <td>0.115385</td>\n",
       "      <td>0.642857</td>\n",
       "    </tr>\n",
       "    <tr>\n",
       "      <th>108</th>\n",
       "      <td>0.642857</td>\n",
       "      <td>0.116883</td>\n",
       "      <td>0.186663</td>\n",
       "      <td>143</td>\n",
       "      <td>9</td>\n",
       "      <td>68</td>\n",
       "      <td>5</td>\n",
       "      <td>0.116883</td>\n",
       "      <td>0.642857</td>\n",
       "    </tr>\n",
       "    <tr>\n",
       "      <th>109</th>\n",
       "      <td>0.642857</td>\n",
       "      <td>0.118421</td>\n",
       "      <td>0.194011</td>\n",
       "      <td>144</td>\n",
       "      <td>9</td>\n",
       "      <td>67</td>\n",
       "      <td>5</td>\n",
       "      <td>0.118421</td>\n",
       "      <td>0.642857</td>\n",
       "    </tr>\n",
       "    <tr>\n",
       "      <th>110</th>\n",
       "      <td>0.642857</td>\n",
       "      <td>0.120000</td>\n",
       "      <td>0.205302</td>\n",
       "      <td>145</td>\n",
       "      <td>9</td>\n",
       "      <td>66</td>\n",
       "      <td>5</td>\n",
       "      <td>0.120000</td>\n",
       "      <td>0.642857</td>\n",
       "    </tr>\n",
       "    <tr>\n",
       "      <th>111</th>\n",
       "      <td>0.642857</td>\n",
       "      <td>0.121622</td>\n",
       "      <td>0.212194</td>\n",
       "      <td>146</td>\n",
       "      <td>9</td>\n",
       "      <td>65</td>\n",
       "      <td>5</td>\n",
       "      <td>0.121622</td>\n",
       "      <td>0.642857</td>\n",
       "    </tr>\n",
       "    <tr>\n",
       "      <th>112</th>\n",
       "      <td>0.642857</td>\n",
       "      <td>0.123288</td>\n",
       "      <td>0.214966</td>\n",
       "      <td>147</td>\n",
       "      <td>9</td>\n",
       "      <td>64</td>\n",
       "      <td>5</td>\n",
       "      <td>0.123288</td>\n",
       "      <td>0.642857</td>\n",
       "    </tr>\n",
       "    <tr>\n",
       "      <th>113</th>\n",
       "      <td>0.642857</td>\n",
       "      <td>0.125000</td>\n",
       "      <td>0.216006</td>\n",
       "      <td>148</td>\n",
       "      <td>9</td>\n",
       "      <td>63</td>\n",
       "      <td>5</td>\n",
       "      <td>0.125000</td>\n",
       "      <td>0.642857</td>\n",
       "    </tr>\n",
       "    <tr>\n",
       "      <th>114</th>\n",
       "      <td>0.642857</td>\n",
       "      <td>0.126761</td>\n",
       "      <td>0.219194</td>\n",
       "      <td>149</td>\n",
       "      <td>9</td>\n",
       "      <td>62</td>\n",
       "      <td>5</td>\n",
       "      <td>0.126761</td>\n",
       "      <td>0.642857</td>\n",
       "    </tr>\n",
       "    <tr>\n",
       "      <th>115</th>\n",
       "      <td>0.642857</td>\n",
       "      <td>0.128571</td>\n",
       "      <td>0.221764</td>\n",
       "      <td>150</td>\n",
       "      <td>9</td>\n",
       "      <td>61</td>\n",
       "      <td>5</td>\n",
       "      <td>0.128571</td>\n",
       "      <td>0.642857</td>\n",
       "    </tr>\n",
       "    <tr>\n",
       "      <th>116</th>\n",
       "      <td>0.642857</td>\n",
       "      <td>0.130435</td>\n",
       "      <td>0.225922</td>\n",
       "      <td>151</td>\n",
       "      <td>9</td>\n",
       "      <td>60</td>\n",
       "      <td>5</td>\n",
       "      <td>0.130435</td>\n",
       "      <td>0.642857</td>\n",
       "    </tr>\n",
       "    <tr>\n",
       "      <th>117</th>\n",
       "      <td>0.642857</td>\n",
       "      <td>0.132353</td>\n",
       "      <td>0.232483</td>\n",
       "      <td>152</td>\n",
       "      <td>9</td>\n",
       "      <td>59</td>\n",
       "      <td>5</td>\n",
       "      <td>0.132353</td>\n",
       "      <td>0.642857</td>\n",
       "    </tr>\n",
       "    <tr>\n",
       "      <th>118</th>\n",
       "      <td>0.642857</td>\n",
       "      <td>0.134328</td>\n",
       "      <td>0.238730</td>\n",
       "      <td>153</td>\n",
       "      <td>9</td>\n",
       "      <td>58</td>\n",
       "      <td>5</td>\n",
       "      <td>0.134328</td>\n",
       "      <td>0.642857</td>\n",
       "    </tr>\n",
       "    <tr>\n",
       "      <th>119</th>\n",
       "      <td>0.642857</td>\n",
       "      <td>0.136364</td>\n",
       "      <td>0.239795</td>\n",
       "      <td>154</td>\n",
       "      <td>9</td>\n",
       "      <td>57</td>\n",
       "      <td>5</td>\n",
       "      <td>0.136364</td>\n",
       "      <td>0.642857</td>\n",
       "    </tr>\n",
       "    <tr>\n",
       "      <th>120</th>\n",
       "      <td>0.642857</td>\n",
       "      <td>0.138462</td>\n",
       "      <td>0.240663</td>\n",
       "      <td>155</td>\n",
       "      <td>9</td>\n",
       "      <td>56</td>\n",
       "      <td>5</td>\n",
       "      <td>0.138462</td>\n",
       "      <td>0.642857</td>\n",
       "    </tr>\n",
       "    <tr>\n",
       "      <th>121</th>\n",
       "      <td>0.642857</td>\n",
       "      <td>0.140625</td>\n",
       "      <td>0.241906</td>\n",
       "      <td>156</td>\n",
       "      <td>9</td>\n",
       "      <td>55</td>\n",
       "      <td>5</td>\n",
       "      <td>0.140625</td>\n",
       "      <td>0.642857</td>\n",
       "    </tr>\n",
       "    <tr>\n",
       "      <th>122</th>\n",
       "      <td>0.642857</td>\n",
       "      <td>0.142857</td>\n",
       "      <td>0.256762</td>\n",
       "      <td>157</td>\n",
       "      <td>9</td>\n",
       "      <td>54</td>\n",
       "      <td>5</td>\n",
       "      <td>0.142857</td>\n",
       "      <td>0.642857</td>\n",
       "    </tr>\n",
       "    <tr>\n",
       "      <th>123</th>\n",
       "      <td>0.642857</td>\n",
       "      <td>0.145161</td>\n",
       "      <td>0.261097</td>\n",
       "      <td>158</td>\n",
       "      <td>9</td>\n",
       "      <td>53</td>\n",
       "      <td>5</td>\n",
       "      <td>0.145161</td>\n",
       "      <td>0.642857</td>\n",
       "    </tr>\n",
       "    <tr>\n",
       "      <th>124</th>\n",
       "      <td>0.642857</td>\n",
       "      <td>0.147541</td>\n",
       "      <td>0.262296</td>\n",
       "      <td>159</td>\n",
       "      <td>9</td>\n",
       "      <td>52</td>\n",
       "      <td>5</td>\n",
       "      <td>0.147541</td>\n",
       "      <td>0.642857</td>\n",
       "    </tr>\n",
       "    <tr>\n",
       "      <th>125</th>\n",
       "      <td>0.642857</td>\n",
       "      <td>0.150000</td>\n",
       "      <td>0.269003</td>\n",
       "      <td>160</td>\n",
       "      <td>9</td>\n",
       "      <td>51</td>\n",
       "      <td>5</td>\n",
       "      <td>0.150000</td>\n",
       "      <td>0.642857</td>\n",
       "    </tr>\n",
       "    <tr>\n",
       "      <th>126</th>\n",
       "      <td>0.642857</td>\n",
       "      <td>0.152542</td>\n",
       "      <td>0.291108</td>\n",
       "      <td>161</td>\n",
       "      <td>9</td>\n",
       "      <td>50</td>\n",
       "      <td>5</td>\n",
       "      <td>0.152542</td>\n",
       "      <td>0.642857</td>\n",
       "    </tr>\n",
       "    <tr>\n",
       "      <th>127</th>\n",
       "      <td>0.571429</td>\n",
       "      <td>0.137931</td>\n",
       "      <td>0.293029</td>\n",
       "      <td>161</td>\n",
       "      <td>8</td>\n",
       "      <td>50</td>\n",
       "      <td>6</td>\n",
       "      <td>0.137931</td>\n",
       "      <td>0.571429</td>\n",
       "    </tr>\n",
       "    <tr>\n",
       "      <th>128</th>\n",
       "      <td>0.571429</td>\n",
       "      <td>0.140351</td>\n",
       "      <td>0.300014</td>\n",
       "      <td>162</td>\n",
       "      <td>8</td>\n",
       "      <td>49</td>\n",
       "      <td>6</td>\n",
       "      <td>0.140351</td>\n",
       "      <td>0.571429</td>\n",
       "    </tr>\n",
       "    <tr>\n",
       "      <th>129</th>\n",
       "      <td>0.571429</td>\n",
       "      <td>0.142857</td>\n",
       "      <td>0.308669</td>\n",
       "      <td>163</td>\n",
       "      <td>8</td>\n",
       "      <td>48</td>\n",
       "      <td>6</td>\n",
       "      <td>0.142857</td>\n",
       "      <td>0.571429</td>\n",
       "    </tr>\n",
       "    <tr>\n",
       "      <th>130</th>\n",
       "      <td>0.571429</td>\n",
       "      <td>0.145455</td>\n",
       "      <td>0.312896</td>\n",
       "      <td>164</td>\n",
       "      <td>8</td>\n",
       "      <td>47</td>\n",
       "      <td>6</td>\n",
       "      <td>0.145455</td>\n",
       "      <td>0.571429</td>\n",
       "    </tr>\n",
       "    <tr>\n",
       "      <th>131</th>\n",
       "      <td>0.571429</td>\n",
       "      <td>0.148148</td>\n",
       "      <td>0.319235</td>\n",
       "      <td>165</td>\n",
       "      <td>8</td>\n",
       "      <td>46</td>\n",
       "      <td>6</td>\n",
       "      <td>0.148148</td>\n",
       "      <td>0.571429</td>\n",
       "    </tr>\n",
       "    <tr>\n",
       "      <th>132</th>\n",
       "      <td>0.571429</td>\n",
       "      <td>0.150943</td>\n",
       "      <td>0.322306</td>\n",
       "      <td>166</td>\n",
       "      <td>8</td>\n",
       "      <td>45</td>\n",
       "      <td>6</td>\n",
       "      <td>0.150943</td>\n",
       "      <td>0.571429</td>\n",
       "    </tr>\n",
       "    <tr>\n",
       "      <th>133</th>\n",
       "      <td>0.571429</td>\n",
       "      <td>0.153846</td>\n",
       "      <td>0.323706</td>\n",
       "      <td>167</td>\n",
       "      <td>8</td>\n",
       "      <td>44</td>\n",
       "      <td>6</td>\n",
       "      <td>0.153846</td>\n",
       "      <td>0.571429</td>\n",
       "    </tr>\n",
       "    <tr>\n",
       "      <th>134</th>\n",
       "      <td>0.571429</td>\n",
       "      <td>0.156863</td>\n",
       "      <td>0.332321</td>\n",
       "      <td>168</td>\n",
       "      <td>8</td>\n",
       "      <td>43</td>\n",
       "      <td>6</td>\n",
       "      <td>0.156863</td>\n",
       "      <td>0.571429</td>\n",
       "    </tr>\n",
       "    <tr>\n",
       "      <th>135</th>\n",
       "      <td>0.571429</td>\n",
       "      <td>0.160000</td>\n",
       "      <td>0.335898</td>\n",
       "      <td>169</td>\n",
       "      <td>8</td>\n",
       "      <td>42</td>\n",
       "      <td>6</td>\n",
       "      <td>0.160000</td>\n",
       "      <td>0.571429</td>\n",
       "    </tr>\n",
       "    <tr>\n",
       "      <th>136</th>\n",
       "      <td>0.500000</td>\n",
       "      <td>0.142857</td>\n",
       "      <td>0.345591</td>\n",
       "      <td>169</td>\n",
       "      <td>7</td>\n",
       "      <td>42</td>\n",
       "      <td>7</td>\n",
       "      <td>0.142857</td>\n",
       "      <td>0.500000</td>\n",
       "    </tr>\n",
       "    <tr>\n",
       "      <th>137</th>\n",
       "      <td>0.500000</td>\n",
       "      <td>0.145833</td>\n",
       "      <td>0.369704</td>\n",
       "      <td>170</td>\n",
       "      <td>7</td>\n",
       "      <td>41</td>\n",
       "      <td>7</td>\n",
       "      <td>0.145833</td>\n",
       "      <td>0.500000</td>\n",
       "    </tr>\n",
       "    <tr>\n",
       "      <th>138</th>\n",
       "      <td>0.500000</td>\n",
       "      <td>0.148936</td>\n",
       "      <td>0.374441</td>\n",
       "      <td>171</td>\n",
       "      <td>7</td>\n",
       "      <td>40</td>\n",
       "      <td>7</td>\n",
       "      <td>0.148936</td>\n",
       "      <td>0.500000</td>\n",
       "    </tr>\n",
       "    <tr>\n",
       "      <th>139</th>\n",
       "      <td>0.500000</td>\n",
       "      <td>0.152174</td>\n",
       "      <td>0.375061</td>\n",
       "      <td>172</td>\n",
       "      <td>7</td>\n",
       "      <td>39</td>\n",
       "      <td>7</td>\n",
       "      <td>0.152174</td>\n",
       "      <td>0.500000</td>\n",
       "    </tr>\n",
       "    <tr>\n",
       "      <th>140</th>\n",
       "      <td>0.500000</td>\n",
       "      <td>0.155556</td>\n",
       "      <td>0.376699</td>\n",
       "      <td>173</td>\n",
       "      <td>7</td>\n",
       "      <td>38</td>\n",
       "      <td>7</td>\n",
       "      <td>0.155556</td>\n",
       "      <td>0.500000</td>\n",
       "    </tr>\n",
       "    <tr>\n",
       "      <th>141</th>\n",
       "      <td>0.500000</td>\n",
       "      <td>0.159091</td>\n",
       "      <td>0.379386</td>\n",
       "      <td>174</td>\n",
       "      <td>7</td>\n",
       "      <td>37</td>\n",
       "      <td>7</td>\n",
       "      <td>0.159091</td>\n",
       "      <td>0.500000</td>\n",
       "    </tr>\n",
       "    <tr>\n",
       "      <th>142</th>\n",
       "      <td>0.500000</td>\n",
       "      <td>0.162791</td>\n",
       "      <td>0.389400</td>\n",
       "      <td>175</td>\n",
       "      <td>7</td>\n",
       "      <td>36</td>\n",
       "      <td>7</td>\n",
       "      <td>0.162791</td>\n",
       "      <td>0.500000</td>\n",
       "    </tr>\n",
       "    <tr>\n",
       "      <th>143</th>\n",
       "      <td>0.500000</td>\n",
       "      <td>0.166667</td>\n",
       "      <td>0.391583</td>\n",
       "      <td>176</td>\n",
       "      <td>7</td>\n",
       "      <td>35</td>\n",
       "      <td>7</td>\n",
       "      <td>0.166667</td>\n",
       "      <td>0.500000</td>\n",
       "    </tr>\n",
       "    <tr>\n",
       "      <th>144</th>\n",
       "      <td>0.500000</td>\n",
       "      <td>0.170732</td>\n",
       "      <td>0.396378</td>\n",
       "      <td>177</td>\n",
       "      <td>7</td>\n",
       "      <td>34</td>\n",
       "      <td>7</td>\n",
       "      <td>0.170732</td>\n",
       "      <td>0.500000</td>\n",
       "    </tr>\n",
       "    <tr>\n",
       "      <th>145</th>\n",
       "      <td>0.500000</td>\n",
       "      <td>0.175000</td>\n",
       "      <td>0.397123</td>\n",
       "      <td>178</td>\n",
       "      <td>7</td>\n",
       "      <td>33</td>\n",
       "      <td>7</td>\n",
       "      <td>0.175000</td>\n",
       "      <td>0.500000</td>\n",
       "    </tr>\n",
       "    <tr>\n",
       "      <th>146</th>\n",
       "      <td>0.500000</td>\n",
       "      <td>0.179487</td>\n",
       "      <td>0.409237</td>\n",
       "      <td>179</td>\n",
       "      <td>7</td>\n",
       "      <td>32</td>\n",
       "      <td>7</td>\n",
       "      <td>0.179487</td>\n",
       "      <td>0.500000</td>\n",
       "    </tr>\n",
       "    <tr>\n",
       "      <th>147</th>\n",
       "      <td>0.500000</td>\n",
       "      <td>0.184211</td>\n",
       "      <td>0.427681</td>\n",
       "      <td>180</td>\n",
       "      <td>7</td>\n",
       "      <td>31</td>\n",
       "      <td>7</td>\n",
       "      <td>0.184211</td>\n",
       "      <td>0.500000</td>\n",
       "    </tr>\n",
       "    <tr>\n",
       "      <th>148</th>\n",
       "      <td>0.500000</td>\n",
       "      <td>0.189189</td>\n",
       "      <td>0.458754</td>\n",
       "      <td>181</td>\n",
       "      <td>7</td>\n",
       "      <td>30</td>\n",
       "      <td>7</td>\n",
       "      <td>0.189189</td>\n",
       "      <td>0.500000</td>\n",
       "    </tr>\n",
       "    <tr>\n",
       "      <th>149</th>\n",
       "      <td>0.500000</td>\n",
       "      <td>0.194444</td>\n",
       "      <td>0.477750</td>\n",
       "      <td>182</td>\n",
       "      <td>7</td>\n",
       "      <td>29</td>\n",
       "      <td>7</td>\n",
       "      <td>0.194444</td>\n",
       "      <td>0.500000</td>\n",
       "    </tr>\n",
       "    <tr>\n",
       "      <th>150</th>\n",
       "      <td>0.500000</td>\n",
       "      <td>0.200000</td>\n",
       "      <td>0.479830</td>\n",
       "      <td>183</td>\n",
       "      <td>7</td>\n",
       "      <td>28</td>\n",
       "      <td>7</td>\n",
       "      <td>0.200000</td>\n",
       "      <td>0.500000</td>\n",
       "    </tr>\n",
       "    <tr>\n",
       "      <th>151</th>\n",
       "      <td>0.500000</td>\n",
       "      <td>0.205882</td>\n",
       "      <td>0.483255</td>\n",
       "      <td>184</td>\n",
       "      <td>7</td>\n",
       "      <td>27</td>\n",
       "      <td>7</td>\n",
       "      <td>0.205882</td>\n",
       "      <td>0.500000</td>\n",
       "    </tr>\n",
       "    <tr>\n",
       "      <th>152</th>\n",
       "      <td>0.500000</td>\n",
       "      <td>0.212121</td>\n",
       "      <td>0.486228</td>\n",
       "      <td>185</td>\n",
       "      <td>7</td>\n",
       "      <td>26</td>\n",
       "      <td>7</td>\n",
       "      <td>0.212121</td>\n",
       "      <td>0.500000</td>\n",
       "    </tr>\n",
       "    <tr>\n",
       "      <th>153</th>\n",
       "      <td>0.428571</td>\n",
       "      <td>0.187500</td>\n",
       "      <td>0.492456</td>\n",
       "      <td>185</td>\n",
       "      <td>6</td>\n",
       "      <td>26</td>\n",
       "      <td>8</td>\n",
       "      <td>0.187500</td>\n",
       "      <td>0.428571</td>\n",
       "    </tr>\n",
       "    <tr>\n",
       "      <th>154</th>\n",
       "      <td>0.428571</td>\n",
       "      <td>0.193548</td>\n",
       "      <td>0.499187</td>\n",
       "      <td>186</td>\n",
       "      <td>6</td>\n",
       "      <td>25</td>\n",
       "      <td>8</td>\n",
       "      <td>0.193548</td>\n",
       "      <td>0.428571</td>\n",
       "    </tr>\n",
       "    <tr>\n",
       "      <th>155</th>\n",
       "      <td>0.428571</td>\n",
       "      <td>0.200000</td>\n",
       "      <td>0.505979</td>\n",
       "      <td>187</td>\n",
       "      <td>6</td>\n",
       "      <td>24</td>\n",
       "      <td>8</td>\n",
       "      <td>0.200000</td>\n",
       "      <td>0.428571</td>\n",
       "    </tr>\n",
       "    <tr>\n",
       "      <th>156</th>\n",
       "      <td>0.428571</td>\n",
       "      <td>0.206897</td>\n",
       "      <td>0.506644</td>\n",
       "      <td>188</td>\n",
       "      <td>6</td>\n",
       "      <td>23</td>\n",
       "      <td>8</td>\n",
       "      <td>0.206897</td>\n",
       "      <td>0.428571</td>\n",
       "    </tr>\n",
       "    <tr>\n",
       "      <th>157</th>\n",
       "      <td>0.428571</td>\n",
       "      <td>0.214286</td>\n",
       "      <td>0.532098</td>\n",
       "      <td>189</td>\n",
       "      <td>6</td>\n",
       "      <td>22</td>\n",
       "      <td>8</td>\n",
       "      <td>0.214286</td>\n",
       "      <td>0.428571</td>\n",
       "    </tr>\n",
       "    <tr>\n",
       "      <th>158</th>\n",
       "      <td>0.428571</td>\n",
       "      <td>0.222222</td>\n",
       "      <td>0.545270</td>\n",
       "      <td>190</td>\n",
       "      <td>6</td>\n",
       "      <td>21</td>\n",
       "      <td>8</td>\n",
       "      <td>0.222222</td>\n",
       "      <td>0.428571</td>\n",
       "    </tr>\n",
       "    <tr>\n",
       "      <th>159</th>\n",
       "      <td>0.428571</td>\n",
       "      <td>0.230769</td>\n",
       "      <td>0.576678</td>\n",
       "      <td>191</td>\n",
       "      <td>6</td>\n",
       "      <td>20</td>\n",
       "      <td>8</td>\n",
       "      <td>0.230769</td>\n",
       "      <td>0.428571</td>\n",
       "    </tr>\n",
       "    <tr>\n",
       "      <th>160</th>\n",
       "      <td>0.357143</td>\n",
       "      <td>0.200000</td>\n",
       "      <td>0.578574</td>\n",
       "      <td>191</td>\n",
       "      <td>5</td>\n",
       "      <td>20</td>\n",
       "      <td>9</td>\n",
       "      <td>0.200000</td>\n",
       "      <td>0.357143</td>\n",
       "    </tr>\n",
       "    <tr>\n",
       "      <th>161</th>\n",
       "      <td>0.357143</td>\n",
       "      <td>0.208333</td>\n",
       "      <td>0.579762</td>\n",
       "      <td>192</td>\n",
       "      <td>5</td>\n",
       "      <td>19</td>\n",
       "      <td>9</td>\n",
       "      <td>0.208333</td>\n",
       "      <td>0.357143</td>\n",
       "    </tr>\n",
       "    <tr>\n",
       "      <th>162</th>\n",
       "      <td>0.357143</td>\n",
       "      <td>0.217391</td>\n",
       "      <td>0.580795</td>\n",
       "      <td>193</td>\n",
       "      <td>5</td>\n",
       "      <td>18</td>\n",
       "      <td>9</td>\n",
       "      <td>0.217391</td>\n",
       "      <td>0.357143</td>\n",
       "    </tr>\n",
       "    <tr>\n",
       "      <th>163</th>\n",
       "      <td>0.357143</td>\n",
       "      <td>0.227273</td>\n",
       "      <td>0.589622</td>\n",
       "      <td>194</td>\n",
       "      <td>5</td>\n",
       "      <td>17</td>\n",
       "      <td>9</td>\n",
       "      <td>0.227273</td>\n",
       "      <td>0.357143</td>\n",
       "    </tr>\n",
       "    <tr>\n",
       "      <th>164</th>\n",
       "      <td>0.357143</td>\n",
       "      <td>0.238095</td>\n",
       "      <td>0.590416</td>\n",
       "      <td>195</td>\n",
       "      <td>5</td>\n",
       "      <td>16</td>\n",
       "      <td>9</td>\n",
       "      <td>0.238095</td>\n",
       "      <td>0.357143</td>\n",
       "    </tr>\n",
       "    <tr>\n",
       "      <th>165</th>\n",
       "      <td>0.357143</td>\n",
       "      <td>0.250000</td>\n",
       "      <td>0.600766</td>\n",
       "      <td>196</td>\n",
       "      <td>5</td>\n",
       "      <td>15</td>\n",
       "      <td>9</td>\n",
       "      <td>0.250000</td>\n",
       "      <td>0.357143</td>\n",
       "    </tr>\n",
       "    <tr>\n",
       "      <th>166</th>\n",
       "      <td>0.357143</td>\n",
       "      <td>0.263158</td>\n",
       "      <td>0.645373</td>\n",
       "      <td>197</td>\n",
       "      <td>5</td>\n",
       "      <td>14</td>\n",
       "      <td>9</td>\n",
       "      <td>0.263158</td>\n",
       "      <td>0.357143</td>\n",
       "    </tr>\n",
       "    <tr>\n",
       "      <th>167</th>\n",
       "      <td>0.357143</td>\n",
       "      <td>0.277778</td>\n",
       "      <td>0.673404</td>\n",
       "      <td>198</td>\n",
       "      <td>5</td>\n",
       "      <td>13</td>\n",
       "      <td>9</td>\n",
       "      <td>0.277778</td>\n",
       "      <td>0.357143</td>\n",
       "    </tr>\n",
       "    <tr>\n",
       "      <th>168</th>\n",
       "      <td>0.357143</td>\n",
       "      <td>0.294118</td>\n",
       "      <td>0.712009</td>\n",
       "      <td>199</td>\n",
       "      <td>5</td>\n",
       "      <td>12</td>\n",
       "      <td>9</td>\n",
       "      <td>0.294118</td>\n",
       "      <td>0.357143</td>\n",
       "    </tr>\n",
       "    <tr>\n",
       "      <th>169</th>\n",
       "      <td>0.357143</td>\n",
       "      <td>0.312500</td>\n",
       "      <td>0.716963</td>\n",
       "      <td>200</td>\n",
       "      <td>5</td>\n",
       "      <td>11</td>\n",
       "      <td>9</td>\n",
       "      <td>0.312500</td>\n",
       "      <td>0.357143</td>\n",
       "    </tr>\n",
       "    <tr>\n",
       "      <th>170</th>\n",
       "      <td>0.357143</td>\n",
       "      <td>0.333333</td>\n",
       "      <td>0.756652</td>\n",
       "      <td>201</td>\n",
       "      <td>5</td>\n",
       "      <td>10</td>\n",
       "      <td>9</td>\n",
       "      <td>0.333333</td>\n",
       "      <td>0.357143</td>\n",
       "    </tr>\n",
       "    <tr>\n",
       "      <th>171</th>\n",
       "      <td>0.285714</td>\n",
       "      <td>0.285714</td>\n",
       "      <td>0.780360</td>\n",
       "      <td>201</td>\n",
       "      <td>4</td>\n",
       "      <td>10</td>\n",
       "      <td>10</td>\n",
       "      <td>0.285714</td>\n",
       "      <td>0.285714</td>\n",
       "    </tr>\n",
       "    <tr>\n",
       "      <th>172</th>\n",
       "      <td>0.285714</td>\n",
       "      <td>0.307692</td>\n",
       "      <td>0.791402</td>\n",
       "      <td>202</td>\n",
       "      <td>4</td>\n",
       "      <td>9</td>\n",
       "      <td>10</td>\n",
       "      <td>0.307692</td>\n",
       "      <td>0.285714</td>\n",
       "    </tr>\n",
       "    <tr>\n",
       "      <th>173</th>\n",
       "      <td>0.285714</td>\n",
       "      <td>0.333333</td>\n",
       "      <td>0.821376</td>\n",
       "      <td>203</td>\n",
       "      <td>4</td>\n",
       "      <td>8</td>\n",
       "      <td>10</td>\n",
       "      <td>0.333333</td>\n",
       "      <td>0.285714</td>\n",
       "    </tr>\n",
       "    <tr>\n",
       "      <th>174</th>\n",
       "      <td>0.285714</td>\n",
       "      <td>0.363636</td>\n",
       "      <td>0.837102</td>\n",
       "      <td>204</td>\n",
       "      <td>4</td>\n",
       "      <td>7</td>\n",
       "      <td>10</td>\n",
       "      <td>0.363636</td>\n",
       "      <td>0.285714</td>\n",
       "    </tr>\n",
       "    <tr>\n",
       "      <th>175</th>\n",
       "      <td>0.285714</td>\n",
       "      <td>0.400000</td>\n",
       "      <td>0.843419</td>\n",
       "      <td>205</td>\n",
       "      <td>4</td>\n",
       "      <td>6</td>\n",
       "      <td>10</td>\n",
       "      <td>0.400000</td>\n",
       "      <td>0.285714</td>\n",
       "    </tr>\n",
       "    <tr>\n",
       "      <th>176</th>\n",
       "      <td>0.214286</td>\n",
       "      <td>0.333333</td>\n",
       "      <td>0.848159</td>\n",
       "      <td>205</td>\n",
       "      <td>3</td>\n",
       "      <td>6</td>\n",
       "      <td>11</td>\n",
       "      <td>0.333333</td>\n",
       "      <td>0.214286</td>\n",
       "    </tr>\n",
       "    <tr>\n",
       "      <th>177</th>\n",
       "      <td>0.214286</td>\n",
       "      <td>0.375000</td>\n",
       "      <td>0.875863</td>\n",
       "      <td>206</td>\n",
       "      <td>3</td>\n",
       "      <td>5</td>\n",
       "      <td>11</td>\n",
       "      <td>0.375000</td>\n",
       "      <td>0.214286</td>\n",
       "    </tr>\n",
       "    <tr>\n",
       "      <th>178</th>\n",
       "      <td>0.142857</td>\n",
       "      <td>0.285714</td>\n",
       "      <td>0.885791</td>\n",
       "      <td>206</td>\n",
       "      <td>2</td>\n",
       "      <td>5</td>\n",
       "      <td>12</td>\n",
       "      <td>0.285714</td>\n",
       "      <td>0.142857</td>\n",
       "    </tr>\n",
       "    <tr>\n",
       "      <th>179</th>\n",
       "      <td>0.071429</td>\n",
       "      <td>0.166667</td>\n",
       "      <td>0.890130</td>\n",
       "      <td>206</td>\n",
       "      <td>1</td>\n",
       "      <td>5</td>\n",
       "      <td>13</td>\n",
       "      <td>0.166667</td>\n",
       "      <td>0.071429</td>\n",
       "    </tr>\n",
       "    <tr>\n",
       "      <th>180</th>\n",
       "      <td>0.071429</td>\n",
       "      <td>0.200000</td>\n",
       "      <td>0.895429</td>\n",
       "      <td>207</td>\n",
       "      <td>1</td>\n",
       "      <td>4</td>\n",
       "      <td>13</td>\n",
       "      <td>0.200000</td>\n",
       "      <td>0.071429</td>\n",
       "    </tr>\n",
       "    <tr>\n",
       "      <th>181</th>\n",
       "      <td>0.071429</td>\n",
       "      <td>0.250000</td>\n",
       "      <td>0.942451</td>\n",
       "      <td>208</td>\n",
       "      <td>1</td>\n",
       "      <td>3</td>\n",
       "      <td>13</td>\n",
       "      <td>0.250000</td>\n",
       "      <td>0.071429</td>\n",
       "    </tr>\n",
       "    <tr>\n",
       "      <th>182</th>\n",
       "      <td>0.071429</td>\n",
       "      <td>0.333333</td>\n",
       "      <td>0.944420</td>\n",
       "      <td>209</td>\n",
       "      <td>1</td>\n",
       "      <td>2</td>\n",
       "      <td>13</td>\n",
       "      <td>0.333333</td>\n",
       "      <td>0.071429</td>\n",
       "    </tr>\n",
       "    <tr>\n",
       "      <th>183</th>\n",
       "      <td>0.071429</td>\n",
       "      <td>0.500000</td>\n",
       "      <td>0.949322</td>\n",
       "      <td>210</td>\n",
       "      <td>1</td>\n",
       "      <td>1</td>\n",
       "      <td>13</td>\n",
       "      <td>0.500000</td>\n",
       "      <td>0.071429</td>\n",
       "    </tr>\n",
       "    <tr>\n",
       "      <th>184</th>\n",
       "      <td>0.000000</td>\n",
       "      <td>0.000000</td>\n",
       "      <td>0.959695</td>\n",
       "      <td>210</td>\n",
       "      <td>0</td>\n",
       "      <td>1</td>\n",
       "      <td>14</td>\n",
       "      <td>0.000000</td>\n",
       "      <td>0.000000</td>\n",
       "    </tr>\n",
       "    <tr>\n",
       "      <th>185</th>\n",
       "      <td>0.000000</td>\n",
       "      <td>1.000000</td>\n",
       "      <td>1.000000</td>\n",
       "      <td>211</td>\n",
       "      <td>0</td>\n",
       "      <td>0</td>\n",
       "      <td>14</td>\n",
       "      <td>NaN</td>\n",
       "      <td>0.000000</td>\n",
       "    </tr>\n",
       "  </tbody>\n",
       "</table>\n",
       "</div>"
      ],
      "text/plain": [
       "       Recall  Precision  Threshold   tn  tp   fp  fn   p_check   r_check\n",
       "0    1.000000   0.075676   0.009160   40  14  171   0  0.075676  1.000000\n",
       "1    0.928571   0.070652   0.009163   40  13  171   1  0.070652  0.928571\n",
       "2    0.928571   0.071038   0.009294   41  13  170   1  0.071038  0.928571\n",
       "3    0.928571   0.071429   0.009548   42  13  169   1  0.071429  0.928571\n",
       "4    0.928571   0.071823   0.009706   43  13  168   1  0.071823  0.928571\n",
       "5    0.928571   0.072222   0.010021   44  13  167   1  0.072222  0.928571\n",
       "6    0.928571   0.072626   0.011148   45  13  166   1  0.072626  0.928571\n",
       "7    0.928571   0.073034   0.012096   46  13  165   1  0.073034  0.928571\n",
       "8    0.928571   0.073446   0.012116   47  13  164   1  0.073446  0.928571\n",
       "9    0.928571   0.073864   0.012193   48  13  163   1  0.073864  0.928571\n",
       "10   0.928571   0.074286   0.012381   49  13  162   1  0.074286  0.928571\n",
       "11   0.928571   0.074713   0.012513   50  13  161   1  0.074713  0.928571\n",
       "12   0.928571   0.075145   0.012592   51  13  160   1  0.075145  0.928571\n",
       "13   0.928571   0.075581   0.012607   52  13  159   1  0.075581  0.928571\n",
       "14   0.928571   0.076023   0.012782   53  13  158   1  0.076023  0.928571\n",
       "15   0.928571   0.076471   0.013714   54  13  157   1  0.076471  0.928571\n",
       "16   0.928571   0.076923   0.014405   55  13  156   1  0.076923  0.928571\n",
       "17   0.928571   0.077381   0.014591   56  13  155   1  0.077381  0.928571\n",
       "18   0.928571   0.077844   0.015190   57  13  154   1  0.077844  0.928571\n",
       "19   0.928571   0.078313   0.015312   58  13  153   1  0.078313  0.928571\n",
       "20   0.928571   0.078788   0.015386   59  13  152   1  0.078788  0.928571\n",
       "21   0.928571   0.079268   0.015541   60  13  151   1  0.079268  0.928571\n",
       "22   0.928571   0.079755   0.015679   61  13  150   1  0.079755  0.928571\n",
       "23   0.928571   0.080247   0.016124   62  13  149   1  0.080247  0.928571\n",
       "24   0.928571   0.080745   0.017240   63  13  148   1  0.080745  0.928571\n",
       "25   0.928571   0.081250   0.017642   64  13  147   1  0.081250  0.928571\n",
       "26   0.928571   0.081761   0.018536   65  13  146   1  0.081761  0.928571\n",
       "27   0.928571   0.082278   0.019859   66  13  145   1  0.082278  0.928571\n",
       "28   0.928571   0.082803   0.020129   67  13  144   1  0.082803  0.928571\n",
       "29   0.928571   0.083333   0.021861   68  13  143   1  0.083333  0.928571\n",
       "30   0.928571   0.083871   0.022197   69  13  142   1  0.083871  0.928571\n",
       "31   0.928571   0.084416   0.022231   70  13  141   1  0.084416  0.928571\n",
       "32   0.928571   0.084967   0.022712   71  13  140   1  0.084967  0.928571\n",
       "33   0.928571   0.085526   0.023052   72  13  139   1  0.085526  0.928571\n",
       "34   0.928571   0.086093   0.023920   73  13  138   1  0.086093  0.928571\n",
       "35   0.928571   0.086667   0.024400   74  13  137   1  0.086667  0.928571\n",
       "36   0.928571   0.087248   0.024840   75  13  136   1  0.087248  0.928571\n",
       "37   0.928571   0.087838   0.026217   76  13  135   1  0.087838  0.928571\n",
       "38   0.928571   0.088435   0.026869   77  13  134   1  0.088435  0.928571\n",
       "39   0.928571   0.089041   0.027421   78  13  133   1  0.089041  0.928571\n",
       "40   0.928571   0.089655   0.028247   79  13  132   1  0.089655  0.928571\n",
       "41   0.928571   0.090278   0.028931   80  13  131   1  0.090278  0.928571\n",
       "42   0.928571   0.090909   0.029070   81  13  130   1  0.090909  0.928571\n",
       "43   0.928571   0.091549   0.029166   82  13  129   1  0.091549  0.928571\n",
       "44   0.928571   0.092199   0.030666   83  13  128   1  0.092199  0.928571\n",
       "45   0.928571   0.092857   0.030783   84  13  127   1  0.092857  0.928571\n",
       "46   0.928571   0.093525   0.031367   85  13  126   1  0.093525  0.928571\n",
       "47   0.928571   0.094203   0.032783   86  13  125   1  0.094203  0.928571\n",
       "48   0.928571   0.094891   0.032968   87  13  124   1  0.094891  0.928571\n",
       "49   0.928571   0.095588   0.032997   88  13  123   1  0.095588  0.928571\n",
       "50   0.928571   0.096296   0.034033   89  13  122   1  0.096296  0.928571\n",
       "51   0.928571   0.097015   0.034261   90  13  121   1  0.097015  0.928571\n",
       "52   0.928571   0.097744   0.036774   91  13  120   1  0.097744  0.928571\n",
       "53   0.928571   0.098485   0.036819   92  13  119   1  0.098485  0.928571\n",
       "54   0.928571   0.099237   0.037104   93  13  118   1  0.099237  0.928571\n",
       "55   0.928571   0.100000   0.037457   94  13  117   1  0.100000  0.928571\n",
       "56   0.928571   0.100775   0.038366   95  13  116   1  0.100775  0.928571\n",
       "57   0.928571   0.101562   0.039246   96  13  115   1  0.101562  0.928571\n",
       "58   0.928571   0.102362   0.039521   97  13  114   1  0.102362  0.928571\n",
       "59   0.928571   0.103175   0.041473   98  13  113   1  0.103175  0.928571\n",
       "60   0.928571   0.104000   0.041752   99  13  112   1  0.104000  0.928571\n",
       "61   0.928571   0.104839   0.042431  100  13  111   1  0.104839  0.928571\n",
       "62   0.928571   0.105691   0.042790  101  13  110   1  0.105691  0.928571\n",
       "63   0.928571   0.106557   0.044688  102  13  109   1  0.106557  0.928571\n",
       "64   0.928571   0.107438   0.045525  103  13  108   1  0.107438  0.928571\n",
       "65   0.928571   0.108333   0.045530  104  13  107   1  0.108333  0.928571\n",
       "66   0.928571   0.109244   0.046343  105  13  106   1  0.109244  0.928571\n",
       "67   0.928571   0.110169   0.046752  106  13  105   1  0.110169  0.928571\n",
       "68   0.928571   0.111111   0.047865  107  13  104   1  0.111111  0.928571\n",
       "69   0.928571   0.112069   0.052319  108  13  103   1  0.112069  0.928571\n",
       "70   0.928571   0.113043   0.054891  109  13  102   1  0.113043  0.928571\n",
       "71   0.928571   0.114035   0.057469  110  13  101   1  0.114035  0.928571\n",
       "72   0.928571   0.115044   0.058287  111  13  100   1  0.115044  0.928571\n",
       "73   0.928571   0.116071   0.061972  112  13   99   1  0.116071  0.928571\n",
       "74   0.928571   0.117117   0.067337  113  13   98   1  0.117117  0.928571\n",
       "75   0.928571   0.118182   0.069742  114  13   97   1  0.118182  0.928571\n",
       "76   0.928571   0.119266   0.070516  115  13   96   1  0.119266  0.928571\n",
       "77   0.928571   0.120370   0.070920  116  13   95   1  0.120370  0.928571\n",
       "78   0.928571   0.121495   0.072864  117  13   94   1  0.121495  0.928571\n",
       "79   0.928571   0.122642   0.078341  118  13   93   1  0.122642  0.928571\n",
       "80   0.928571   0.123810   0.078463  119  13   92   1  0.123810  0.928571\n",
       "81   0.857143   0.115385   0.081320  119  12   92   2  0.115385  0.857143\n",
       "82   0.857143   0.116505   0.082429  120  12   91   2  0.116505  0.857143\n",
       "83   0.857143   0.117647   0.084331  121  12   90   2  0.117647  0.857143\n",
       "84   0.857143   0.118812   0.090849  122  12   89   2  0.118812  0.857143\n",
       "85   0.857143   0.120000   0.091737  123  12   88   2  0.120000  0.857143\n",
       "86   0.857143   0.121212   0.099800  124  12   87   2  0.121212  0.857143\n",
       "87   0.857143   0.122449   0.104481  125  12   86   2  0.122449  0.857143\n",
       "88   0.857143   0.123711   0.107399  126  12   85   2  0.123711  0.857143\n",
       "89   0.857143   0.125000   0.111804  127  12   84   2  0.125000  0.857143\n",
       "90   0.857143   0.126316   0.114860  128  12   83   2  0.126316  0.857143\n",
       "91   0.857143   0.127660   0.116603  129  12   82   2  0.127660  0.857143\n",
       "92   0.857143   0.129032   0.117875  130  12   81   2  0.129032  0.857143\n",
       "93   0.857143   0.130435   0.122835  131  12   80   2  0.130435  0.857143\n",
       "94   0.857143   0.131868   0.124398  132  12   79   2  0.131868  0.857143\n",
       "95   0.857143   0.133333   0.126671  133  12   78   2  0.133333  0.857143\n",
       "96   0.857143   0.134831   0.126868  134  12   77   2  0.134831  0.857143\n",
       "97   0.857143   0.136364   0.129537  135  12   76   2  0.136364  0.857143\n",
       "98   0.857143   0.137931   0.133594  136  12   75   2  0.137931  0.857143\n",
       "99   0.785714   0.127907   0.135443  136  11   75   3  0.127907  0.785714\n",
       "100  0.785714   0.129412   0.139989  137  11   74   3  0.129412  0.785714\n",
       "101  0.785714   0.130952   0.140484  138  11   73   3  0.130952  0.785714\n",
       "102  0.714286   0.120482   0.152298  138  10   73   4  0.120482  0.714286\n",
       "103  0.714286   0.121951   0.153572  139  10   72   4  0.121951  0.714286\n",
       "104  0.714286   0.123457   0.160740  140  10   71   4  0.123457  0.714286\n",
       "105  0.714286   0.125000   0.166719  141  10   70   4  0.125000  0.714286\n",
       "106  0.714286   0.126582   0.169784  142  10   69   4  0.126582  0.714286\n",
       "107  0.642857   0.115385   0.180513  142   9   69   5  0.115385  0.642857\n",
       "108  0.642857   0.116883   0.186663  143   9   68   5  0.116883  0.642857\n",
       "109  0.642857   0.118421   0.194011  144   9   67   5  0.118421  0.642857\n",
       "110  0.642857   0.120000   0.205302  145   9   66   5  0.120000  0.642857\n",
       "111  0.642857   0.121622   0.212194  146   9   65   5  0.121622  0.642857\n",
       "112  0.642857   0.123288   0.214966  147   9   64   5  0.123288  0.642857\n",
       "113  0.642857   0.125000   0.216006  148   9   63   5  0.125000  0.642857\n",
       "114  0.642857   0.126761   0.219194  149   9   62   5  0.126761  0.642857\n",
       "115  0.642857   0.128571   0.221764  150   9   61   5  0.128571  0.642857\n",
       "116  0.642857   0.130435   0.225922  151   9   60   5  0.130435  0.642857\n",
       "117  0.642857   0.132353   0.232483  152   9   59   5  0.132353  0.642857\n",
       "118  0.642857   0.134328   0.238730  153   9   58   5  0.134328  0.642857\n",
       "119  0.642857   0.136364   0.239795  154   9   57   5  0.136364  0.642857\n",
       "120  0.642857   0.138462   0.240663  155   9   56   5  0.138462  0.642857\n",
       "121  0.642857   0.140625   0.241906  156   9   55   5  0.140625  0.642857\n",
       "122  0.642857   0.142857   0.256762  157   9   54   5  0.142857  0.642857\n",
       "123  0.642857   0.145161   0.261097  158   9   53   5  0.145161  0.642857\n",
       "124  0.642857   0.147541   0.262296  159   9   52   5  0.147541  0.642857\n",
       "125  0.642857   0.150000   0.269003  160   9   51   5  0.150000  0.642857\n",
       "126  0.642857   0.152542   0.291108  161   9   50   5  0.152542  0.642857\n",
       "127  0.571429   0.137931   0.293029  161   8   50   6  0.137931  0.571429\n",
       "128  0.571429   0.140351   0.300014  162   8   49   6  0.140351  0.571429\n",
       "129  0.571429   0.142857   0.308669  163   8   48   6  0.142857  0.571429\n",
       "130  0.571429   0.145455   0.312896  164   8   47   6  0.145455  0.571429\n",
       "131  0.571429   0.148148   0.319235  165   8   46   6  0.148148  0.571429\n",
       "132  0.571429   0.150943   0.322306  166   8   45   6  0.150943  0.571429\n",
       "133  0.571429   0.153846   0.323706  167   8   44   6  0.153846  0.571429\n",
       "134  0.571429   0.156863   0.332321  168   8   43   6  0.156863  0.571429\n",
       "135  0.571429   0.160000   0.335898  169   8   42   6  0.160000  0.571429\n",
       "136  0.500000   0.142857   0.345591  169   7   42   7  0.142857  0.500000\n",
       "137  0.500000   0.145833   0.369704  170   7   41   7  0.145833  0.500000\n",
       "138  0.500000   0.148936   0.374441  171   7   40   7  0.148936  0.500000\n",
       "139  0.500000   0.152174   0.375061  172   7   39   7  0.152174  0.500000\n",
       "140  0.500000   0.155556   0.376699  173   7   38   7  0.155556  0.500000\n",
       "141  0.500000   0.159091   0.379386  174   7   37   7  0.159091  0.500000\n",
       "142  0.500000   0.162791   0.389400  175   7   36   7  0.162791  0.500000\n",
       "143  0.500000   0.166667   0.391583  176   7   35   7  0.166667  0.500000\n",
       "144  0.500000   0.170732   0.396378  177   7   34   7  0.170732  0.500000\n",
       "145  0.500000   0.175000   0.397123  178   7   33   7  0.175000  0.500000\n",
       "146  0.500000   0.179487   0.409237  179   7   32   7  0.179487  0.500000\n",
       "147  0.500000   0.184211   0.427681  180   7   31   7  0.184211  0.500000\n",
       "148  0.500000   0.189189   0.458754  181   7   30   7  0.189189  0.500000\n",
       "149  0.500000   0.194444   0.477750  182   7   29   7  0.194444  0.500000\n",
       "150  0.500000   0.200000   0.479830  183   7   28   7  0.200000  0.500000\n",
       "151  0.500000   0.205882   0.483255  184   7   27   7  0.205882  0.500000\n",
       "152  0.500000   0.212121   0.486228  185   7   26   7  0.212121  0.500000\n",
       "153  0.428571   0.187500   0.492456  185   6   26   8  0.187500  0.428571\n",
       "154  0.428571   0.193548   0.499187  186   6   25   8  0.193548  0.428571\n",
       "155  0.428571   0.200000   0.505979  187   6   24   8  0.200000  0.428571\n",
       "156  0.428571   0.206897   0.506644  188   6   23   8  0.206897  0.428571\n",
       "157  0.428571   0.214286   0.532098  189   6   22   8  0.214286  0.428571\n",
       "158  0.428571   0.222222   0.545270  190   6   21   8  0.222222  0.428571\n",
       "159  0.428571   0.230769   0.576678  191   6   20   8  0.230769  0.428571\n",
       "160  0.357143   0.200000   0.578574  191   5   20   9  0.200000  0.357143\n",
       "161  0.357143   0.208333   0.579762  192   5   19   9  0.208333  0.357143\n",
       "162  0.357143   0.217391   0.580795  193   5   18   9  0.217391  0.357143\n",
       "163  0.357143   0.227273   0.589622  194   5   17   9  0.227273  0.357143\n",
       "164  0.357143   0.238095   0.590416  195   5   16   9  0.238095  0.357143\n",
       "165  0.357143   0.250000   0.600766  196   5   15   9  0.250000  0.357143\n",
       "166  0.357143   0.263158   0.645373  197   5   14   9  0.263158  0.357143\n",
       "167  0.357143   0.277778   0.673404  198   5   13   9  0.277778  0.357143\n",
       "168  0.357143   0.294118   0.712009  199   5   12   9  0.294118  0.357143\n",
       "169  0.357143   0.312500   0.716963  200   5   11   9  0.312500  0.357143\n",
       "170  0.357143   0.333333   0.756652  201   5   10   9  0.333333  0.357143\n",
       "171  0.285714   0.285714   0.780360  201   4   10  10  0.285714  0.285714\n",
       "172  0.285714   0.307692   0.791402  202   4    9  10  0.307692  0.285714\n",
       "173  0.285714   0.333333   0.821376  203   4    8  10  0.333333  0.285714\n",
       "174  0.285714   0.363636   0.837102  204   4    7  10  0.363636  0.285714\n",
       "175  0.285714   0.400000   0.843419  205   4    6  10  0.400000  0.285714\n",
       "176  0.214286   0.333333   0.848159  205   3    6  11  0.333333  0.214286\n",
       "177  0.214286   0.375000   0.875863  206   3    5  11  0.375000  0.214286\n",
       "178  0.142857   0.285714   0.885791  206   2    5  12  0.285714  0.142857\n",
       "179  0.071429   0.166667   0.890130  206   1    5  13  0.166667  0.071429\n",
       "180  0.071429   0.200000   0.895429  207   1    4  13  0.200000  0.071429\n",
       "181  0.071429   0.250000   0.942451  208   1    3  13  0.250000  0.071429\n",
       "182  0.071429   0.333333   0.944420  209   1    2  13  0.333333  0.071429\n",
       "183  0.071429   0.500000   0.949322  210   1    1  13  0.500000  0.071429\n",
       "184  0.000000   0.000000   0.959695  210   0    1  14  0.000000  0.000000\n",
       "185  0.000000   1.000000   1.000000  211   0    0  14       NaN  0.000000"
      ]
     },
     "execution_count": 155,
     "metadata": {},
     "output_type": "execute_result"
    }
   ],
   "source": [
    "final_recall_precision_data[\"p_check\"] = (final_recall_precision_data[\"tp\"])/(final_recall_precision_data[\"tp\"]+final_recall_precision_data[\"fp\"])\n",
    "final_recall_precision_data[\"r_check\"] = (final_recall_precision_data[\"tp\"])/(final_recall_precision_data[\"tp\"]+final_recall_precision_data[\"fn\"])\n",
    "final_recall_precision_data"
   ]
  },
  {
   "cell_type": "code",
   "execution_count": 156,
   "metadata": {},
   "outputs": [
    {
     "name": "stderr",
     "output_type": "stream",
     "text": [
      "C:\\Users\\jstep\\Anaconda3\\lib\\site-packages\\matplotlib\\cbook\\__init__.py:1402: FutureWarning: Support for multi-dimensional indexing (e.g. `obj[:, None]`) is deprecated and will be removed in a future version.  Convert to a numpy array before indexing instead.\n",
      "  x[:, None]\n",
      "C:\\Users\\jstep\\Anaconda3\\lib\\site-packages\\matplotlib\\axes\\_base.py:276: FutureWarning: Support for multi-dimensional indexing (e.g. `obj[:, None]`) is deprecated and will be removed in a future version.  Convert to a numpy array before indexing instead.\n",
      "  x = x[:, np.newaxis]\n",
      "C:\\Users\\jstep\\Anaconda3\\lib\\site-packages\\matplotlib\\axes\\_base.py:278: FutureWarning: Support for multi-dimensional indexing (e.g. `obj[:, None]`) is deprecated and will be removed in a future version.  Convert to a numpy array before indexing instead.\n",
      "  y = y[:, np.newaxis]\n"
     ]
    },
    {
     "data": {
      "text/plain": [
       "Text(0, 0.5, 'Proportion')"
      ]
     },
     "execution_count": 156,
     "metadata": {},
     "output_type": "execute_result"
    },
    {
     "data": {
      "image/png": "[encoded data removed]",
      "text/plain": [
       "<Figure size 432x288 with 1 Axes>"
      ]
     },
     "metadata": {
      "needs_background": "light"
     },
     "output_type": "display_data"
    }
   ],
   "source": [
    "plt.plot(final_recall_precision_data[\"Threshold\"],final_recall_precision_data[\"p_check\"])\n",
    "plt.plot(final_recall_precision_data[\"Threshold\"],final_recall_precision_data[\"r_check\"])\n",
    "Legend = plt.legend(('precision', 'recall'), frameon=True, loc='best') \n",
    "Legend.get_frame().set_edgecolor('k')  \n",
    "plt.xlabel('Threshold')  \n",
    "plt.ylabel('Proportion') "
   ]
  },
  {
   "cell_type": "code",
   "execution_count": 154,
   "metadata": {},
   "outputs": [],
   "source": [
    "import pandas as pd\n",
    "from sklearn import preprocessing\n",
    "\n",
    "x = final_recall_precision_data[[\"Threshold\",\"tn\",\"tp\",\"fp\",\"fn\"]].values #returns a numpy array\n",
    "min_max_scaler = preprocessing.MinMaxScaler()\n",
    "x_scaled = min_max_scaler.fit_transform(x)\n",
    "final_recall_precision_data_scaled = pd.DataFrame(x_scaled, columns=[\"Threshold\",\"tn\",\"tp\",\"fp\",\"fn\"])\n"
   ]
  },
  {
   "cell_type": "code",
   "execution_count": 153,
   "metadata": {},
   "outputs": [
    {
     "data": {
      "text/plain": [
       "Text(0, 0.5, 'Metric')"
      ]
     },
     "execution_count": 153,
     "metadata": {},
     "output_type": "execute_result"
    },
    {
     "data": {
      "image/png": "[encoded data removed]",
      "text/plain": [
       "<Figure size 720x720 with 1 Axes>"
      ]
     },
     "metadata": {
      "needs_background": "light"
     },
     "output_type": "display_data"
    }
   ],
   "source": [
    "plt.figure(figsize=(10,10))\n",
    "plt.plot(final_recall_precision_data_scaled[\"Threshold\"],final_recall_precision_data_scaled[\"tn\"])\n",
    "plt.plot(final_recall_precision_data_scaled[\"Threshold\"],final_recall_precision_data_scaled[\"tp\"])\n",
    "plt.plot(final_recall_precision_data_scaled[\"Threshold\"],final_recall_precision_data_scaled[\"fp\"])\n",
    "plt.plot(final_recall_precision_data_scaled[\"Threshold\"],final_recall_precision_data_scaled[\"fn\"])\n",
    "Legend = plt.legend(('tn', 'tp', 'fp', 'fn'), frameon=True, loc='best') \n",
    "plt.xlabel(\"Threshold\")\n",
    "plt.ylabel(\"Metric\")"
   ]
  },
  {
   "cell_type": "code",
   "execution_count": 157,
   "metadata": {},
   "outputs": [
    {
     "name": "stdout",
     "output_type": "stream",
     "text": [
      "On branch master\n",
      "Your branch is up to date with 'origin/master'.\n",
      "\n",
      "nothing to commit, working tree clean\n"
     ]
    },
    {
     "name": "stderr",
     "output_type": "stream",
     "text": [
      "Everything up-to-date\n"
     ]
    }
   ],
   "source": [
    "! git add .\n",
    "! git commit -m \"adding imbalanced notebook\"\n",
    "! git push"
   ]
  },
  {
   "cell_type": "code",
   "execution_count": null,
   "metadata": {},
   "outputs": [],
   "source": []
  }
 ],
 "metadata": {
  "kernelspec": {
   "display_name": "Python 3",
   "language": "python",
   "name": "python3"
  },
  "language_info": {
   "codemirror_mode": {
    "name": "ipython",
    "version": 3
   },
   "file_extension": ".py",
   "mimetype": "text/x-python",
   "name": "python",
   "nbconvert_exporter": "python",
   "pygments_lexer": "ipython3",
   "version": "3.7.3"
  }
 },
 "nbformat": 4,
 "nbformat_minor": 2
}
