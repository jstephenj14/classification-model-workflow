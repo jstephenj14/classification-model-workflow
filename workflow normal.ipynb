{
 "cells": [
  {
   "cell_type": "code",
   "execution_count": 133,
   "metadata": {},
   "outputs": [],
   "source": [
    "import numpy as np\n",
    "import pandas as pd \n",
    "import matplotlib.pyplot as plt \n",
    "import seaborn as sns \n",
    "\n",
    "from sklearn.preprocessing import StandardScaler \n",
    "from sklearn.decomposition import PCA \n",
    "from sklearn.model_selection import train_test_split \n",
    "from sklearn.linear_model import LogisticRegression \n",
    "from sklearn.ensemble import RandomForestClassifier\n",
    "from sklearn.ensemble import GradientBoostingClassifier \n",
    "from sklearn.neighbors import KNeighborsClassifier \n",
    "\n",
    "from sklearn.metrics import precision_score, recall_score, f1_score\n",
    "from sklearn.metrics import confusion_matrix as CM \n",
    "from sklearn import model_selection \n",
    "from sklearn.model_selection import learning_curve \n",
    "from sklearn.metrics import precision_recall_curve \n"
   ]
  },
  {
   "cell_type": "code",
   "execution_count": 240,
   "metadata": {},
   "outputs": [],
   "source": [
    "%matplotlib inline\n",
    "data = pd.read_csv(\"C:/Users/jstep/Downloads/german_credit_data/german.data\", sep=\" \",header=None)\n",
    "col_mapping = {0:\"checking_account\", \n",
    "               1:\"duration\",\n",
    "               2:\"credit_history\",\n",
    "               3:\"purpose\",\n",
    "               4:\"credit_amt\",\n",
    "               5:\"savings_acct\",\n",
    "               6:\"employment\",\n",
    "               7:\"installment_rate_percent\",\n",
    "               8:\"gender_status\",\n",
    "               9:\"other_debtors\",\n",
    "              10:\"residence_since\",\n",
    "              11:\"property\",\n",
    "              12:\"age\",\n",
    "              13:\"other_installment_plans\",\n",
    "              14:\"housing\",\n",
    "              15:\"no_existing_credits\",\n",
    "              16:\"job\",\n",
    "              17:\"no_people_liable\",\n",
    "              18:\"has_telephone\",\n",
    "              19:\"is_foreign_worker\",\n",
    "              20:\"good_bad\"}\n",
    "data.columns = [col_mapping[col] for col in data.columns]\n",
    "data[\"good_bad\"] = np.where(data[\"good_bad\"] == 2, 1, 0)\n",
    "data = pd.get_dummies(data, drop_first=True)"
   ]
  },
  {
   "cell_type": "code",
   "execution_count": 241,
   "metadata": {},
   "outputs": [],
   "source": [
    "holdout = data.sample(200)\n",
    "data = data.drop(holdout.index)"
   ]
  },
  {
   "cell_type": "code",
   "execution_count": 318,
   "metadata": {},
   "outputs": [],
   "source": [
    "from imblearn.over_sampling import SMOTE"
   ]
  },
  {
   "cell_type": "code",
   "execution_count": 320,
   "metadata": {},
   "outputs": [],
   "source": [
    "predictors = [c for c in holdout.columns if c != 'good_bad']\n",
    "target = 'good_bad'"
   ]
  },
  {
   "cell_type": "code",
   "execution_count": 296,
   "metadata": {},
   "outputs": [],
   "source": [
    "bad_data = data[data[\"good_bad\"] == 1]\n",
    "good_data = data[data[\"good_bad\"] == 0]\n",
    "small_sample_bad_data = bad_data.sample(30)\n",
    "# simulated imbalanced data\n",
    "undersampled_data = pd.concat([good_data,small_sample_bad_data], axis=0)\n",
    "# data_df = pd.concat([good_data,small_sample_bad_data], axis=0)"
   ]
  },
  {
   "cell_type": "code",
   "execution_count": 285,
   "metadata": {},
   "outputs": [],
   "source": [
    "# undersampling the negative class\n",
    "n_positive = np.sum(undersampled_data[\"good_bad\"]==1)\n",
    "resampled_df = undersampled_data[undersampled_data[\"good_bad\"]==1].copy()\n",
    "df = undersampled_data[undersampled_data[\"good_bad\"]==0].sample(n_positive*15,replace = False)\n",
    "resampled_df = resampled_df.append(df, ignore_index=True)"
   ]
  },
  {
   "cell_type": "code",
   "execution_count": 138,
   "metadata": {},
   "outputs": [],
   "source": [
    "# oversampling the positive class\n",
    "oversampled_positives = undersampled_data[undersampled_data[\"good_bad\"]==1].sample(100,replace = True)\n",
    "negative_data = undersampled_data[undersampled_data[\"good_bad\"]==0].copy()\n",
    "\n",
    "resampled_df = pd.concat([negative_data,oversampled_positives],axis=0)"
   ]
  },
  {
   "cell_type": "code",
   "execution_count": 319,
   "metadata": {},
   "outputs": [
    {
     "data": {
      "text/html": [
       "<div>\n",
       "<style scoped>\n",
       "    .dataframe tbody tr th:only-of-type {\n",
       "        vertical-align: middle;\n",
       "    }\n",
       "\n",
       "    .dataframe tbody tr th {\n",
       "        vertical-align: top;\n",
       "    }\n",
       "\n",
       "    .dataframe thead th {\n",
       "        text-align: right;\n",
       "    }\n",
       "</style>\n",
       "<table border=\"1\" class=\"dataframe\">\n",
       "  <thead>\n",
       "    <tr style=\"text-align: right;\">\n",
       "      <th></th>\n",
       "      <th>duration</th>\n",
       "      <th>credit_amt</th>\n",
       "      <th>installment_rate_percent</th>\n",
       "      <th>residence_since</th>\n",
       "      <th>age</th>\n",
       "      <th>no_existing_credits</th>\n",
       "      <th>no_people_liable</th>\n",
       "      <th>good_bad</th>\n",
       "      <th>checking_account_A12</th>\n",
       "      <th>checking_account_A13</th>\n",
       "      <th>...</th>\n",
       "      <th>property_A124</th>\n",
       "      <th>other_installment_plans_A142</th>\n",
       "      <th>other_installment_plans_A143</th>\n",
       "      <th>housing_A152</th>\n",
       "      <th>housing_A153</th>\n",
       "      <th>job_A172</th>\n",
       "      <th>job_A173</th>\n",
       "      <th>job_A174</th>\n",
       "      <th>has_telephone_A192</th>\n",
       "      <th>is_foreign_worker_A202</th>\n",
       "    </tr>\n",
       "  </thead>\n",
       "  <tbody>\n",
       "    <tr>\n",
       "      <th>0</th>\n",
       "      <td>6</td>\n",
       "      <td>1169</td>\n",
       "      <td>4</td>\n",
       "      <td>4</td>\n",
       "      <td>67</td>\n",
       "      <td>2</td>\n",
       "      <td>1</td>\n",
       "      <td>0</td>\n",
       "      <td>0</td>\n",
       "      <td>0</td>\n",
       "      <td>...</td>\n",
       "      <td>0</td>\n",
       "      <td>0</td>\n",
       "      <td>1</td>\n",
       "      <td>1</td>\n",
       "      <td>0</td>\n",
       "      <td>0</td>\n",
       "      <td>1</td>\n",
       "      <td>0</td>\n",
       "      <td>1</td>\n",
       "      <td>0</td>\n",
       "    </tr>\n",
       "    <tr>\n",
       "      <th>2</th>\n",
       "      <td>12</td>\n",
       "      <td>2096</td>\n",
       "      <td>2</td>\n",
       "      <td>3</td>\n",
       "      <td>49</td>\n",
       "      <td>1</td>\n",
       "      <td>2</td>\n",
       "      <td>0</td>\n",
       "      <td>0</td>\n",
       "      <td>0</td>\n",
       "      <td>...</td>\n",
       "      <td>0</td>\n",
       "      <td>0</td>\n",
       "      <td>1</td>\n",
       "      <td>1</td>\n",
       "      <td>0</td>\n",
       "      <td>1</td>\n",
       "      <td>0</td>\n",
       "      <td>0</td>\n",
       "      <td>0</td>\n",
       "      <td>0</td>\n",
       "    </tr>\n",
       "    <tr>\n",
       "      <th>5</th>\n",
       "      <td>36</td>\n",
       "      <td>9055</td>\n",
       "      <td>2</td>\n",
       "      <td>4</td>\n",
       "      <td>35</td>\n",
       "      <td>1</td>\n",
       "      <td>2</td>\n",
       "      <td>0</td>\n",
       "      <td>0</td>\n",
       "      <td>0</td>\n",
       "      <td>...</td>\n",
       "      <td>1</td>\n",
       "      <td>0</td>\n",
       "      <td>1</td>\n",
       "      <td>0</td>\n",
       "      <td>1</td>\n",
       "      <td>1</td>\n",
       "      <td>0</td>\n",
       "      <td>0</td>\n",
       "      <td>1</td>\n",
       "      <td>0</td>\n",
       "    </tr>\n",
       "    <tr>\n",
       "      <th>6</th>\n",
       "      <td>24</td>\n",
       "      <td>2835</td>\n",
       "      <td>3</td>\n",
       "      <td>4</td>\n",
       "      <td>53</td>\n",
       "      <td>1</td>\n",
       "      <td>1</td>\n",
       "      <td>0</td>\n",
       "      <td>0</td>\n",
       "      <td>0</td>\n",
       "      <td>...</td>\n",
       "      <td>0</td>\n",
       "      <td>0</td>\n",
       "      <td>1</td>\n",
       "      <td>1</td>\n",
       "      <td>0</td>\n",
       "      <td>0</td>\n",
       "      <td>1</td>\n",
       "      <td>0</td>\n",
       "      <td>0</td>\n",
       "      <td>0</td>\n",
       "    </tr>\n",
       "    <tr>\n",
       "      <th>7</th>\n",
       "      <td>36</td>\n",
       "      <td>6948</td>\n",
       "      <td>2</td>\n",
       "      <td>2</td>\n",
       "      <td>35</td>\n",
       "      <td>1</td>\n",
       "      <td>1</td>\n",
       "      <td>0</td>\n",
       "      <td>1</td>\n",
       "      <td>0</td>\n",
       "      <td>...</td>\n",
       "      <td>0</td>\n",
       "      <td>0</td>\n",
       "      <td>1</td>\n",
       "      <td>0</td>\n",
       "      <td>0</td>\n",
       "      <td>0</td>\n",
       "      <td>0</td>\n",
       "      <td>1</td>\n",
       "      <td>1</td>\n",
       "      <td>0</td>\n",
       "    </tr>\n",
       "  </tbody>\n",
       "</table>\n",
       "<p>5 rows × 49 columns</p>\n",
       "</div>"
      ],
      "text/plain": [
       "   duration  credit_amt  installment_rate_percent  residence_since  age  \\\n",
       "0         6        1169                         4                4   67   \n",
       "2        12        2096                         2                3   49   \n",
       "5        36        9055                         2                4   35   \n",
       "6        24        2835                         3                4   53   \n",
       "7        36        6948                         2                2   35   \n",
       "\n",
       "   no_existing_credits  no_people_liable  good_bad  checking_account_A12  \\\n",
       "0                    2                 1         0                     0   \n",
       "2                    1                 2         0                     0   \n",
       "5                    1                 2         0                     0   \n",
       "6                    1                 1         0                     0   \n",
       "7                    1                 1         0                     1   \n",
       "\n",
       "   checking_account_A13  ...  property_A124  other_installment_plans_A142  \\\n",
       "0                     0  ...              0                             0   \n",
       "2                     0  ...              0                             0   \n",
       "5                     0  ...              1                             0   \n",
       "6                     0  ...              0                             0   \n",
       "7                     0  ...              0                             0   \n",
       "\n",
       "   other_installment_plans_A143  housing_A152  housing_A153  job_A172  \\\n",
       "0                             1             1             0         0   \n",
       "2                             1             1             0         1   \n",
       "5                             1             0             1         1   \n",
       "6                             1             1             0         0   \n",
       "7                             1             0             0         0   \n",
       "\n",
       "   job_A173  job_A174  has_telephone_A192  is_foreign_worker_A202  \n",
       "0         1         0                   1                       0  \n",
       "2         0         0                   0                       0  \n",
       "5         0         0                   1                       0  \n",
       "6         1         0                   0                       0  \n",
       "7         0         1                   1                       0  \n",
       "\n",
       "[5 rows x 49 columns]"
      ]
     },
     "execution_count": 319,
     "metadata": {},
     "output_type": "execute_result"
    }
   ],
   "source": []
  },
  {
   "cell_type": "code",
   "execution_count": null,
   "metadata": {},
   "outputs": [],
   "source": [
    "# using smote\n",
    "X, y = oversample.fit_resample(X, y)"
   ]
  },
  {
   "cell_type": "code",
   "execution_count": 297,
   "metadata": {},
   "outputs": [],
   "source": [
    "data_df = undersampled_data.copy()"
   ]
  },
  {
   "cell_type": "code",
   "execution_count": 298,
   "metadata": {},
   "outputs": [
    {
     "data": {
      "text/plain": [
       "0    554\n",
       "1     30\n",
       "Name: good_bad, dtype: int64"
      ]
     },
     "execution_count": 298,
     "metadata": {},
     "output_type": "execute_result"
    }
   ],
   "source": [
    "data_df[\"good_bad\"].value_counts()"
   ]
  },
  {
   "cell_type": "code",
   "execution_count": 299,
   "metadata": {},
   "outputs": [],
   "source": [
    "classifier_list = [\"Logistic_Regression\",\"Random_Forest\",\"Gradient_Boosting\", \"KNN\"]\n",
    "classifier_models = {\n",
    "               'Logistic_Regression': LogisticRegression(class_weight='balanced'),\n",
    "               'Random_Forest': RandomForestClassifier(n_estimators=50, class_weight='balanced'),\n",
    "               'Gradient_Boosting': GradientBoostingClassifier(max_depth=5),\n",
    "               'K_NN': KNeighborsClassifier(n_neighbors=5, weights='distance')\n",
    "}\n",
    "\n",
    "n_runs = 10\n",
    "test_size = 0.3"
   ]
  },
  {
   "cell_type": "code",
   "execution_count": 300,
   "metadata": {},
   "outputs": [
    {
     "name": "stderr",
     "output_type": "stream",
     "text": [
      "lbfgs failed to converge (status=1):\n",
      "STOP: TOTAL NO. of ITERATIONS REACHED LIMIT.\n",
      "\n",
      "Increase the number of iterations (max_iter) or scale the data as shown in:\n",
      "    https://scikit-learn.org/stable/modules/preprocessing.html\n",
      "Please also refer to the documentation for alternative solver options:\n",
      "    https://scikit-learn.org/stable/modules/linear_model.html#logistic-regression\n",
      "lbfgs failed to converge (status=1):\n",
      "STOP: TOTAL NO. of ITERATIONS REACHED LIMIT.\n",
      "\n",
      "Increase the number of iterations (max_iter) or scale the data as shown in:\n",
      "    https://scikit-learn.org/stable/modules/preprocessing.html\n",
      "Please also refer to the documentation for alternative solver options:\n",
      "    https://scikit-learn.org/stable/modules/linear_model.html#logistic-regression\n",
      "lbfgs failed to converge (status=1):\n",
      "STOP: TOTAL NO. of ITERATIONS REACHED LIMIT.\n",
      "\n",
      "Increase the number of iterations (max_iter) or scale the data as shown in:\n",
      "    https://scikit-learn.org/stable/modules/preprocessing.html\n",
      "Please also refer to the documentation for alternative solver options:\n",
      "    https://scikit-learn.org/stable/modules/linear_model.html#logistic-regression\n",
      "lbfgs failed to converge (status=1):\n",
      "STOP: TOTAL NO. of ITERATIONS REACHED LIMIT.\n",
      "\n",
      "Increase the number of iterations (max_iter) or scale the data as shown in:\n",
      "    https://scikit-learn.org/stable/modules/preprocessing.html\n",
      "Please also refer to the documentation for alternative solver options:\n",
      "    https://scikit-learn.org/stable/modules/linear_model.html#logistic-regression\n",
      "lbfgs failed to converge (status=1):\n",
      "STOP: TOTAL NO. of ITERATIONS REACHED LIMIT.\n",
      "\n",
      "Increase the number of iterations (max_iter) or scale the data as shown in:\n",
      "    https://scikit-learn.org/stable/modules/preprocessing.html\n",
      "Please also refer to the documentation for alternative solver options:\n",
      "    https://scikit-learn.org/stable/modules/linear_model.html#logistic-regression\n",
      "lbfgs failed to converge (status=1):\n",
      "STOP: TOTAL NO. of ITERATIONS REACHED LIMIT.\n",
      "\n",
      "Increase the number of iterations (max_iter) or scale the data as shown in:\n",
      "    https://scikit-learn.org/stable/modules/preprocessing.html\n",
      "Please also refer to the documentation for alternative solver options:\n",
      "    https://scikit-learn.org/stable/modules/linear_model.html#logistic-regression\n",
      "lbfgs failed to converge (status=1):\n",
      "STOP: TOTAL NO. of ITERATIONS REACHED LIMIT.\n",
      "\n",
      "Increase the number of iterations (max_iter) or scale the data as shown in:\n",
      "    https://scikit-learn.org/stable/modules/preprocessing.html\n",
      "Please also refer to the documentation for alternative solver options:\n",
      "    https://scikit-learn.org/stable/modules/linear_model.html#logistic-regression\n",
      "lbfgs failed to converge (status=1):\n",
      "STOP: TOTAL NO. of ITERATIONS REACHED LIMIT.\n",
      "\n",
      "Increase the number of iterations (max_iter) or scale the data as shown in:\n",
      "    https://scikit-learn.org/stable/modules/preprocessing.html\n",
      "Please also refer to the documentation for alternative solver options:\n",
      "    https://scikit-learn.org/stable/modules/linear_model.html#logistic-regression\n",
      "lbfgs failed to converge (status=1):\n",
      "STOP: TOTAL NO. of ITERATIONS REACHED LIMIT.\n",
      "\n",
      "Increase the number of iterations (max_iter) or scale the data as shown in:\n",
      "    https://scikit-learn.org/stable/modules/preprocessing.html\n",
      "Please also refer to the documentation for alternative solver options:\n",
      "    https://scikit-learn.org/stable/modules/linear_model.html#logistic-regression\n",
      "lbfgs failed to converge (status=1):\n",
      "STOP: TOTAL NO. of ITERATIONS REACHED LIMIT.\n",
      "\n",
      "Increase the number of iterations (max_iter) or scale the data as shown in:\n",
      "    https://scikit-learn.org/stable/modules/preprocessing.html\n",
      "Please also refer to the documentation for alternative solver options:\n",
      "    https://scikit-learn.org/stable/modules/linear_model.html#logistic-regression\n",
      "Precision is ill-defined and being set to 0.0 due to no predicted samples. Use `zero_division` parameter to control this behavior.\n",
      "Precision is ill-defined and being set to 0.0 due to no predicted samples. Use `zero_division` parameter to control this behavior.\n",
      "Precision is ill-defined and being set to 0.0 due to no predicted samples. Use `zero_division` parameter to control this behavior.\n",
      "Precision is ill-defined and being set to 0.0 due to no predicted samples. Use `zero_division` parameter to control this behavior.\n",
      "Precision is ill-defined and being set to 0.0 due to no predicted samples. Use `zero_division` parameter to control this behavior.\n",
      "Precision is ill-defined and being set to 0.0 due to no predicted samples. Use `zero_division` parameter to control this behavior.\n",
      "Precision is ill-defined and being set to 0.0 due to no predicted samples. Use `zero_division` parameter to control this behavior.\n",
      "Precision is ill-defined and being set to 0.0 due to no predicted samples. Use `zero_division` parameter to control this behavior.\n",
      "Precision is ill-defined and being set to 0.0 due to no predicted samples. Use `zero_division` parameter to control this behavior.\n",
      "Precision is ill-defined and being set to 0.0 due to no predicted samples. Use `zero_division` parameter to control this behavior.\n",
      "Precision is ill-defined and being set to 0.0 due to no predicted samples. Use `zero_division` parameter to control this behavior.\n",
      "Precision is ill-defined and being set to 0.0 due to no predicted samples. Use `zero_division` parameter to control this behavior.\n",
      "Precision is ill-defined and being set to 0.0 due to no predicted samples. Use `zero_division` parameter to control this behavior.\n",
      "Precision is ill-defined and being set to 0.0 due to no predicted samples. Use `zero_division` parameter to control this behavior.\n",
      "Precision is ill-defined and being set to 0.0 due to no predicted samples. Use `zero_division` parameter to control this behavior.\n",
      "Precision is ill-defined and being set to 0.0 due to no predicted samples. Use `zero_division` parameter to control this behavior.\n",
      "Precision is ill-defined and being set to 0.0 due to no predicted samples. Use `zero_division` parameter to control this behavior.\n"
     ]
    }
   ],
   "source": [
    "score_ls = []\n",
    "\n",
    "signals_df = data_df[[c for c in data_df.columns if c != 'good_bad']].values\n",
    "response_sr = data_df['good_bad'].values\n",
    "\n",
    "for ic, (cl_name, Classifier) in enumerate(classifier_models.items()):\n",
    "    for trial in range(n_runs):\n",
    "        train_signals, test_signals, train_labels, test_labels = train_test_split(signals_df, response_sr, test_size = test_size)\n",
    "        Classifier.fit(train_signals, train_labels)\n",
    "        pred_labels = Classifier.predict(test_signals)\n",
    "        precision = precision_score(test_labels, pred_labels, average='binary')\n",
    "        score_ls.append([cl_name, precision, 'Precision'])\n",
    "        recall = recall_score(test_labels, pred_labels, average='binary')\n",
    "        score_ls.append([cl_name, recall,'Recall'])\n",
    "        F1 = f1_score(test_labels, pred_labels, average='binary')\n",
    "        score_ls.append([cl_name, F1,'f1 Score'])"
   ]
  },
  {
   "cell_type": "code",
   "execution_count": 301,
   "metadata": {},
   "outputs": [
    {
     "data": {
      "image/png": "[encoded data removed]",
      "text/plain": [
       "<Figure size 720x720 with 1 Axes>"
      ]
     },
     "metadata": {
      "needs_background": "light"
     },
     "output_type": "display_data"
    }
   ],
   "source": [
    "metrics_df = pd.DataFrame(score_ls, columns=['Classifier','Score','Score_type']) #building a dataframe with various metrics\n",
    "plt.figure(figsize=(10,10))\n",
    "ax = sns.boxplot(x=\"Classifier\", y=\"Score\", hue=\"Score_type\", data=metrics_df, linewidth=2.5)"
   ]
  },
  {
   "cell_type": "code",
   "execution_count": 252,
   "metadata": {},
   "outputs": [],
   "source": [
    "# choose random forest\n",
    "Classifier = RandomForestClassifier(n_estimators=100, class_weight='balanced')\n",
    "train_signals, test_signals, train_labels, test_labels = train_test_split(signals_df, response_sr, test_size = test_size)\n",
    "Classifier.fit(train_signals, train_labels)\n",
    "predictions = Classifier.predict_proba(test_signals)[:,1]  \n",
    "\n",
    "precision_ls, recall_ls, thresholds_ls = precision_recall_curve(test_labels, predictions)\n",
    "thresholds_ls = np.append(thresholds_ls, 1)\n",
    "review_rate_ls = [] #Initialize the queue rate as an empty list\n",
    "for threshold in thresholds_ls:  \n",
    "    review_rate_ls.append((predictions >= threshold).mean())\n",
    "    \n",
    "plt.figure(figsize=(10,10))\n",
    "plt.plot(thresholds_ls, precision_ls)\n",
    "plt.plot(thresholds_ls, recall_ls)\n",
    "plt.plot(thresholds_ls, review_rate_ls)\n",
    "Legend = plt.legend(('precision', 'recall', 'review rate'), frameon=True, loc='best') \n",
    "Legend.get_frame().set_edgecolor('k')  \n",
    "plt.xlabel('Threshold')  \n",
    "plt.ylabel('Proportion') "
   ]
  },
  {
   "cell_type": "code",
   "execution_count": null,
   "metadata": {},
   "outputs": [],
   "source": []
  },
  {
   "cell_type": "code",
   "execution_count": 324,
   "metadata": {},
   "outputs": [],
   "source": [
    "from imblearn.over_sampling import SMOTE\n",
    "\n",
    "oversample = SMOTE()\n",
    "X, y = oversample.fit_resample(signals_df, response_sr)"
   ]
  },
  {
   "cell_type": "code",
   "execution_count": 327,
   "metadata": {},
   "outputs": [
    {
     "data": {
      "text/plain": [
       "((584, 48), 584, 30)"
      ]
     },
     "execution_count": 327,
     "metadata": {},
     "output_type": "execute_result"
    }
   ],
   "source": [
    "signals_df.shape,len(response_sr), sum(response_sr)"
   ]
  },
  {
   "cell_type": "code",
   "execution_count": 328,
   "metadata": {},
   "outputs": [
    {
     "data": {
      "text/plain": [
       "((1108, 48), 1108, 554)"
      ]
     },
     "execution_count": 328,
     "metadata": {},
     "output_type": "execute_result"
    }
   ],
   "source": [
    "X.shape,len(y),sum(y)"
   ]
  },
  {
   "cell_type": "code",
   "execution_count": 341,
   "metadata": {
    "scrolled": false
   },
   "outputs": [
    {
     "name": "stderr",
     "output_type": "stream",
     "text": [
      "Pass labels=[0 1] as keyword args. From version 1.0 (renaming of 0.25) passing these as positional arguments will result in an error\n",
      "Pass labels=[0 1] as keyword args. From version 1.0 (renaming of 0.25) passing these as positional arguments will result in an error\n"
     ]
    },
    {
     "name": "stdout",
     "output_type": "stream",
     "text": [
      "scale = 1\n",
      "confusion_matrix: \n",
      " [[146   0]\n",
      " [ 52   2]]\n",
      "confusion_matrix_check: \n",
      " [[146   0]\n",
      " [ 52   2]]\n",
      "precision: 100%\n",
      "recall: 4%\n"
     ]
    },
    {
     "name": "stderr",
     "output_type": "stream",
     "text": [
      "Pass labels=[0 1] as keyword args. From version 1.0 (renaming of 0.25) passing these as positional arguments will result in an error\n",
      "Pass labels=[0 1] as keyword args. From version 1.0 (renaming of 0.25) passing these as positional arguments will result in an error\n"
     ]
    },
    {
     "name": "stdout",
     "output_type": "stream",
     "text": [
      "scale = 20\n",
      "confusion_matrix: \n",
      " [[146   0]\n",
      " [ 48   6]]\n",
      "confusion_matrix_check: \n",
      " [[146   0]\n",
      " [ 48   6]]\n",
      "precision: 100%\n",
      "recall: 11%\n"
     ]
    },
    {
     "name": "stderr",
     "output_type": "stream",
     "text": [
      "Pass labels=[0 1] as keyword args. From version 1.0 (renaming of 0.25) passing these as positional arguments will result in an error\n",
      "Pass labels=[0 1] as keyword args. From version 1.0 (renaming of 0.25) passing these as positional arguments will result in an error\n"
     ]
    },
    {
     "name": "stdout",
     "output_type": "stream",
     "text": [
      "scale = 200\n",
      "confusion_matrix: \n",
      " [[137   9]\n",
      " [ 42  12]]\n",
      "confusion_matrix_check: \n",
      " [[137   9]\n",
      " [ 42  12]]\n",
      "precision: 57%\n",
      "recall: 22%\n"
     ]
    },
    {
     "name": "stderr",
     "output_type": "stream",
     "text": [
      "Pass labels=[0 1] as keyword args. From version 1.0 (renaming of 0.25) passing these as positional arguments will result in an error\n",
      "Pass labels=[0 1] as keyword args. From version 1.0 (renaming of 0.25) passing these as positional arguments will result in an error\n"
     ]
    },
    {
     "name": "stdout",
     "output_type": "stream",
     "text": [
      "scale = 2000\n",
      "confusion_matrix: \n",
      " [[135  11]\n",
      " [ 39  15]]\n",
      "confusion_matrix_check: \n",
      " [[135  11]\n",
      " [ 39  15]]\n",
      "precision: 58%\n",
      "recall: 28%\n"
     ]
    },
    {
     "name": "stderr",
     "output_type": "stream",
     "text": [
      "Pass labels=[0 1] as keyword args. From version 1.0 (renaming of 0.25) passing these as positional arguments will result in an error\n",
      "Pass labels=[0 1] as keyword args. From version 1.0 (renaming of 0.25) passing these as positional arguments will result in an error\n"
     ]
    },
    {
     "name": "stdout",
     "output_type": "stream",
     "text": [
      "scale = 20000\n",
      "confusion_matrix: \n",
      " [[131  15]\n",
      " [ 35  19]]\n",
      "confusion_matrix_check: \n",
      " [[131  15]\n",
      " [ 35  19]]\n",
      "precision: 56%\n",
      "recall: 35%\n"
     ]
    },
    {
     "name": "stderr",
     "output_type": "stream",
     "text": [
      "Pass labels=[0 1] as keyword args. From version 1.0 (renaming of 0.25) passing these as positional arguments will result in an error\n",
      "Pass labels=[0 1] as keyword args. From version 1.0 (renaming of 0.25) passing these as positional arguments will result in an error\n"
     ]
    },
    {
     "name": "stdout",
     "output_type": "stream",
     "text": [
      "scale = 200000\n",
      "confusion_matrix: \n",
      " [[130  16]\n",
      " [ 36  18]]\n",
      "confusion_matrix_check: \n",
      " [[130  16]\n",
      " [ 36  18]]\n",
      "precision: 53%\n",
      "recall: 33%\n"
     ]
    },
    {
     "name": "stderr",
     "output_type": "stream",
     "text": [
      "Pass labels=[0 1] as keyword args. From version 1.0 (renaming of 0.25) passing these as positional arguments will result in an error\n",
      "Pass labels=[0 1] as keyword args. From version 1.0 (renaming of 0.25) passing these as positional arguments will result in an error\n"
     ]
    },
    {
     "name": "stdout",
     "output_type": "stream",
     "text": [
      "scale = 2000000\n",
      "confusion_matrix: \n",
      " [[121  25]\n",
      " [ 33  21]]\n",
      "confusion_matrix_check: \n",
      " [[121  25]\n",
      " [ 33  21]]\n",
      "precision: 46%\n",
      "recall: 39%\n"
     ]
    },
    {
     "name": "stderr",
     "output_type": "stream",
     "text": [
      "Pass labels=[0 1] as keyword args. From version 1.0 (renaming of 0.25) passing these as positional arguments will result in an error\n",
      "Pass labels=[0 1] as keyword args. From version 1.0 (renaming of 0.25) passing these as positional arguments will result in an error\n"
     ]
    },
    {
     "name": "stdout",
     "output_type": "stream",
     "text": [
      "scale = 20000000\n",
      "confusion_matrix: \n",
      " [[121  25]\n",
      " [ 34  20]]\n",
      "confusion_matrix_check: \n",
      " [[121  25]\n",
      " [ 34  20]]\n",
      "precision: 44%\n",
      "recall: 37%\n"
     ]
    },
    {
     "name": "stderr",
     "output_type": "stream",
     "text": [
      "Pass labels=[0 1] as keyword args. From version 1.0 (renaming of 0.25) passing these as positional arguments will result in an error\n",
      "Pass labels=[0 1] as keyword args. From version 1.0 (renaming of 0.25) passing these as positional arguments will result in an error\n"
     ]
    },
    {
     "name": "stdout",
     "output_type": "stream",
     "text": [
      "scale = 200000000\n",
      "confusion_matrix: \n",
      " [[114  32]\n",
      " [ 29  25]]\n",
      "confusion_matrix_check: \n",
      " [[114  32]\n",
      " [ 29  25]]\n",
      "precision: 44%\n",
      "recall: 46%\n"
     ]
    },
    {
     "name": "stderr",
     "output_type": "stream",
     "text": [
      "Pass labels=[0 1] as keyword args. From version 1.0 (renaming of 0.25) passing these as positional arguments will result in an error\n",
      "Pass labels=[0 1] as keyword args. From version 1.0 (renaming of 0.25) passing these as positional arguments will result in an error\n"
     ]
    },
    {
     "name": "stdout",
     "output_type": "stream",
     "text": [
      "scale = 2000000000\n",
      "confusion_matrix: \n",
      " [[96 50]\n",
      " [26 28]]\n",
      "confusion_matrix_check: \n",
      " [[96 50]\n",
      " [26 28]]\n",
      "precision: 36%\n",
      "recall: 52%\n"
     ]
    },
    {
     "name": "stderr",
     "output_type": "stream",
     "text": [
      "Pass labels=[0 1] as keyword args. From version 1.0 (renaming of 0.25) passing these as positional arguments will result in an error\n",
      "Pass labels=[0 1] as keyword args. From version 1.0 (renaming of 0.25) passing these as positional arguments will result in an error\n"
     ]
    },
    {
     "name": "stdout",
     "output_type": "stream",
     "text": [
      "scale = 20000000000\n",
      "confusion_matrix: \n",
      " [[65 81]\n",
      " [13 41]]\n",
      "confusion_matrix_check: \n",
      " [[65 81]\n",
      " [13 41]]\n",
      "precision: 34%\n",
      "recall: 76%\n"
     ]
    }
   ],
   "source": [
    "# build xgboost\n",
    "from xgboost import XGBClassifier\n",
    "\n",
    "for scale in [1, 20, 200, 2000, 20000, 200000, 2000000, 20000000, 200000000, 2000000000, 20000000000]:\n",
    "# for scale in [200000000, 2000000000, 20000000000]:\n",
    "\n",
    "    xgb = XGBClassifier(learning_rate = 0.01, n_estimators=2000, \n",
    "                        max_depth=20, scale_pos_weight = scale,\n",
    "                        objective = \"binary:logistic\")\n",
    "    xgb.fit(signals_df, response_sr)\n",
    "#     xgb.fit(X, y)\n",
    "\n",
    "#     predicted_responses_test =xgb.predict(test_signals)\n",
    "#     predicted_probabilities_test =xgb.predict_proba(test_signals)[:,1]\n",
    "#     precision_ls, recall_ls, thresholds_ls = precision_recall_curve(test_labels,predicted_probabilities_test)\n",
    "#     thresholds_ls = np.append(thresholds_ls, 1)\n",
    "    \n",
    "#     plt.figure(figsize=(10,10))\n",
    "#     plt.plot(thresholds_ls, precision_ls)\n",
    "#     plt.plot(thresholds_ls, recall_ls)\n",
    "#     Legend = plt.legend(('precision', 'recall'), frameon=True, loc='best') \n",
    "#     Legend.get_frame().set_edgecolor('k')  \n",
    "#     plt.xlabel('Threshold')  \n",
    "#     plt.ylabel('Proportion') \n",
    "#     plt.show()\n",
    "\n",
    "#     confusion_matrix = CM(test_labels, predicted_responses_test, np.unique(train_labels))\n",
    "#     precision = precision_score(test_labels, predicted_responses_test, average='binary')\n",
    "#     recall = recall_score(test_labels, predicted_responses_test, average='binary')\n",
    "\n",
    "    val_x = holdout[[c for c in holdout.columns if c != 'good_bad']].values\n",
    "    val_y = holdout['good_bad'].values\n",
    "    \n",
    "    val_yhat =xgb.predict(val_x)\n",
    "    predictions_val = xgb.predict_proba(val_x)[:,1]  \n",
    "\n",
    "    confusion_matrix = CM(val_y,  val_yhat, np.unique(train_labels))\n",
    "    confusion_matrix_check = CM(val_y,  np.where(predictions_val>0.5,1,0), np.unique(train_labels))\n",
    "    \n",
    "    precision = round(precision_score(val_y, val_yhat, average='binary')*100)\n",
    "    recall = round(recall_score(val_y, val_yhat, average='binary')*100)\n",
    "    \n",
    "    print(f\"scale = {scale}\")\n",
    "    print(f\"confusion_matrix: \\n {confusion_matrix}\")\n",
    "    print(f\"confusion_matrix_check: \\n {confusion_matrix_check}\")\n",
    "    print(f\"precision: {precision}%\")\n",
    "    print(f\"recall: {recall}%\")"
   ]
  },
  {
   "cell_type": "code",
   "execution_count": 314,
   "metadata": {},
   "outputs": [
    {
     "data": {
      "text/plain": [
       "XGBClassifier(base_score=None, booster=None, colsample_bylevel=None,\n",
       "              colsample_bynode=None, colsample_bytree=None, gamma=None,\n",
       "              gpu_id=None, importance_type='gain', interaction_constraints=None,\n",
       "              learning_rate=0.01, max_delta_step=None, max_depth=20,\n",
       "              min_child_weight=None, missing=nan, monotone_constraints=None,\n",
       "              n_estimators=2000, n_jobs=None, num_parallel_tree=None,\n",
       "              random_state=None, reg_alpha=None, reg_lambda=None,\n",
       "              scale_pos_weight=20000000000, subsample=None, tree_method=None,\n",
       "              validate_parameters=False, verbosity=None)"
      ]
     },
     "execution_count": 314,
     "metadata": {},
     "output_type": "execute_result"
    }
   ],
   "source": [
    "XGBClassifier(learning_rate = 0.01, n_estimators=2000, max_depth=20, scale_pos_weight = scale, objective = \"binary:logistic\")"
   ]
  },
  {
   "cell_type": "code",
   "execution_count": 293,
   "metadata": {},
   "outputs": [
    {
     "name": "stderr",
     "output_type": "stream",
     "text": [
      "Pass labels=[0 1] as keyword args. From version 1.0 (renaming of 0.25) passing these as positional arguments will result in an error\n"
     ]
    },
    {
     "data": {
      "text/plain": [
       "array([[137,   0],\n",
       "       [  0,   7]], dtype=int64)"
      ]
     },
     "execution_count": 293,
     "metadata": {},
     "output_type": "execute_result"
    }
   ],
   "source": [
    "confusion_matrix = CM(test_labels, np.where(predicted_probabilities_test > 0.5,1,0), np.unique(train_labels))\n",
    "confusion_matrix"
   ]
  },
  {
   "cell_type": "code",
   "execution_count": 294,
   "metadata": {},
   "outputs": [],
   "source": [
    "# trying model on hold out\n",
    "\n",
    "val_x = holdout[[c for c in holdout.columns if c != 'good_bad']].values\n",
    "val_y = holdout['good_bad'].values"
   ]
  },
  {
   "cell_type": "code",
   "execution_count": 295,
   "metadata": {},
   "outputs": [
    {
     "name": "stderr",
     "output_type": "stream",
     "text": [
      "Pass labels=[0 1] as keyword args. From version 1.0 (renaming of 0.25) passing these as positional arguments will result in an error\n"
     ]
    },
    {
     "name": "stdout",
     "output_type": "stream",
     "text": [
      "confusion_matrix: \n",
      " [[144   2]\n",
      " [ 50   4]]\n"
     ]
    }
   ],
   "source": [
    "val_yhat =xgb.predict(val_x)\n",
    "predictions_val = xgb.predict_proba(val_x)[:,1]  \n",
    "\n",
    "confusion_matrix = CM(val_y,  val_yhat, np.unique(train_labels))\n",
    "print(f\"confusion_matrix: \\n {confusion_matrix}\")"
   ]
  },
  {
   "cell_type": "code",
   "execution_count": 221,
   "metadata": {},
   "outputs": [],
   "source": [
    "predictions = xgb.predict_proba(val_x)[:,1]  \n",
    "\n",
    "precision_ls, recall_ls, thresholds_ls = precision_recall_curve(val_y, predictions)"
   ]
  },
  {
   "cell_type": "code",
   "execution_count": 222,
   "metadata": {},
   "outputs": [
    {
     "data": {
      "text/plain": [
       "Text(0, 0.5, 'Proportion')"
      ]
     },
     "execution_count": 222,
     "metadata": {},
     "output_type": "execute_result"
    },
    {
     "data": {
      "image/png": "[encoded data removed]",
      "text/plain": [
       "<Figure size 720x720 with 1 Axes>"
      ]
     },
     "metadata": {
      "needs_background": "light"
     },
     "output_type": "display_data"
    }
   ],
   "source": [
    "plt.figure(figsize=(10,10))\n",
    "thresholds_ls = np.append(thresholds_ls, 1)\n",
    "plt.plot(thresholds_ls, precision_ls)\n",
    "plt.plot(thresholds_ls, recall_ls)\n",
    "Legend = plt.legend(('precision', 'recall'), frameon=True, loc='best') \n",
    "Legend.get_frame().set_edgecolor('k')  \n",
    "plt.xlabel('Threshold')  \n",
    "plt.ylabel('Proportion') "
   ]
  },
  {
   "cell_type": "code",
   "execution_count": null,
   "metadata": {},
   "outputs": [],
   "source": [
    "# binary:logistic"
   ]
  },
  {
   "cell_type": "code",
   "execution_count": 210,
   "metadata": {},
   "outputs": [
    {
     "name": "stdout",
     "output_type": "stream",
     "text": [
      "18 125 20 37\n"
     ]
    }
   ],
   "source": [
    "chk = pd.DataFrame({\"val_y\":val_y, \"val_yhat\":val_yhat})\n",
    "print(len(chk[(chk[\"val_y\"] == 1) & (chk[\"val_yhat\"] == 1)]),\n",
    "len(chk[(chk[\"val_y\"] == 0) & (chk[\"val_yhat\"] == 0)]),\n",
    "len(chk[(chk[\"val_y\"] == 0) & (chk[\"val_yhat\"] == 1)]),\n",
    "len(chk[(chk[\"val_y\"] == 1) & (chk[\"val_yhat\"] == 0)]))"
   ]
  },
  {
   "cell_type": "code",
   "execution_count": 150,
   "metadata": {},
   "outputs": [
    {
     "data": {
      "text/plain": [
       "array([[9.99776423e-01, 2.23584910e-04],\n",
       "       [9.97127354e-01, 2.87265773e-03],\n",
       "       [9.98135030e-01, 1.86495273e-03],\n",
       "       [8.39074731e-01, 1.60925269e-01],\n",
       "       [9.99679208e-01, 3.20774066e-04],\n",
       "       [9.99940872e-01, 5.91121825e-05],\n",
       "       [9.59974229e-01, 4.00257781e-02],\n",
       "       [9.99866366e-01, 1.33620793e-04],\n",
       "       [9.99210179e-01, 7.89830636e-04],\n",
       "       [9.85010922e-01, 1.49890855e-02],\n",
       "       [9.60454404e-01, 3.95455882e-02],\n",
       "       [9.97419178e-01, 2.58079381e-03],\n",
       "       [9.38209593e-01, 6.17904030e-02],\n",
       "       [9.94651854e-01, 5.34816971e-03],\n",
       "       [9.99528408e-01, 4.71585750e-04],\n",
       "       [9.99574363e-01, 4.25643317e-04],\n",
       "       [9.84757125e-01, 1.52428588e-02],\n",
       "       [9.99777853e-01, 2.22129398e-04],\n",
       "       [5.68500996e-01, 4.31499004e-01],\n",
       "       [9.98157144e-01, 1.84287422e-03],\n",
       "       [9.98351157e-01, 1.64883444e-03],\n",
       "       [5.52545249e-01, 4.47454751e-01],\n",
       "       [8.88891935e-01, 1.11108094e-01],\n",
       "       [9.95936513e-01, 4.06350382e-03],\n",
       "       [9.99508142e-01, 4.91860381e-04],\n",
       "       [9.97469187e-01, 2.53084162e-03],\n",
       "       [9.98465955e-01, 1.53402309e-03],\n",
       "       [9.97674823e-01, 2.32518488e-03],\n",
       "       [9.34575379e-01, 6.54246435e-02],\n",
       "       [9.34838057e-01, 6.51619583e-02],\n",
       "       [9.28948522e-01, 7.10514784e-02],\n",
       "       [9.99966204e-01, 3.37875790e-05],\n",
       "       [9.70753074e-01, 2.92469133e-02],\n",
       "       [9.99104202e-01, 8.95785459e-04],\n",
       "       [9.99323785e-01, 6.76237512e-04],\n",
       "       [9.79174554e-01, 2.08254382e-02],\n",
       "       [9.99431193e-01, 5.68830117e-04],\n",
       "       [9.99960005e-01, 3.99881537e-05],\n",
       "       [9.99799550e-01, 2.00432318e-04],\n",
       "       [9.78576779e-01, 2.14232374e-02],\n",
       "       [9.74583745e-01, 2.54162438e-02],\n",
       "       [9.99724746e-01, 2.75277795e-04],\n",
       "       [9.89552081e-01, 1.04479110e-02],\n",
       "       [9.92048442e-01, 7.95155391e-03],\n",
       "       [5.18096566e-01, 4.81903404e-01],\n",
       "       [9.99322593e-01, 6.77381759e-04],\n",
       "       [9.84119356e-01, 1.58806536e-02],\n",
       "       [9.99432921e-01, 5.67050010e-04],\n",
       "       [6.90447807e-01, 3.09552222e-01],\n",
       "       [9.99966979e-01, 3.30292896e-05],\n",
       "       [9.92573023e-01, 7.42699113e-03],\n",
       "       [8.11182857e-01, 1.88817143e-01],\n",
       "       [9.97063637e-01, 2.93633901e-03],\n",
       "       [1.08809829e-01, 8.91190171e-01],\n",
       "       [9.99845743e-01, 1.54231413e-04],\n",
       "       [9.99819160e-01, 1.80866773e-04],\n",
       "       [9.85107839e-01, 1.48921423e-02],\n",
       "       [9.90740418e-01, 9.25958436e-03],\n",
       "       [9.90519285e-01, 9.48070548e-03],\n",
       "       [9.91688311e-01, 8.31170566e-03],\n",
       "       [9.95576560e-01, 4.42345906e-03],\n",
       "       [6.78854644e-01, 3.21145356e-01],\n",
       "       [9.28493619e-01, 7.15063587e-02],\n",
       "       [9.99895036e-01, 1.04934094e-04],\n",
       "       [9.97907817e-01, 2.09219800e-03],\n",
       "       [9.98116434e-01, 1.88354449e-03],\n",
       "       [7.28419304e-01, 2.71580726e-01],\n",
       "       [9.99395609e-01, 6.04409201e-04],\n",
       "       [9.97255743e-01, 2.74424395e-03],\n",
       "       [9.99407351e-01, 5.92644152e-04],\n",
       "       [9.91300404e-01, 8.69959965e-03],\n",
       "       [7.96191514e-01, 2.03808486e-01],\n",
       "       [9.98669863e-01, 1.33012549e-03],\n",
       "       [9.97833371e-01, 2.16660299e-03],\n",
       "       [9.93693888e-01, 6.30610902e-03],\n",
       "       [9.99273300e-01, 7.26670318e-04],\n",
       "       [9.55181062e-01, 4.48189192e-02],\n",
       "       [9.63018954e-01, 3.69810462e-02],\n",
       "       [9.86217678e-01, 1.37823168e-02],\n",
       "       [5.60095906e-01, 4.39904064e-01],\n",
       "       [9.99157488e-01, 8.42525042e-04],\n",
       "       [9.81715083e-01, 1.82849001e-02],\n",
       "       [9.98319805e-01, 1.68016728e-03],\n",
       "       [9.99591649e-01, 4.08370019e-04],\n",
       "       [9.99856710e-01, 1.43261233e-04],\n",
       "       [8.40906262e-01, 1.59093738e-01],\n",
       "       [9.96846497e-01, 3.15348757e-03],\n",
       "       [9.97971892e-01, 2.02812348e-03],\n",
       "       [9.89299953e-01, 1.07000452e-02],\n",
       "       [9.99848187e-01, 1.51806031e-04],\n",
       "       [9.94677126e-01, 5.32289641e-03],\n",
       "       [9.94271576e-01, 5.72843198e-03],\n",
       "       [9.99912620e-01, 8.73530953e-05],\n",
       "       [9.85092938e-01, 1.49070574e-02],\n",
       "       [9.99880493e-01, 1.19499746e-04],\n",
       "       [4.71663892e-01, 5.28336108e-01],\n",
       "       [9.92944658e-01, 7.05532823e-03],\n",
       "       [9.89430368e-01, 1.05696609e-02],\n",
       "       [9.89043951e-01, 1.09560527e-02],\n",
       "       [9.99855101e-01, 1.44906458e-04],\n",
       "       [9.99221921e-01, 7.78064481e-04],\n",
       "       [9.88348007e-01, 1.16519835e-02],\n",
       "       [9.99732435e-01, 2.67587922e-04],\n",
       "       [9.98541594e-01, 1.45839574e-03],\n",
       "       [9.70582902e-01, 2.94170789e-02],\n",
       "       [9.99622643e-01, 3.77345510e-04],\n",
       "       [9.99040365e-01, 9.59615689e-04],\n",
       "       [9.74456847e-01, 2.55431347e-02],\n",
       "       [9.93325293e-01, 6.67469483e-03],\n",
       "       [9.99741793e-01, 2.58237007e-04],\n",
       "       [9.94516492e-01, 5.48350904e-03],\n",
       "       [9.99839425e-01, 1.60595111e-04],\n",
       "       [9.99284685e-01, 7.15301256e-04],\n",
       "       [9.70642447e-01, 2.93575805e-02],\n",
       "       [9.99929249e-01, 7.07673753e-05],\n",
       "       [9.96974885e-01, 3.02510126e-03],\n",
       "       [9.98744130e-01, 1.25589827e-03],\n",
       "       [9.99364018e-01, 6.36010547e-04],\n",
       "       [9.99793351e-01, 2.06636134e-04],\n",
       "       [9.99724209e-01, 2.75783212e-04],\n",
       "       [2.65334249e-02, 9.73466575e-01],\n",
       "       [9.64561284e-01, 3.54387313e-02],\n",
       "       [7.93332040e-01, 2.06667960e-01],\n",
       "       [9.99080896e-01, 9.19074519e-04],\n",
       "       [9.96586144e-01, 3.41383484e-03],\n",
       "       [9.71769750e-01, 2.82302480e-02],\n",
       "       [9.97913778e-01, 2.08619866e-03],\n",
       "       [9.88609016e-01, 1.13909850e-02],\n",
       "       [9.99846399e-01, 1.53605302e-04],\n",
       "       [9.99700367e-01, 2.99636333e-04],\n",
       "       [9.99918282e-01, 8.17014297e-05],\n",
       "       [9.80922639e-01, 1.90773420e-02],\n",
       "       [8.99209976e-01, 1.00790001e-01],\n",
       "       [9.99934196e-01, 6.58266581e-05],\n",
       "       [9.98118997e-01, 1.88097695e-03],\n",
       "       [9.97766972e-01, 2.23304029e-03],\n",
       "       [9.98008370e-01, 1.99165358e-03],\n",
       "       [9.98634160e-01, 1.36586546e-03],\n",
       "       [9.99914527e-01, 8.54937753e-05],\n",
       "       [9.99864757e-01, 1.35237555e-04],\n",
       "       [9.97858524e-01, 2.14148685e-03],\n",
       "       [9.98464763e-01, 1.53524254e-03],\n",
       "       [9.92206216e-01, 7.79379532e-03],\n",
       "       [9.99976039e-01, 2.39577566e-05],\n",
       "       [9.99708891e-01, 2.91132659e-04],\n",
       "       [9.98485804e-01, 1.51418138e-03],\n",
       "       [9.52016830e-01, 4.79831919e-02],\n",
       "       [9.99481201e-01, 5.18785906e-04],\n",
       "       [9.97521937e-01, 2.47803819e-03],\n",
       "       [9.98014867e-01, 1.98510755e-03],\n",
       "       [9.99913037e-01, 8.69648720e-05],\n",
       "       [5.02248526e-01, 4.97751504e-01],\n",
       "       [9.92799461e-01, 7.20054144e-03],\n",
       "       [9.99145806e-01, 8.54180311e-04],\n",
       "       [7.41540670e-01, 2.58459300e-01],\n",
       "       [7.77977526e-01, 2.22022489e-01],\n",
       "       [9.97281313e-01, 2.71869730e-03],\n",
       "       [9.96233582e-01, 3.76643892e-03],\n",
       "       [9.98020291e-01, 1.97973568e-03],\n",
       "       [9.98864293e-01, 1.13572483e-03],\n",
       "       [9.90210116e-01, 9.78989247e-03],\n",
       "       [9.98425364e-01, 1.57463853e-03],\n",
       "       [9.99920249e-01, 7.97487883e-05],\n",
       "       [9.99611795e-01, 3.88201734e-04],\n",
       "       [9.99974787e-01, 2.52216669e-05],\n",
       "       [9.99899983e-01, 1.00001424e-04],\n",
       "       [9.70688045e-01, 2.93119401e-02],\n",
       "       [9.98230934e-01, 1.76906982e-03],\n",
       "       [9.97232616e-01, 2.76736426e-03],\n",
       "       [9.98978734e-01, 1.02126959e-03],\n",
       "       [9.61508751e-01, 3.84912267e-02],\n",
       "       [9.86925006e-01, 1.30749987e-02],\n",
       "       [9.99910653e-01, 8.93493343e-05],\n",
       "       [9.09326553e-01, 9.06734318e-02],\n",
       "       [9.90238965e-01, 9.76101216e-03],\n",
       "       [9.99264777e-01, 7.35213689e-04],\n",
       "       [9.48251963e-01, 5.17480299e-02],\n",
       "       [9.13488984e-01, 8.65110084e-02],\n",
       "       [9.94516790e-01, 5.48321754e-03],\n",
       "       [9.99569356e-01, 4.30624204e-04],\n",
       "       [8.38610649e-01, 1.61389381e-01],\n",
       "       [5.89844942e-01, 4.10155028e-01],\n",
       "       [9.95571256e-01, 4.42877319e-03],\n",
       "       [8.14312220e-01, 1.85687751e-01],\n",
       "       [9.99800026e-01, 1.99964852e-04],\n",
       "       [9.98315632e-01, 1.68434996e-03],\n",
       "       [9.96044338e-01, 3.95564968e-03],\n",
       "       [9.99050915e-01, 9.49109031e-04],\n",
       "       [9.75269258e-01, 2.47307494e-02],\n",
       "       [9.81422126e-01, 1.85778551e-02],\n",
       "       [9.93636847e-01, 6.36315765e-03],\n",
       "       [9.85346198e-01, 1.46538261e-02],\n",
       "       [9.98515368e-01, 1.48461852e-03],\n",
       "       [9.99030828e-01, 9.69182118e-04],\n",
       "       [2.11801469e-01, 7.88198531e-01],\n",
       "       [9.97327805e-01, 2.67218240e-03],\n",
       "       [6.38597548e-01, 3.61402452e-01],\n",
       "       [9.97756004e-01, 2.24402081e-03],\n",
       "       [9.84562337e-01, 1.54376486e-02],\n",
       "       [2.20979750e-01, 7.79020250e-01]], dtype=float32)"
      ]
     },
     "execution_count": 150,
     "metadata": {},
     "output_type": "execute_result"
    }
   ],
   "source": [
    "xgb.predict_proba(val_x)\n",
    "# print(xgb.classes_)"
   ]
  },
  {
   "cell_type": "code",
   "execution_count": 25,
   "metadata": {},
   "outputs": [
    {
     "data": {
      "text/plain": [
       "array([0, 0, 0, 1, 1, 0, 0, 1, 0, 0, 1, 1, 1, 0, 1, 0, 0, 0, 1, 0, 1, 0,\n",
       "       0, 0, 0, 1, 0, 0, 0, 0, 1, 0, 0, 1, 1, 1, 1, 1, 0, 0, 0, 1, 0, 0,\n",
       "       0, 0, 0, 1, 0, 0, 1, 1, 0, 1, 0, 0, 0, 0, 0, 0, 0, 0, 0, 0, 0, 1,\n",
       "       0, 0, 0, 0, 0, 0, 1, 0, 0, 0, 0, 1, 1, 1, 0, 0, 0, 0, 0, 0, 1, 0,\n",
       "       0, 0, 0, 0, 1, 0, 0, 1, 1, 0, 0, 0, 0, 0, 0, 0, 0, 1, 0, 1, 0, 1,\n",
       "       0, 0, 0, 0, 0, 0, 0, 0, 0, 1, 0, 0, 1, 0, 0, 0, 0, 0, 0, 1, 0, 0,\n",
       "       1, 1, 0, 0, 0, 0, 0, 0, 1, 0, 1, 0, 0, 0, 0, 0, 0, 0, 0, 1, 1, 0,\n",
       "       1, 1, 0, 1, 0, 0, 1, 0, 0, 0, 0, 0, 1, 1, 1, 1, 0, 0, 0, 1, 0, 0,\n",
       "       0, 1, 0, 0, 0, 0, 0, 0, 0, 0, 0, 0, 1, 0, 0, 1, 0, 0, 0, 0, 1, 0,\n",
       "       0, 0, 1, 1, 0, 0, 0, 0, 1, 0, 0, 0, 0, 0, 0, 1, 0, 0, 0, 0, 0, 0,\n",
       "       1, 0, 0, 1, 0, 0, 0, 1, 0, 0, 1, 0, 0, 0, 1, 0, 0, 0, 0, 0, 0, 0,\n",
       "       1, 0, 0, 1, 0, 0, 1, 0, 0, 0, 0, 0, 0, 0, 0, 1, 0, 0, 0, 0, 0, 0,\n",
       "       0, 1, 0, 0, 1, 0, 1, 0, 0, 0, 0, 0, 1, 0, 0, 1, 0, 0, 0, 0, 0, 0,\n",
       "       0, 0, 0, 0, 1, 0, 0, 1, 0, 1, 0, 0, 0, 0])"
      ]
     },
     "execution_count": 25,
     "metadata": {},
     "output_type": "execute_result"
    }
   ],
   "source": [
    "xgb.predict(test_signals)\n"
   ]
  },
  {
   "cell_type": "code",
   "execution_count": 30,
   "metadata": {},
   "outputs": [],
   "source": [
    "from sklearn.model_selection import cross_val_score\n",
    "\n",
    "xgb_cv = XGBClassifier(n_estimators=100)\n",
    "scores = cross_val_score(xgb_cv, train_signals, train_labels, cv=10, scoring = \"accuracy\")"
   ]
  },
  {
   "cell_type": "code",
   "execution_count": 31,
   "metadata": {},
   "outputs": [
    {
     "data": {
      "text/plain": [
       "array([0.8       , 0.71428571, 0.77142857, 0.78571429, 0.77142857,\n",
       "       0.81428571, 0.78571429, 0.74285714, 0.72857143, 0.8       ])"
      ]
     },
     "execution_count": 31,
     "metadata": {},
     "output_type": "execute_result"
    }
   ],
   "source": [
    "scores"
   ]
  },
  {
   "cell_type": "code",
   "execution_count": null,
   "metadata": {},
   "outputs": [],
   "source": []
  },
  {
   "cell_type": "code",
   "execution_count": null,
   "metadata": {},
   "outputs": [],
   "source": []
  },
  {
   "cell_type": "code",
   "execution_count": 12,
   "metadata": {},
   "outputs": [
    {
     "name": "stderr",
     "output_type": "stream",
     "text": [
      "C:\\Users\\jstep\\Anaconda3\\lib\\site-packages\\tensorflow\\python\\framework\\dtypes.py:516: FutureWarning: Passing (type, 1) or '1type' as a synonym of type is deprecated; in a future version of numpy, it will be understood as (type, (1,)) / '(1,)type'.\n",
      "  _np_qint8 = np.dtype([(\"qint8\", np.int8, 1)])\n",
      "C:\\Users\\jstep\\Anaconda3\\lib\\site-packages\\tensorflow\\python\\framework\\dtypes.py:517: FutureWarning: Passing (type, 1) or '1type' as a synonym of type is deprecated; in a future version of numpy, it will be understood as (type, (1,)) / '(1,)type'.\n",
      "  _np_quint8 = np.dtype([(\"quint8\", np.uint8, 1)])\n",
      "C:\\Users\\jstep\\Anaconda3\\lib\\site-packages\\tensorflow\\python\\framework\\dtypes.py:518: FutureWarning: Passing (type, 1) or '1type' as a synonym of type is deprecated; in a future version of numpy, it will be understood as (type, (1,)) / '(1,)type'.\n",
      "  _np_qint16 = np.dtype([(\"qint16\", np.int16, 1)])\n",
      "C:\\Users\\jstep\\Anaconda3\\lib\\site-packages\\tensorflow\\python\\framework\\dtypes.py:519: FutureWarning: Passing (type, 1) or '1type' as a synonym of type is deprecated; in a future version of numpy, it will be understood as (type, (1,)) / '(1,)type'.\n",
      "  _np_quint16 = np.dtype([(\"quint16\", np.uint16, 1)])\n",
      "C:\\Users\\jstep\\Anaconda3\\lib\\site-packages\\tensorflow\\python\\framework\\dtypes.py:520: FutureWarning: Passing (type, 1) or '1type' as a synonym of type is deprecated; in a future version of numpy, it will be understood as (type, (1,)) / '(1,)type'.\n",
      "  _np_qint32 = np.dtype([(\"qint32\", np.int32, 1)])\n",
      "C:\\Users\\jstep\\Anaconda3\\lib\\site-packages\\tensorflow\\python\\framework\\dtypes.py:525: FutureWarning: Passing (type, 1) or '1type' as a synonym of type is deprecated; in a future version of numpy, it will be understood as (type, (1,)) / '(1,)type'.\n",
      "  np_resource = np.dtype([(\"resource\", np.ubyte, 1)])\n",
      "C:\\Users\\jstep\\Anaconda3\\lib\\site-packages\\tensorboard\\compat\\tensorflow_stub\\dtypes.py:541: FutureWarning: Passing (type, 1) or '1type' as a synonym of type is deprecated; in a future version of numpy, it will be understood as (type, (1,)) / '(1,)type'.\n",
      "  _np_qint8 = np.dtype([(\"qint8\", np.int8, 1)])\n",
      "C:\\Users\\jstep\\Anaconda3\\lib\\site-packages\\tensorboard\\compat\\tensorflow_stub\\dtypes.py:542: FutureWarning: Passing (type, 1) or '1type' as a synonym of type is deprecated; in a future version of numpy, it will be understood as (type, (1,)) / '(1,)type'.\n",
      "  _np_quint8 = np.dtype([(\"quint8\", np.uint8, 1)])\n",
      "C:\\Users\\jstep\\Anaconda3\\lib\\site-packages\\tensorboard\\compat\\tensorflow_stub\\dtypes.py:543: FutureWarning: Passing (type, 1) or '1type' as a synonym of type is deprecated; in a future version of numpy, it will be understood as (type, (1,)) / '(1,)type'.\n",
      "  _np_qint16 = np.dtype([(\"qint16\", np.int16, 1)])\n",
      "C:\\Users\\jstep\\Anaconda3\\lib\\site-packages\\tensorboard\\compat\\tensorflow_stub\\dtypes.py:544: FutureWarning: Passing (type, 1) or '1type' as a synonym of type is deprecated; in a future version of numpy, it will be understood as (type, (1,)) / '(1,)type'.\n",
      "  _np_quint16 = np.dtype([(\"quint16\", np.uint16, 1)])\n",
      "C:\\Users\\jstep\\Anaconda3\\lib\\site-packages\\tensorboard\\compat\\tensorflow_stub\\dtypes.py:545: FutureWarning: Passing (type, 1) or '1type' as a synonym of type is deprecated; in a future version of numpy, it will be understood as (type, (1,)) / '(1,)type'.\n",
      "  _np_qint32 = np.dtype([(\"qint32\", np.int32, 1)])\n",
      "C:\\Users\\jstep\\Anaconda3\\lib\\site-packages\\tensorboard\\compat\\tensorflow_stub\\dtypes.py:550: FutureWarning: Passing (type, 1) or '1type' as a synonym of type is deprecated; in a future version of numpy, it will be understood as (type, (1,)) / '(1,)type'.\n",
      "  np_resource = np.dtype([(\"resource\", np.ubyte, 1)])\n"
     ]
    }
   ],
   "source": [
    "# shap values\n",
    "import shap"
   ]
  },
  {
   "cell_type": "code",
   "execution_count": 13,
   "metadata": {},
   "outputs": [],
   "source": [
    "explainer = shap.TreeExplainer(Classifier)"
   ]
  },
  {
   "cell_type": "code",
   "execution_count": 14,
   "metadata": {},
   "outputs": [],
   "source": [
    "shap_values = explainer.shap_values(train_signals)\n"
   ]
  },
  {
   "cell_type": "code",
   "execution_count": 15,
   "metadata": {},
   "outputs": [
    {
     "data": {
      "image/png": "[encoded data removed]",
      "text/plain": [
       "<Figure size 576x684 with 1 Axes>"
      ]
     },
     "metadata": {
      "needs_background": "light"
     },
     "output_type": "display_data"
    }
   ],
   "source": [
    "shap.summary_plot(shap_values, train_signals)"
   ]
  },
  {
   "cell_type": "code",
   "execution_count": 342,
   "metadata": {},
   "outputs": [
    {
     "name": "stderr",
     "output_type": "stream",
     "text": [
      "warning: LF will be replaced by CRLF in workflow encode.ipynb.\n",
      "The file will have its original line endings in your working directory\n",
      "warning: LF will be replaced by CRLF in workflow normal.ipynb.\n",
      "The file will have its original line endings in your working directory\n",
      "warning: LF will be replaced by CRLF in .ipynb_checkpoints/workflow imbalanced-checkpoint.ipynb.\n",
      "The file will have its original line endings in your working directory\n",
      "warning: LF will be replaced by CRLF in workflow imbalanced.ipynb.\n",
      "The file will have its original line endings in your working directory\n"
     ]
    },
    {
     "name": "stdout",
     "output_type": "stream",
     "text": [
      "[master 26fe9d6] adding confusion matrices\n",
      " 4 files changed, 8182 insertions(+), 434 deletions(-)\n",
      " create mode 100644 .ipynb_checkpoints/workflow imbalanced-checkpoint.ipynb\n",
      " create mode 100644 workflow imbalanced.ipynb\n",
      " rewrite workflow normal.ipynb (88%)\n"
     ]
    },
    {
     "name": "stderr",
     "output_type": "stream",
     "text": [
      "To https://github.com/jstephenj14/classification-model-workflow.git\n",
      "   4437646..26fe9d6  master -> master\n"
     ]
    }
   ],
   "source": [
    "! git add .\n",
    "! git commit -m \"adding confusion matrices\"\n",
    "! git push"
   ]
  },
  {
   "cell_type": "code",
   "execution_count": null,
   "metadata": {},
   "outputs": [],
   "source": []
  }
 ],
 "metadata": {
  "kernelspec": {
   "display_name": "Python 3",
   "language": "python",
   "name": "python3"
  },
  "language_info": {
   "codemirror_mode": {
    "name": "ipython",
    "version": 3
   },
   "file_extension": ".py",
   "mimetype": "text/x-python",
   "name": "python",
   "nbconvert_exporter": "python",
   "pygments_lexer": "ipython3",
   "version": "3.7.3"
  }
 },
 "nbformat": 4,
 "nbformat_minor": 5
}
